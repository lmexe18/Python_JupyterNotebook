{
 "cells": [
  {
   "cell_type": "markdown",
   "id": "38256d92-59bf-41bc-ad04-b647050954c2",
   "metadata": {},
   "source": [
    "### 1. Documentation reading\n",
    "\n",
    "A big part of deep learning (and learning to code in general) is getting familiar with the documentation of a certain framework you're using. We'll be using the PyTorch documentation a lot throughout the rest of this course. So I'd recommend spending 10-minutes reading the following (it's okay if you don't get some things for now, the focus is not yet full understanding, it's awareness). See the documentation on torch.Tensor and for torch.cuda."
   ]
  },
  {
   "cell_type": "markdown",
   "id": "1c383139-5478-4795-bcb2-02069bb07e0f",
   "metadata": {},
   "source": [
    "Este apartado es de lectura."
   ]
  },
  {
   "cell_type": "markdown",
   "id": "9b33cde2-c688-415c-b757-d307895eeddb",
   "metadata": {},
   "source": [
    "### 2. Create a random tensor with shape (7, 7)."
   ]
  },
  {
   "cell_type": "code",
   "execution_count": 35,
   "id": "da3c5177-ce6d-4532-abaf-6889f4158769",
   "metadata": {},
   "outputs": [
    {
     "data": {
      "text/plain": [
       "(tensor([[0.8549, 0.5509, 0.2868, 0.2063, 0.4451, 0.3593, 0.7204],\n",
       "         [0.0731, 0.9699, 0.1078, 0.8829, 0.4132, 0.7572, 0.6948],\n",
       "         [0.5209, 0.5932, 0.8797, 0.6286, 0.7653, 0.1132, 0.8559],\n",
       "         [0.6721, 0.6267, 0.5691, 0.7437, 0.9592, 0.3887, 0.2214],\n",
       "         [0.3742, 0.1953, 0.7405, 0.2529, 0.2332, 0.9314, 0.9575],\n",
       "         [0.5575, 0.4134, 0.4355, 0.7369, 0.0331, 0.0914, 0.8994],\n",
       "         [0.9936, 0.4703, 0.1049, 0.5137, 0.2674, 0.4990, 0.7447]]),\n",
       " torch.Size([7, 7]))"
      ]
     },
     "execution_count": 35,
     "metadata": {},
     "output_type": "execute_result"
    }
   ],
   "source": [
    "import torch \n",
    "\n",
    "X = torch.rand(size=(7, 7))\n",
    "X, X.shape"
   ]
  },
  {
   "cell_type": "markdown",
   "id": "dca499a4-bdf3-4ed8-a707-ed0c87a268b9",
   "metadata": {},
   "source": [
    "### 3. Perform a matrix multiplication on the tensor from 2 with another random tensor with shape (1, 7) (hint: you may have to transpose the second tensor)."
   ]
  },
  {
   "cell_type": "code",
   "execution_count": 37,
   "id": "fe98521f-1d97-4119-a674-d80988c7f5a1",
   "metadata": {},
   "outputs": [
    {
     "data": {
      "text/plain": [
       "(tensor([[1.6914],\n",
       "         [1.7581],\n",
       "         [2.0906],\n",
       "         [1.8975],\n",
       "         [1.7585],\n",
       "         [1.7961],\n",
       "         [1.8900]]),\n",
       " torch.Size([7, 1]))"
      ]
     },
     "execution_count": 37,
     "metadata": {},
     "output_type": "execute_result"
    }
   ],
   "source": [
    "Y = torch.rand(size=(1, 7))\n",
    "# Z = torch.matmul(X, Y) # da error\n",
    "Z = torch.matmul(X, Y.T) \n",
    "Z, Z.shape"
   ]
  },
  {
   "cell_type": "markdown",
   "id": "26a93d3d-8dc6-4fc9-821b-3541fda259ed",
   "metadata": {},
   "source": [
    "### 4.Set the random seed to 0 and do exercises 2 & 3 over again."
   ]
  },
  {
   "cell_type": "code",
   "execution_count": 39,
   "id": "cb006966-12d8-4423-b8f0-2795e9af59af",
   "metadata": {},
   "outputs": [
    {
     "data": {
      "text/plain": [
       "(tensor([[1.8542],\n",
       "         [1.9611],\n",
       "         [2.2884],\n",
       "         [3.0481],\n",
       "         [1.7067],\n",
       "         [2.5290],\n",
       "         [1.7989]]),\n",
       " torch.Size([7, 1]))"
      ]
     },
     "execution_count": 39,
     "metadata": {},
     "output_type": "execute_result"
    }
   ],
   "source": [
    "torch.manual_seed(0)\n",
    "\n",
    "X = torch.rand(size=(7, 7))\n",
    "Y = torch.rand(size=(1, 7))\n",
    "\n",
    "Z = torch.matmul(X, Y.T)\n",
    "Z, Z.shape"
   ]
  },
  {
   "cell_type": "markdown",
   "id": "169a5d43-0c08-4d5c-ad36-2a2f08a31efc",
   "metadata": {},
   "source": [
    "### 5. Speaking of random seeds, we saw how to set it with torch.manual_seed() but is there a GPU equivalent? (hint: you'll need to look into the documentation for torch.cuda for this one). If there is, set the GPU random seed to 1234."
   ]
  },
  {
   "cell_type": "code",
   "execution_count": 41,
   "id": "e4eaa7ac-86bd-463c-8940-57ea31c06a48",
   "metadata": {},
   "outputs": [],
   "source": [
    "torch.cuda.manual_seed(1234)"
   ]
  },
  {
   "cell_type": "markdown",
   "id": "c50e4167-4afd-4acb-81af-b5013c7313ab",
   "metadata": {},
   "source": [
    "### 6. Create two random tensors of shape (2, 3) and send them both to the GPU (you'll need access to a GPU for this). Set torch.manual_seed(1234) when creating the tensors (this doesn't have to be the GPU random seed)."
   ]
  },
  {
   "cell_type": "code",
   "execution_count": 43,
   "id": "74519730-19e5-4b84-9b1a-f2ca574a6f9e",
   "metadata": {},
   "outputs": [
    {
     "name": "stdout",
     "output_type": "stream",
     "text": [
      "Device: cpu\n"
     ]
    },
    {
     "data": {
      "text/plain": [
       "(tensor([[0.0290, 0.4019, 0.2598],\n",
       "         [0.3666, 0.0583, 0.7006]]),\n",
       " tensor([[0.0518, 0.4681, 0.6738],\n",
       "         [0.3315, 0.7837, 0.5631]]))"
      ]
     },
     "execution_count": 43,
     "metadata": {},
     "output_type": "execute_result"
    }
   ],
   "source": [
    "torch.manual_seed(1234)\n",
    "\n",
    "device = \"cuda\" if torch.cuda.is_available() else \"cpu\"\n",
    "print(f\"Device: {device}\")\n",
    "\n",
    "tensor_A = torch.rand(size=(2,3)).to(device)\n",
    "tensor_B = torch.rand(size=(2,3)).to(device)\n",
    "tensor_A, tensor_B"
   ]
  },
  {
   "cell_type": "markdown",
   "id": "824c1748-9943-4f98-9225-2ae793c379b5",
   "metadata": {},
   "source": [
    "### 7. Perform a matrix multiplication on the tensors you created in 6 (again, you may have to adjust the shapes of one of the tensors)."
   ]
  },
  {
   "cell_type": "code",
   "execution_count": 45,
   "id": "6baee1cc-8d53-41d3-82fc-a4cc0aa71262",
   "metadata": {},
   "outputs": [
    {
     "data": {
      "text/plain": [
       "(tensor([[0.3647, 0.4709],\n",
       "         [0.5184, 0.5617]]),\n",
       " torch.Size([2, 2]))"
      ]
     },
     "execution_count": 45,
     "metadata": {},
     "output_type": "execute_result"
    }
   ],
   "source": [
    "# tensor_C = torch.matmul(tensor_A, tensor_B) # No funciona\n",
    "tensor_C = torch.matmul(tensor_A, tensor_B.T)\n",
    "tensor_C, tensor_C.shape"
   ]
  },
  {
   "cell_type": "markdown",
   "id": "cd206920-ff81-4783-9df5-433534deab28",
   "metadata": {},
   "source": [
    "### 8. Find the maximum and minimum values of the output of 7."
   ]
  },
  {
   "cell_type": "code",
   "execution_count": 47,
   "id": "e16347ec-1622-4206-ba94-04adec6ca03c",
   "metadata": {},
   "outputs": [
    {
     "data": {
      "text/plain": [
       "(tensor(0.5617), tensor(0.3647))"
      ]
     },
     "execution_count": 47,
     "metadata": {},
     "output_type": "execute_result"
    }
   ],
   "source": [
    "max = torch.max(tensor_C)\n",
    "min = torch.min(tensor_C)\n",
    "max, min"
   ]
  },
  {
   "cell_type": "markdown",
   "id": "6d7e7365-ba24-4c3a-aff6-e460a3a37e81",
   "metadata": {},
   "source": [
    "### 9. Find the maximum and minimum index values of the output of 7."
   ]
  },
  {
   "cell_type": "code",
   "execution_count": 49,
   "id": "7fabf50c-fea1-4861-a499-633c02a22920",
   "metadata": {},
   "outputs": [
    {
     "data": {
      "text/plain": [
       "(tensor(3), tensor(0))"
      ]
     },
     "execution_count": 49,
     "metadata": {},
     "output_type": "execute_result"
    }
   ],
   "source": [
    "arg_max = torch.argmax(tensor_C)\n",
    "arg_min = torch.argmin(tensor_C)\n",
    "arg_max, arg_min"
   ]
  },
  {
   "cell_type": "markdown",
   "id": "8e93e552-604a-4805-812d-1519d137df7d",
   "metadata": {},
   "source": [
    "### 10. Make a random tensor with shape (1, 1, 1, 10) and then create a new tensor with all the 1 dimensions removed to be left with a tensor of shape (10). Set the seed to 7 when you create it and print out the first tensor and it's shape as well as the second tensor and it's shape."
   ]
  },
  {
   "cell_type": "code",
   "execution_count": 51,
   "id": "79a6a4b8-c2a2-4470-9cc0-b89c7c1713aa",
   "metadata": {},
   "outputs": [
    {
     "name": "stdout",
     "output_type": "stream",
     "text": [
      "tensor([[[[0.5349, 0.1988, 0.6592, 0.6569, 0.2328, 0.4251, 0.2071, 0.6297,\n",
      "           0.3653, 0.8513]]]]) torch.Size([1, 1, 1, 10])\n",
      "tensor([0.5349, 0.1988, 0.6592, 0.6569, 0.2328, 0.4251, 0.2071, 0.6297, 0.3653,\n",
      "        0.8513]) torch.Size([10])\n"
     ]
    }
   ],
   "source": [
    "torch.manual_seed(7)\n",
    "\n",
    "tensor_D = torch.rand(size=(1, 1, 1, 10))\n",
    "\n",
    "tensor_E = tensor_D.squeeze()\n",
    "\n",
    "print(tensor_D, tensor_D.shape)\n",
    "print(tensor_E, tensor_E.shape)"
   ]
  }
 ],
 "metadata": {
  "kernelspec": {
   "display_name": "Python [conda env:base] *",
   "language": "python",
   "name": "conda-base-py"
  },
  "language_info": {
   "codemirror_mode": {
    "name": "ipython",
    "version": 3
   },
   "file_extension": ".py",
   "mimetype": "text/x-python",
   "name": "python",
   "nbconvert_exporter": "python",
   "pygments_lexer": "ipython3",
   "version": "3.12.7"
  }
 },
 "nbformat": 4,
 "nbformat_minor": 5
}

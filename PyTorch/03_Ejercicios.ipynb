{
 "cells": [
  {
   "cell_type": "markdown",
   "id": "6fc44f76-54c3-4a07-a65e-a43be9cdc3c2",
   "metadata": {},
   "source": [
    "## Visión por Computador"
   ]
  },
  {
   "cell_type": "markdown",
   "id": "d7fb2422-dff6-4271-8655-94c009a1ece9",
   "metadata": {},
   "source": [
    "Basándote en el cuaderno visto en 03_pytorch_computer_vision.ipynb y utilizando el dataset EMNIST, realiza los siguientes pasos:"
   ]
  },
  {
   "cell_type": "code",
   "execution_count": 138,
   "id": "52f978a8-754b-4574-9cf3-497ccced9f20",
   "metadata": {},
   "outputs": [
    {
     "name": "stdout",
     "output_type": "stream",
     "text": [
      "2.5.1\n",
      "0.20.1\n"
     ]
    }
   ],
   "source": [
    "# Importaciones iniciales\n",
    "\n",
    "import torch\n",
    "from torch import nn\n",
    "import torchvision\n",
    "from torchvision import datasets\n",
    "from torchvision import transforms\n",
    "from torchvision.transforms import ToTensor\n",
    "import matplotlib.pyplot as plt\n",
    "\n",
    "print(torch.__version__)\n",
    "print(torchvision.__version__)"
   ]
  },
  {
   "cell_type": "markdown",
   "id": "61434ae6-8def-4123-9900-368c51053348",
   "metadata": {},
   "source": [
    "### Analiza y visualiza tus datos"
   ]
  },
  {
   "cell_type": "markdown",
   "id": "64a53ae1-01e7-4cb9-9c15-7b61fe3a5a98",
   "metadata": {},
   "source": [
    "Carga de los datos"
   ]
  },
  {
   "cell_type": "code",
   "execution_count": 141,
   "id": "c35d91d7-3dee-40a1-9a4f-e0b33adcf0a8",
   "metadata": {},
   "outputs": [],
   "source": [
    "from torchvision import datasets, transforms\n",
    "\n",
    "transform = transforms.ToTensor()\n",
    "\n",
    "train_data = datasets.EMNIST(\n",
    "    root=\".\",\n",
    "    split=\"balanced\",   \n",
    "    train=True,\n",
    "    download=True,\n",
    "    transform=transform\n",
    ")\n",
    "\n",
    "test_data = datasets.EMNIST(\n",
    "    root=\".\",\n",
    "    split=\"balanced\",    \n",
    "    train=False,\n",
    "    download=True,\n",
    "    transform=transform\n",
    ")\n"
   ]
  },
  {
   "cell_type": "markdown",
   "id": "30e75cab-7ba3-401c-ace4-53da833ec3f0",
   "metadata": {},
   "source": [
    "Análisis de los datos"
   ]
  },
  {
   "cell_type": "code",
   "execution_count": 143,
   "id": "a20af05e-b160-49e7-aaa5-4be01d6a6fc2",
   "metadata": {},
   "outputs": [
    {
     "data": {
      "text/plain": [
       "(tensor([[[0.0000, 0.0000, 0.0000, 0.0000, 0.0000, 0.0000, 0.0000, 0.0000,\n",
       "           0.0000, 0.0000, 0.0000, 0.0000, 0.0000, 0.0000, 0.0000, 0.0000,\n",
       "           0.0000, 0.0000, 0.0000, 0.0000, 0.0000, 0.0000, 0.0000, 0.0000,\n",
       "           0.0000, 0.0000, 0.0000, 0.0000],\n",
       "          [0.0000, 0.0000, 0.0000, 0.0000, 0.0000, 0.0000, 0.0000, 0.0000,\n",
       "           0.0000, 0.0000, 0.0000, 0.0000, 0.0000, 0.0000, 0.0000, 0.0000,\n",
       "           0.0000, 0.0000, 0.0000, 0.0000, 0.0000, 0.0000, 0.0000, 0.0000,\n",
       "           0.0000, 0.0000, 0.0000, 0.0000],\n",
       "          [0.0000, 0.0000, 0.0000, 0.0000, 0.0000, 0.0000, 0.0000, 0.0039,\n",
       "           0.0275, 0.1255, 0.1412, 0.0824, 0.0118, 0.0000, 0.0000, 0.0000,\n",
       "           0.0000, 0.0000, 0.0000, 0.0000, 0.0000, 0.0000, 0.0000, 0.0000,\n",
       "           0.0000, 0.0000, 0.0000, 0.0000],\n",
       "          [0.0000, 0.0000, 0.0000, 0.0000, 0.0000, 0.0000, 0.0000, 0.0314,\n",
       "           0.1294, 0.4431, 0.4863, 0.3176, 0.0863, 0.0275, 0.0000, 0.0000,\n",
       "           0.0000, 0.0000, 0.0000, 0.0000, 0.0000, 0.0000, 0.0000, 0.0000,\n",
       "           0.0000, 0.0000, 0.0000, 0.0000],\n",
       "          [0.0000, 0.0000, 0.0000, 0.0000, 0.0000, 0.0000, 0.0078, 0.3020,\n",
       "           0.6196, 0.9529, 0.9765, 0.9098, 0.6235, 0.3725, 0.1333, 0.0784,\n",
       "           0.0039, 0.0000, 0.0000, 0.0000, 0.0000, 0.0000, 0.0000, 0.0000,\n",
       "           0.0000, 0.0000, 0.0000, 0.0000],\n",
       "          [0.0000, 0.0000, 0.0000, 0.0000, 0.0000, 0.0000, 0.0157, 0.4863,\n",
       "           0.8353, 0.9961, 0.9961, 0.9961, 0.9686, 0.9176, 0.7922, 0.6039,\n",
       "           0.0902, 0.0000, 0.0000, 0.0000, 0.0000, 0.0000, 0.0000, 0.0000,\n",
       "           0.0000, 0.0000, 0.0000, 0.0000],\n",
       "          [0.0000, 0.0000, 0.0000, 0.0000, 0.0000, 0.0000, 0.0157, 0.4471,\n",
       "           0.7961, 0.9961, 0.9961, 0.9961, 0.9961, 0.9882, 0.9490, 0.8118,\n",
       "           0.2314, 0.0275, 0.0039, 0.0000, 0.0000, 0.0000, 0.0000, 0.0000,\n",
       "           0.0000, 0.0000, 0.0000, 0.0000],\n",
       "          [0.0000, 0.0000, 0.0000, 0.0000, 0.0000, 0.0000, 0.0000, 0.1765,\n",
       "           0.4784, 0.9020, 0.9608, 0.9882, 0.9961, 0.9961, 0.9961, 0.9765,\n",
       "           0.8118, 0.3569, 0.1412, 0.0157, 0.0078, 0.0000, 0.0000, 0.0000,\n",
       "           0.0000, 0.0000, 0.0000, 0.0000],\n",
       "          [0.0000, 0.0000, 0.0000, 0.0000, 0.0000, 0.0000, 0.0000, 0.0784,\n",
       "           0.2627, 0.6667, 0.8000, 0.9255, 0.9961, 0.9961, 0.9961, 0.9961,\n",
       "           0.9569, 0.6392, 0.3765, 0.1294, 0.0745, 0.0000, 0.0000, 0.0000,\n",
       "           0.0000, 0.0000, 0.0000, 0.0000],\n",
       "          [0.0000, 0.0000, 0.0000, 0.0000, 0.0000, 0.0000, 0.0000, 0.0000,\n",
       "           0.0118, 0.0941, 0.1765, 0.6275, 0.9843, 0.9961, 1.0000, 0.9961,\n",
       "           0.9961, 0.9686, 0.9176, 0.7451, 0.4745, 0.0314, 0.0000, 0.0000,\n",
       "           0.0000, 0.0000, 0.0000, 0.0000],\n",
       "          [0.0000, 0.0000, 0.0000, 0.0000, 0.0000, 0.0000, 0.0000, 0.0000,\n",
       "           0.0118, 0.2627, 0.4824, 0.8706, 0.9961, 0.9961, 1.0000, 1.0000,\n",
       "           0.9961, 0.9961, 0.9961, 0.9569, 0.7922, 0.1255, 0.0000, 0.0000,\n",
       "           0.0000, 0.0000, 0.0000, 0.0000],\n",
       "          [0.0000, 0.0000, 0.0000, 0.0000, 0.0000, 0.0000, 0.0000, 0.0039,\n",
       "           0.0392, 0.4824, 0.7647, 0.9686, 0.9961, 0.9961, 1.0000, 1.0000,\n",
       "           1.0000, 0.9961, 0.9961, 0.9529, 0.7843, 0.1255, 0.0000, 0.0000,\n",
       "           0.0000, 0.0000, 0.0000, 0.0000],\n",
       "          [0.0000, 0.0000, 0.0000, 0.0000, 0.0000, 0.0000, 0.0000, 0.0784,\n",
       "           0.3020, 0.8627, 0.9686, 0.9961, 0.9961, 0.9961, 0.9882, 0.9843,\n",
       "           0.9882, 0.9961, 0.9882, 0.6941, 0.3725, 0.0275, 0.0000, 0.0000,\n",
       "           0.0000, 0.0000, 0.0000, 0.0000],\n",
       "          [0.0000, 0.0000, 0.0000, 0.0000, 0.0000, 0.0000, 0.0000, 0.1961,\n",
       "           0.5451, 0.9804, 0.9961, 0.9961, 0.9765, 0.9176, 0.6784, 0.5569,\n",
       "           0.6745, 0.8431, 0.8353, 0.4314, 0.1294, 0.0000, 0.0000, 0.0000,\n",
       "           0.0000, 0.0000, 0.0000, 0.0000],\n",
       "          [0.0000, 0.0000, 0.0000, 0.0000, 0.0000, 0.0000, 0.0078, 0.3216,\n",
       "           0.6745, 0.9882, 0.9961, 0.9961, 0.9176, 0.7333, 0.3294, 0.2039,\n",
       "           0.3216, 0.4902, 0.4902, 0.2471, 0.0706, 0.0000, 0.0000, 0.0000,\n",
       "           0.0000, 0.0000, 0.0000, 0.0000],\n",
       "          [0.0000, 0.0000, 0.0000, 0.0000, 0.0000, 0.0000, 0.0157, 0.4902,\n",
       "           0.8431, 0.9961, 0.9961, 0.9882, 0.6784, 0.3294, 0.0157, 0.0039,\n",
       "           0.0078, 0.0157, 0.0157, 0.0078, 0.0000, 0.0000, 0.0000, 0.0000,\n",
       "           0.0000, 0.0000, 0.0000, 0.0000],\n",
       "          [0.0000, 0.0000, 0.0000, 0.0000, 0.0000, 0.0000, 0.0157, 0.4980,\n",
       "           0.8510, 0.9961, 0.9961, 0.9608, 0.4510, 0.1333, 0.0000, 0.0000,\n",
       "           0.0000, 0.0000, 0.0000, 0.0000, 0.0000, 0.0000, 0.0000, 0.0000,\n",
       "           0.0000, 0.0000, 0.0000, 0.0000],\n",
       "          [0.0000, 0.0000, 0.0000, 0.0000, 0.0000, 0.0000, 0.0157, 0.4980,\n",
       "           0.8510, 0.9961, 0.9961, 0.9137, 0.3216, 0.0824, 0.0000, 0.0000,\n",
       "           0.0000, 0.0000, 0.0000, 0.0000, 0.0000, 0.0000, 0.0000, 0.0000,\n",
       "           0.0000, 0.0000, 0.0000, 0.0000],\n",
       "          [0.0000, 0.0000, 0.0000, 0.0000, 0.0000, 0.0000, 0.0157, 0.4980,\n",
       "           0.8510, 0.9961, 0.9961, 0.8510, 0.1529, 0.0196, 0.0000, 0.0000,\n",
       "           0.0000, 0.0000, 0.0000, 0.0000, 0.0000, 0.0000, 0.0000, 0.0000,\n",
       "           0.0000, 0.0000, 0.0000, 0.0000],\n",
       "          [0.0000, 0.0000, 0.0000, 0.0000, 0.0000, 0.0000, 0.0157, 0.4980,\n",
       "           0.8510, 0.9961, 0.9961, 0.8510, 0.1451, 0.0157, 0.0000, 0.0000,\n",
       "           0.0000, 0.0000, 0.0000, 0.0000, 0.0000, 0.0000, 0.0000, 0.0000,\n",
       "           0.0000, 0.0000, 0.0000, 0.0000],\n",
       "          [0.0000, 0.0000, 0.0000, 0.0000, 0.0000, 0.0000, 0.0157, 0.4980,\n",
       "           0.8510, 0.9961, 0.9961, 0.8510, 0.1451, 0.0157, 0.0000, 0.0000,\n",
       "           0.0000, 0.0000, 0.0000, 0.0000, 0.0000, 0.0000, 0.0000, 0.0000,\n",
       "           0.0000, 0.0000, 0.0000, 0.0000],\n",
       "          [0.0000, 0.0000, 0.0000, 0.0000, 0.0000, 0.0000, 0.0157, 0.4902,\n",
       "           0.8431, 0.9961, 0.9961, 0.8510, 0.1451, 0.0157, 0.0000, 0.0000,\n",
       "           0.0000, 0.0000, 0.0000, 0.0000, 0.0000, 0.0000, 0.0000, 0.0000,\n",
       "           0.0000, 0.0000, 0.0000, 0.0000],\n",
       "          [0.0000, 0.0000, 0.0000, 0.0000, 0.0000, 0.0000, 0.0157, 0.4471,\n",
       "           0.7961, 0.9961, 0.9961, 0.8431, 0.1451, 0.0157, 0.0000, 0.0000,\n",
       "           0.0000, 0.0000, 0.0000, 0.0000, 0.0000, 0.0000, 0.0000, 0.0000,\n",
       "           0.0000, 0.0000, 0.0000, 0.0000],\n",
       "          [0.0000, 0.0000, 0.0000, 0.0000, 0.0000, 0.0000, 0.0000, 0.1765,\n",
       "           0.4784, 0.8980, 0.9333, 0.6196, 0.0784, 0.0078, 0.0000, 0.0000,\n",
       "           0.0000, 0.0000, 0.0000, 0.0000, 0.0000, 0.0000, 0.0000, 0.0000,\n",
       "           0.0000, 0.0000, 0.0000, 0.0000],\n",
       "          [0.0000, 0.0000, 0.0000, 0.0000, 0.0000, 0.0000, 0.0000, 0.0196,\n",
       "           0.0784, 0.3137, 0.3922, 0.1294, 0.0039, 0.0000, 0.0000, 0.0000,\n",
       "           0.0000, 0.0000, 0.0000, 0.0000, 0.0000, 0.0000, 0.0000, 0.0000,\n",
       "           0.0000, 0.0000, 0.0000, 0.0000],\n",
       "          [0.0000, 0.0000, 0.0000, 0.0000, 0.0000, 0.0000, 0.0000, 0.0000,\n",
       "           0.0078, 0.0784, 0.1059, 0.0275, 0.0000, 0.0000, 0.0000, 0.0000,\n",
       "           0.0000, 0.0000, 0.0000, 0.0000, 0.0000, 0.0000, 0.0000, 0.0000,\n",
       "           0.0000, 0.0000, 0.0000, 0.0000],\n",
       "          [0.0000, 0.0000, 0.0000, 0.0000, 0.0000, 0.0000, 0.0000, 0.0000,\n",
       "           0.0000, 0.0000, 0.0000, 0.0000, 0.0000, 0.0000, 0.0000, 0.0000,\n",
       "           0.0000, 0.0000, 0.0000, 0.0000, 0.0000, 0.0000, 0.0000, 0.0000,\n",
       "           0.0000, 0.0000, 0.0000, 0.0000],\n",
       "          [0.0000, 0.0000, 0.0000, 0.0000, 0.0000, 0.0000, 0.0000, 0.0000,\n",
       "           0.0000, 0.0000, 0.0000, 0.0000, 0.0000, 0.0000, 0.0000, 0.0000,\n",
       "           0.0000, 0.0000, 0.0000, 0.0000, 0.0000, 0.0000, 0.0000, 0.0000,\n",
       "           0.0000, 0.0000, 0.0000, 0.0000]]]),\n",
       " 45)"
      ]
     },
     "execution_count": 143,
     "metadata": {},
     "output_type": "execute_result"
    }
   ],
   "source": [
    "image, label = train_data[0]\n",
    "image, label"
   ]
  },
  {
   "cell_type": "code",
   "execution_count": 144,
   "id": "be54aa14-e7d9-45d0-af81-d7b06162d8fe",
   "metadata": {},
   "outputs": [
    {
     "data": {
      "text/plain": [
       "['0',\n",
       " '1',\n",
       " '2',\n",
       " '3',\n",
       " '4',\n",
       " '5',\n",
       " '6',\n",
       " '7',\n",
       " '8',\n",
       " '9',\n",
       " 'A',\n",
       " 'B',\n",
       " 'C',\n",
       " 'D',\n",
       " 'E',\n",
       " 'F',\n",
       " 'G',\n",
       " 'H',\n",
       " 'I',\n",
       " 'J',\n",
       " 'K',\n",
       " 'L',\n",
       " 'M',\n",
       " 'N',\n",
       " 'O',\n",
       " 'P',\n",
       " 'Q',\n",
       " 'R',\n",
       " 'S',\n",
       " 'T',\n",
       " 'U',\n",
       " 'V',\n",
       " 'W',\n",
       " 'X',\n",
       " 'Y',\n",
       " 'Z',\n",
       " 'a',\n",
       " 'b',\n",
       " 'd',\n",
       " 'e',\n",
       " 'f',\n",
       " 'g',\n",
       " 'h',\n",
       " 'n',\n",
       " 'q',\n",
       " 'r',\n",
       " 't']"
      ]
     },
     "execution_count": 144,
     "metadata": {},
     "output_type": "execute_result"
    }
   ],
   "source": [
    "class_names = train_data.classes\n",
    "class_names"
   ]
  },
  {
   "cell_type": "code",
   "execution_count": 145,
   "id": "9882a5d7-9423-4716-82bd-88b77c9c3817",
   "metadata": {},
   "outputs": [
    {
     "data": {
      "text/plain": [
       "['0',\n",
       " '1',\n",
       " '2',\n",
       " '3',\n",
       " '4',\n",
       " '5',\n",
       " '6',\n",
       " '7',\n",
       " '8',\n",
       " '9',\n",
       " 'A',\n",
       " 'B',\n",
       " 'C',\n",
       " 'D',\n",
       " 'E',\n",
       " 'F',\n",
       " 'G',\n",
       " 'H',\n",
       " 'I',\n",
       " 'J',\n",
       " 'K',\n",
       " 'L',\n",
       " 'M',\n",
       " 'N',\n",
       " 'O',\n",
       " 'P',\n",
       " 'Q',\n",
       " 'R',\n",
       " 'S',\n",
       " 'T',\n",
       " 'U',\n",
       " 'V',\n",
       " 'W',\n",
       " 'X',\n",
       " 'Y',\n",
       " 'Z',\n",
       " 'a',\n",
       " 'b',\n",
       " 'd',\n",
       " 'e',\n",
       " 'f',\n",
       " 'g',\n",
       " 'h',\n",
       " 'n',\n",
       " 'q',\n",
       " 'r',\n",
       " 't']"
      ]
     },
     "execution_count": 145,
     "metadata": {},
     "output_type": "execute_result"
    }
   ],
   "source": [
    "class_names = train_data.classes\n",
    "class_names"
   ]
  },
  {
   "cell_type": "code",
   "execution_count": 146,
   "id": "e3774ff0-c7bb-4baf-8c2a-a77034b30923",
   "metadata": {},
   "outputs": [
    {
     "name": "stdout",
     "output_type": "stream",
     "text": [
      "Forma de la imagen: torch.Size([1, 28, 28]) -> [color_channels, height, width]\n",
      "Etiqueta de la imagen: 45 -> r\n"
     ]
    }
   ],
   "source": [
    "print(f\"Forma de la imagen: {image.shape} -> [color_channels, height, width]\")\n",
    "print(f\"Etiqueta de la imagen: {label} -> {class_names[label]}\")"
   ]
  },
  {
   "cell_type": "markdown",
   "id": "0c95f6a2-7f7a-4339-ba06-b8dea1179de6",
   "metadata": {},
   "source": [
    "Visualización de los datos"
   ]
  },
  {
   "cell_type": "code",
   "execution_count": 148,
   "id": "a153f360-022d-41d8-b31c-02e01cea7a10",
   "metadata": {},
   "outputs": [
    {
     "name": "stdout",
     "output_type": "stream",
     "text": [
      "Forma de la imagen: torch.Size([1, 28, 28])\n"
     ]
    },
    {
     "data": {
      "text/plain": [
       "Text(0.5, 1.0, '45')"
      ]
     },
     "execution_count": 148,
     "metadata": {},
     "output_type": "execute_result"
    },
    {
     "data": {
      "image/png": "[encoded data removed]",
      "text/plain": [
       "<Figure size 640x480 with 1 Axes>"
      ]
     },
     "metadata": {},
     "output_type": "display_data"
    }
   ],
   "source": [
    "import matplotlib.pyplot as plt\n",
    "image, label = train_data[0]\n",
    "print(f\"Forma de la imagen: {image.shape}\")\n",
    "plt.imshow(image.squeeze()) \n",
    "plt.title(label)"
   ]
  },
  {
   "cell_type": "code",
   "execution_count": 149,
   "id": "02518826-cba9-47c3-830c-3c16d5f2436e",
   "metadata": {},
   "outputs": [
    {
     "data": {
      "text/plain": [
       "(-0.5, 27.5, 27.5, -0.5)"
      ]
     },
     "execution_count": 149,
     "metadata": {},
     "output_type": "execute_result"
    },
    {
     "data": {
      "image/png": "[encoded data removed]",
      "text/plain": [
       "<Figure size 640x480 with 1 Axes>"
      ]
     },
     "metadata": {},
     "output_type": "display_data"
    }
   ],
   "source": [
    "plt.imshow(image.squeeze(), cmap=\"gray\")\n",
    "plt.title(class_names[label])\n",
    "plt.axis(False)"
   ]
  },
  {
   "cell_type": "code",
   "execution_count": 150,
   "id": "7bed9d10-ebb9-4f3c-a278-1fc8ccdf8ed5",
   "metadata": {},
   "outputs": [
    {
     "data": {
      "image/png": "[encoded data removed]",
      "text/plain": [
       "<Figure size 900x900 with 16 Axes>"
      ]
     },
     "metadata": {},
     "output_type": "display_data"
    }
   ],
   "source": [
    "fig = plt.figure(figsize=(9,9))\n",
    "rows, cols = 4,4\n",
    "for i in range(1, rows*cols+1):\n",
    "  random_idx = torch.randint(0, len(train_data), size=[1]).item() \n",
    "  img, label = train_data[random_idx]\n",
    "  fig.add_subplot(rows, cols, i)\n",
    "  plt.imshow(img.squeeze(), cmap=\"gray\")\n",
    "  plt.title(class_names[label])\n",
    "  plt.axis(False)"
   ]
  },
  {
   "cell_type": "markdown",
   "id": "4c365829-d9fd-419e-9828-4dfcbd1ea462",
   "metadata": {},
   "source": [
    "### Prepara el modelo DataLoader correspondiente"
   ]
  },
  {
   "cell_type": "code",
   "execution_count": 152,
   "id": "bf429def-14bb-4f36-8c5d-e1544a830676",
   "metadata": {},
   "outputs": [
    {
     "data": {
      "text/plain": [
       "(<torch.utils.data.dataloader.DataLoader at 0x243a3d93440>,\n",
       " <torch.utils.data.dataloader.DataLoader at 0x243b34c31a0>)"
      ]
     },
     "execution_count": 152,
     "metadata": {},
     "output_type": "execute_result"
    }
   ],
   "source": [
    "from torch.utils.data import DataLoader\n",
    "\n",
    "BATCH_SIZE = 32\n",
    "\n",
    "train_dataloader = DataLoader(dataset=train_data,\n",
    "                              batch_size=BATCH_SIZE,\n",
    "                              shuffle=True)\n",
    "\n",
    "test_dataloader = DataLoader(dataset=test_data,\n",
    "                             batch_size=BATCH_SIZE,\n",
    "                             shuffle=False)\n",
    "\n",
    "train_dataloader, test_dataloader"
   ]
  },
  {
   "cell_type": "markdown",
   "id": "cf583654-e76c-4856-9e1b-328f2ee61957",
   "metadata": {},
   "source": [
    "Comprobación del DataLoader preparado"
   ]
  },
  {
   "cell_type": "code",
   "execution_count": 154,
   "id": "687ea4d6-35bd-4838-83d6-915bb503affe",
   "metadata": {},
   "outputs": [
    {
     "name": "stdout",
     "output_type": "stream",
     "text": [
      "DataLoaders: (<torch.utils.data.dataloader.DataLoader object at 0x00000243A3D93440>, <torch.utils.data.dataloader.DataLoader object at 0x00000243B34C31A0>)\n",
      "Longitud de train_dataloader: 3525 batches of 32\n",
      "Longitud de test_dataloader: 588 batches of 32\n"
     ]
    }
   ],
   "source": [
    "print(f\"DataLoaders: {train_dataloader, test_dataloader}\")\n",
    "print(f\"Longitud de train_dataloader: {len(train_dataloader)} batches of {BATCH_SIZE}\")\n",
    "print(f\"Longitud de test_dataloader: {len(test_dataloader)} batches of {BATCH_SIZE}\")"
   ]
  },
  {
   "cell_type": "code",
   "execution_count": 155,
   "id": "55479fcc-1b1a-4ca3-b116-c419171548b1",
   "metadata": {},
   "outputs": [
    {
     "data": {
      "text/plain": [
       "(torch.Size([32, 1, 28, 28]), torch.Size([32]))"
      ]
     },
     "execution_count": 155,
     "metadata": {},
     "output_type": "execute_result"
    }
   ],
   "source": [
    "train_features_batch, train_labels_batch = next(iter(train_dataloader))\n",
    "train_features_batch.shape, train_labels_batch.shape"
   ]
  },
  {
   "cell_type": "code",
   "execution_count": 156,
   "id": "516d1028-1679-48d8-9f42-382def1f67e9",
   "metadata": {},
   "outputs": [
    {
     "name": "stdout",
     "output_type": "stream",
     "text": [
      "Tamaño de la imagen: torch.Size([1, 28, 28])\n",
      "Etiqueta: 30, tamaño de la etiqueta: torch.Size([])\n"
     ]
    },
    {
     "data": {
      "image/png": "[encoded data removed]",
      "text/plain": [
       "<Figure size 640x480 with 1 Axes>"
      ]
     },
     "metadata": {},
     "output_type": "display_data"
    }
   ],
   "source": [
    "random_idx = torch.randint(0, len(train_features_batch), size=[1]).item()\n",
    "img, label = train_features_batch[random_idx], train_labels_batch[random_idx]\n",
    "plt.imshow(img.squeeze(), cmap=\"gray\")\n",
    "plt.title(class_names[label])\n",
    "plt.axis(False)\n",
    "print(f\"Tamaño de la imagen: {img.shape}\")\n",
    "print(f\"Etiqueta: {label}, tamaño de la etiqueta: {label.shape}\")"
   ]
  },
  {
   "cell_type": "markdown",
   "id": "cd5d9c5d-5ee7-4202-b30d-a3dcfba8e23d",
   "metadata": {},
   "source": [
    "### Crea el modelo que estimes más adecuado para poder realizar la clasificación correspondiente en este problema multiclase"
   ]
  },
  {
   "cell_type": "code",
   "execution_count": 158,
   "id": "7ecea450-65ab-4e82-92a6-05e96ad55c99",
   "metadata": {},
   "outputs": [],
   "source": [
    "import torch\n",
    "from torch import nn\n",
    "\n",
    "class EMNISTModel(nn.Module):\n",
    "    def __init__(self, input_shape: int, num_classes: int):\n",
    "        super().__init__()\n",
    "        self.conv_block1 = nn.Sequential(\n",
    "            nn.Conv2d(in_channels=input_shape, out_channels=32, kernel_size=3, stride=1, padding=1),  \n",
    "            nn.ReLU(),\n",
    "            nn.MaxPool2d(kernel_size=2) \n",
    "        )\n",
    "        self.conv_block2 = nn.Sequential(\n",
    "            nn.Conv2d(in_channels=32, out_channels=64, kernel_size=3, stride=1, padding=1),\n",
    "            nn.ReLU(),\n",
    "            nn.MaxPool2d(kernel_size=2)\n",
    "        )\n",
    "        self.classifier = nn.Sequential(\n",
    "            nn.Flatten(),\n",
    "            nn.Linear(in_features=64*7*7, out_features=128),\n",
    "            nn.ReLU(),\n",
    "            nn.Dropout(0.2),\n",
    "            nn.Linear(in_features=128, out_features=num_classes)\n",
    "        )\n",
    "\n",
    "    def forward(self, x: torch.Tensor):\n",
    "        x = self.conv_block1(x)\n",
    "        x = self.conv_block2(x)\n",
    "        x = self.classifier(x)\n",
    "        return x\n"
   ]
  },
  {
   "cell_type": "markdown",
   "id": "63f31880-2036-4482-a78a-d8da3c0f1b81",
   "metadata": {},
   "source": [
    "### Establecer device agnostic-code"
   ]
  },
  {
   "cell_type": "code",
   "execution_count": 160,
   "id": "7c25dbe5-d914-429a-87ca-0167437e2603",
   "metadata": {},
   "outputs": [
    {
     "name": "stdout",
     "output_type": "stream",
     "text": [
      "Usando dispositivo: cpu\n"
     ]
    }
   ],
   "source": [
    "\n",
    "device = \"cuda\" if torch.cuda.is_available() else \"cpu\"\n",
    "print(f\"Usando dispositivo: {device}\")\n"
   ]
  },
  {
   "cell_type": "code",
   "execution_count": 161,
   "id": "d22a4976-8146-436b-9a59-ee84cb6365db",
   "metadata": {},
   "outputs": [
    {
     "data": {
      "text/plain": [
       "EMNISTModel(\n",
       "  (conv_block1): Sequential(\n",
       "    (0): Conv2d(1, 32, kernel_size=(3, 3), stride=(1, 1), padding=(1, 1))\n",
       "    (1): ReLU()\n",
       "    (2): MaxPool2d(kernel_size=2, stride=2, padding=0, dilation=1, ceil_mode=False)\n",
       "  )\n",
       "  (conv_block2): Sequential(\n",
       "    (0): Conv2d(32, 64, kernel_size=(3, 3), stride=(1, 1), padding=(1, 1))\n",
       "    (1): ReLU()\n",
       "    (2): MaxPool2d(kernel_size=2, stride=2, padding=0, dilation=1, ceil_mode=False)\n",
       "  )\n",
       "  (classifier): Sequential(\n",
       "    (0): Flatten(start_dim=1, end_dim=-1)\n",
       "    (1): Linear(in_features=3136, out_features=128, bias=True)\n",
       "    (2): ReLU()\n",
       "    (3): Dropout(p=0.2, inplace=False)\n",
       "    (4): Linear(in_features=128, out_features=47, bias=True)\n",
       "  )\n",
       ")"
      ]
     },
     "execution_count": 161,
     "metadata": {},
     "output_type": "execute_result"
    }
   ],
   "source": [
    "# Montar el modelo con parámetros de entrada \n",
    "\n",
    "model = EMNISTModel(input_shape=1, num_classes=len(class_names))\n",
    "model.to(device)\n"
   ]
  },
  {
   "cell_type": "code",
   "execution_count": 162,
   "id": "83716199-eda4-4165-bd08-6cf1b968ce75",
   "metadata": {},
   "outputs": [
    {
     "data": {
      "text/plain": [
       "torch.Size([1, 47])"
      ]
     },
     "execution_count": 162,
     "metadata": {},
     "output_type": "execute_result"
    }
   ],
   "source": [
    "dummy_x = torch.rand([1, 1, 28, 28])\n",
    "model(dummy_x).shape"
   ]
  },
  {
   "cell_type": "code",
   "execution_count": 163,
   "id": "5ecbfb5e-bb2e-4515-9679-50bea012327e",
   "metadata": {},
   "outputs": [
    {
     "data": {
      "text/plain": [
       "OrderedDict([('conv_block1.0.weight',\n",
       "              tensor([[[[-0.1596, -0.2713,  0.2795],\n",
       "                        [-0.1334,  0.0883, -0.1157],\n",
       "                        [ 0.0271,  0.3108,  0.1536]]],\n",
       "              \n",
       "              \n",
       "                      [[[-0.2889,  0.1323,  0.3164],\n",
       "                        [ 0.0877,  0.2235,  0.3286],\n",
       "                        [-0.0511,  0.0692, -0.2317]]],\n",
       "              \n",
       "              \n",
       "                      [[[-0.0687,  0.2469,  0.1709],\n",
       "                        [-0.2109, -0.2673, -0.2278],\n",
       "                        [-0.3290, -0.2572, -0.0824]]],\n",
       "              \n",
       "              \n",
       "                      [[[ 0.2250,  0.0558, -0.2535],\n",
       "                        [-0.2674,  0.1658, -0.2479],\n",
       "                        [-0.0410,  0.1599, -0.1543]]],\n",
       "              \n",
       "              \n",
       "                      [[[-0.0363, -0.0290, -0.0789],\n",
       "                        [-0.1690, -0.2971, -0.2695],\n",
       "                        [-0.1785,  0.3219, -0.1610]]],\n",
       "              \n",
       "              \n",
       "                      [[[-0.2238,  0.0808,  0.0919],\n",
       "                        [ 0.1826,  0.2534,  0.1856],\n",
       "                        [-0.3305,  0.0296,  0.2019]]],\n",
       "              \n",
       "              \n",
       "                      [[[-0.0308, -0.1964,  0.3178],\n",
       "                        [-0.1247, -0.1898, -0.3005],\n",
       "                        [ 0.0149,  0.1477,  0.0738]]],\n",
       "              \n",
       "              \n",
       "                      [[[ 0.0659, -0.2528, -0.3113],\n",
       "                        [ 0.0059,  0.3039,  0.1923],\n",
       "                        [-0.1941, -0.0433, -0.2457]]],\n",
       "              \n",
       "              \n",
       "                      [[[-0.1608,  0.0604,  0.1815],\n",
       "                        [ 0.2761, -0.3060,  0.2229],\n",
       "                        [-0.2351,  0.1248,  0.2821]]],\n",
       "              \n",
       "              \n",
       "                      [[[ 0.0047,  0.3033, -0.2840],\n",
       "                        [-0.1273,  0.1944, -0.0726],\n",
       "                        [-0.0682, -0.1389,  0.2298]]],\n",
       "              \n",
       "              \n",
       "                      [[[ 0.1635,  0.1068, -0.1873],\n",
       "                        [-0.2706,  0.0361,  0.0988],\n",
       "                        [-0.1539, -0.0933,  0.2251]]],\n",
       "              \n",
       "              \n",
       "                      [[[ 0.0266,  0.0150, -0.0820],\n",
       "                        [-0.3019, -0.3134, -0.1593],\n",
       "                        [-0.1694,  0.1039, -0.0970]]],\n",
       "              \n",
       "              \n",
       "                      [[[-0.1304,  0.3178,  0.1161],\n",
       "                        [ 0.2376, -0.1614, -0.1362],\n",
       "                        [ 0.1225, -0.2221, -0.2179]]],\n",
       "              \n",
       "              \n",
       "                      [[[-0.0161, -0.1219, -0.2499],\n",
       "                        [ 0.1977,  0.2681,  0.0541],\n",
       "                        [-0.0580, -0.3088, -0.1214]]],\n",
       "              \n",
       "              \n",
       "                      [[[ 0.0849,  0.1572, -0.0421],\n",
       "                        [-0.1318,  0.1857, -0.2655],\n",
       "                        [ 0.2107, -0.1293,  0.0051]]],\n",
       "              \n",
       "              \n",
       "                      [[[-0.0659,  0.0404, -0.1007],\n",
       "                        [ 0.2424, -0.0087,  0.2602],\n",
       "                        [ 0.3205, -0.1624, -0.2432]]],\n",
       "              \n",
       "              \n",
       "                      [[[ 0.2674,  0.2612, -0.2545],\n",
       "                        [-0.0258, -0.3287, -0.2729],\n",
       "                        [ 0.0644,  0.0887,  0.0707]]],\n",
       "              \n",
       "              \n",
       "                      [[[-0.0907,  0.3075,  0.0477],\n",
       "                        [-0.1967, -0.0189,  0.0800],\n",
       "                        [ 0.1167, -0.2357,  0.1249]]],\n",
       "              \n",
       "              \n",
       "                      [[[-0.1703, -0.2770, -0.1821],\n",
       "                        [ 0.3215,  0.2850,  0.2985],\n",
       "                        [ 0.1957,  0.2518, -0.0446]]],\n",
       "              \n",
       "              \n",
       "                      [[[-0.1834,  0.1666, -0.1727],\n",
       "                        [-0.2250, -0.1064,  0.0700],\n",
       "                        [ 0.1716, -0.1295, -0.1962]]],\n",
       "              \n",
       "              \n",
       "                      [[[ 0.0450, -0.1965, -0.2170],\n",
       "                        [ 0.1738, -0.0560,  0.3046],\n",
       "                        [ 0.3243,  0.0997,  0.1147]]],\n",
       "              \n",
       "              \n",
       "                      [[[ 0.0768,  0.0052, -0.0242],\n",
       "                        [ 0.0046,  0.1245,  0.3099],\n",
       "                        [-0.0864, -0.1409, -0.0807]]],\n",
       "              \n",
       "              \n",
       "                      [[[-0.1610,  0.0567,  0.2488],\n",
       "                        [ 0.2607,  0.1530, -0.2453],\n",
       "                        [-0.1789, -0.0732, -0.0614]]],\n",
       "              \n",
       "              \n",
       "                      [[[ 0.0274, -0.3060,  0.1037],\n",
       "                        [-0.2543, -0.2109, -0.2771],\n",
       "                        [ 0.2904, -0.3156,  0.2515]]],\n",
       "              \n",
       "              \n",
       "                      [[[-0.0112, -0.0388,  0.2085],\n",
       "                        [-0.0308,  0.2091,  0.2410],\n",
       "                        [-0.2894,  0.1283,  0.0629]]],\n",
       "              \n",
       "              \n",
       "                      [[[ 0.0717,  0.0487,  0.0912],\n",
       "                        [-0.1604, -0.0426,  0.3167],\n",
       "                        [ 0.2239, -0.0125, -0.3135]]],\n",
       "              \n",
       "              \n",
       "                      [[[ 0.0146, -0.2270,  0.2711],\n",
       "                        [-0.2024, -0.0241, -0.0740],\n",
       "                        [ 0.0593,  0.3137,  0.0317]]],\n",
       "              \n",
       "              \n",
       "                      [[[ 0.1931,  0.2587,  0.2691],\n",
       "                        [-0.1151, -0.0746,  0.1606],\n",
       "                        [-0.0910,  0.1561, -0.0728]]],\n",
       "              \n",
       "              \n",
       "                      [[[-0.2261,  0.1357,  0.0511],\n",
       "                        [ 0.1486,  0.3312,  0.2276],\n",
       "                        [ 0.3160,  0.0178, -0.2867]]],\n",
       "              \n",
       "              \n",
       "                      [[[-0.2338, -0.2071, -0.2937],\n",
       "                        [-0.1671, -0.3069, -0.3075],\n",
       "                        [-0.1992, -0.3286, -0.2046]]],\n",
       "              \n",
       "              \n",
       "                      [[[ 0.1271,  0.2780, -0.0992],\n",
       "                        [-0.0970,  0.1780, -0.1645],\n",
       "                        [-0.1576,  0.2054, -0.2904]]],\n",
       "              \n",
       "              \n",
       "                      [[[ 0.0408,  0.2945,  0.0572],\n",
       "                        [ 0.0906, -0.1941, -0.0046],\n",
       "                        [ 0.0183,  0.0818,  0.1295]]]])),\n",
       "             ('conv_block1.0.bias',\n",
       "              tensor([ 0.2896, -0.2544,  0.0100, -0.1665, -0.2637, -0.0267, -0.2934,  0.2326,\n",
       "                       0.0386, -0.1797,  0.1742, -0.3155, -0.1289, -0.0649, -0.2833, -0.2120,\n",
       "                      -0.0544,  0.2529,  0.3219,  0.2121, -0.1990, -0.2181,  0.2909,  0.1179,\n",
       "                       0.0089,  0.0451, -0.2679, -0.1113,  0.3209, -0.0822, -0.0167, -0.2768])),\n",
       "             ('conv_block2.0.weight',\n",
       "              tensor([[[[-0.0330, -0.0012, -0.0366],\n",
       "                        [-0.0073,  0.0240, -0.0576],\n",
       "                        [ 0.0175, -0.0390, -0.0288]],\n",
       "              \n",
       "                       [[ 0.0226,  0.0469, -0.0161],\n",
       "                        [-0.0242, -0.0533, -0.0304],\n",
       "                        [-0.0516, -0.0135,  0.0120]],\n",
       "              \n",
       "                       [[-0.0552,  0.0514,  0.0370],\n",
       "                        [-0.0577, -0.0281,  0.0192],\n",
       "                        [-0.0121, -0.0064, -0.0266]],\n",
       "              \n",
       "                       ...,\n",
       "              \n",
       "                       [[ 0.0369,  0.0546,  0.0453],\n",
       "                        [-0.0151, -0.0499,  0.0108],\n",
       "                        [-0.0005, -0.0154, -0.0099]],\n",
       "              \n",
       "                       [[ 0.0028,  0.0430,  0.0184],\n",
       "                        [-0.0209, -0.0242, -0.0146],\n",
       "                        [-0.0228,  0.0530,  0.0312]],\n",
       "              \n",
       "                       [[ 0.0532,  0.0002,  0.0119],\n",
       "                        [ 0.0204, -0.0558,  0.0053],\n",
       "                        [-0.0039, -0.0330, -0.0457]]],\n",
       "              \n",
       "              \n",
       "                      [[[ 0.0522,  0.0479,  0.0273],\n",
       "                        [ 0.0562, -0.0239, -0.0102],\n",
       "                        [ 0.0223, -0.0097, -0.0116]],\n",
       "              \n",
       "                       [[-0.0487,  0.0158, -0.0356],\n",
       "                        [ 0.0021,  0.0575, -0.0181],\n",
       "                        [-0.0186,  0.0356, -0.0217]],\n",
       "              \n",
       "                       [[-0.0051,  0.0550, -0.0242],\n",
       "                        [-0.0422, -0.0330, -0.0163],\n",
       "                        [-0.0280, -0.0306,  0.0238]],\n",
       "              \n",
       "                       ...,\n",
       "              \n",
       "                       [[-0.0093,  0.0046,  0.0581],\n",
       "                        [ 0.0342,  0.0330,  0.0236],\n",
       "                        [ 0.0456, -0.0027,  0.0047]],\n",
       "              \n",
       "                       [[ 0.0121, -0.0514, -0.0475],\n",
       "                        [ 0.0072, -0.0231, -0.0011],\n",
       "                        [-0.0135,  0.0092,  0.0383]],\n",
       "              \n",
       "                       [[-0.0195,  0.0472,  0.0465],\n",
       "                        [-0.0452, -0.0455, -0.0477],\n",
       "                        [-0.0323, -0.0229, -0.0044]]],\n",
       "              \n",
       "              \n",
       "                      [[[-0.0143, -0.0298, -0.0187],\n",
       "                        [-0.0213,  0.0578, -0.0218],\n",
       "                        [-0.0422,  0.0245, -0.0034]],\n",
       "              \n",
       "                       [[ 0.0451,  0.0368,  0.0541],\n",
       "                        [-0.0432,  0.0379,  0.0495],\n",
       "                        [-0.0291,  0.0542,  0.0442]],\n",
       "              \n",
       "                       [[ 0.0006,  0.0284, -0.0206],\n",
       "                        [-0.0514,  0.0149,  0.0176],\n",
       "                        [-0.0385,  0.0286, -0.0503]],\n",
       "              \n",
       "                       ...,\n",
       "              \n",
       "                       [[-0.0528,  0.0259,  0.0037],\n",
       "                        [-0.0192, -0.0247, -0.0304],\n",
       "                        [ 0.0477, -0.0102,  0.0425]],\n",
       "              \n",
       "                       [[ 0.0526,  0.0075,  0.0126],\n",
       "                        [-0.0040,  0.0405, -0.0531],\n",
       "                        [ 0.0234, -0.0096,  0.0269]],\n",
       "              \n",
       "                       [[-0.0003, -0.0218, -0.0064],\n",
       "                        [ 0.0318, -0.0409, -0.0372],\n",
       "                        [-0.0132, -0.0214,  0.0231]]],\n",
       "              \n",
       "              \n",
       "                      ...,\n",
       "              \n",
       "              \n",
       "                      [[[-0.0025,  0.0551, -0.0371],\n",
       "                        [-0.0495, -0.0046,  0.0307],\n",
       "                        [-0.0548,  0.0375,  0.0026]],\n",
       "              \n",
       "                       [[ 0.0071,  0.0365,  0.0298],\n",
       "                        [-0.0033, -0.0561,  0.0510],\n",
       "                        [-0.0191, -0.0327,  0.0197]],\n",
       "              \n",
       "                       [[ 0.0396,  0.0084, -0.0335],\n",
       "                        [-0.0535,  0.0257,  0.0206],\n",
       "                        [ 0.0350,  0.0587, -0.0321]],\n",
       "              \n",
       "                       ...,\n",
       "              \n",
       "                       [[-0.0508, -0.0198,  0.0492],\n",
       "                        [ 0.0332, -0.0246,  0.0069],\n",
       "                        [ 0.0147,  0.0362,  0.0402]],\n",
       "              \n",
       "                       [[-0.0323, -0.0140,  0.0484],\n",
       "                        [ 0.0060, -0.0326, -0.0296],\n",
       "                        [-0.0292, -0.0555, -0.0395]],\n",
       "              \n",
       "                       [[ 0.0585, -0.0071,  0.0393],\n",
       "                        [-0.0545,  0.0278,  0.0227],\n",
       "                        [-0.0551, -0.0143,  0.0154]]],\n",
       "              \n",
       "              \n",
       "                      [[[-0.0463,  0.0227,  0.0343],\n",
       "                        [-0.0536, -0.0227,  0.0413],\n",
       "                        [-0.0052, -0.0345,  0.0147]],\n",
       "              \n",
       "                       [[-0.0488,  0.0197, -0.0341],\n",
       "                        [ 0.0214, -0.0313, -0.0176],\n",
       "                        [-0.0274,  0.0308, -0.0540]],\n",
       "              \n",
       "                       [[ 0.0357,  0.0306, -0.0415],\n",
       "                        [ 0.0398,  0.0437, -0.0371],\n",
       "                        [ 0.0054,  0.0147, -0.0081]],\n",
       "              \n",
       "                       ...,\n",
       "              \n",
       "                       [[ 0.0449,  0.0554, -0.0478],\n",
       "                        [ 0.0468,  0.0373, -0.0067],\n",
       "                        [ 0.0177, -0.0396, -0.0186]],\n",
       "              \n",
       "                       [[-0.0335, -0.0410, -0.0098],\n",
       "                        [-0.0587, -0.0110,  0.0376],\n",
       "                        [-0.0364, -0.0193,  0.0024]],\n",
       "              \n",
       "                       [[-0.0256,  0.0054, -0.0543],\n",
       "                        [ 0.0159,  0.0551,  0.0036],\n",
       "                        [ 0.0574, -0.0519, -0.0306]]],\n",
       "              \n",
       "              \n",
       "                      [[[-0.0179,  0.0504, -0.0540],\n",
       "                        [-0.0107, -0.0528,  0.0113],\n",
       "                        [-0.0512, -0.0484, -0.0367]],\n",
       "              \n",
       "                       [[-0.0226,  0.0374,  0.0095],\n",
       "                        [-0.0531,  0.0557, -0.0012],\n",
       "                        [ 0.0172, -0.0304, -0.0278]],\n",
       "              \n",
       "                       [[-0.0441, -0.0463, -0.0301],\n",
       "                        [ 0.0325, -0.0224, -0.0500],\n",
       "                        [ 0.0173, -0.0155, -0.0422]],\n",
       "              \n",
       "                       ...,\n",
       "              \n",
       "                       [[ 0.0219,  0.0586, -0.0131],\n",
       "                        [-0.0354, -0.0383, -0.0081],\n",
       "                        [-0.0115,  0.0210,  0.0042]],\n",
       "              \n",
       "                       [[ 0.0196, -0.0300, -0.0507],\n",
       "                        [ 0.0022,  0.0125, -0.0282],\n",
       "                        [-0.0210, -0.0104, -0.0527]],\n",
       "              \n",
       "                       [[ 0.0550,  0.0425, -0.0430],\n",
       "                        [-0.0562,  0.0513,  0.0489],\n",
       "                        [-0.0529,  0.0125, -0.0374]]]])),\n",
       "             ('conv_block2.0.bias',\n",
       "              tensor([-0.0434, -0.0410,  0.0018,  0.0544,  0.0275, -0.0544,  0.0318,  0.0535,\n",
       "                       0.0416,  0.0544, -0.0343, -0.0300,  0.0327, -0.0464, -0.0167,  0.0423,\n",
       "                       0.0181, -0.0158,  0.0236, -0.0276, -0.0299,  0.0177, -0.0284,  0.0410,\n",
       "                       0.0263,  0.0358,  0.0423,  0.0074, -0.0218, -0.0495, -0.0171, -0.0496,\n",
       "                       0.0358,  0.0046, -0.0250, -0.0018,  0.0425, -0.0258,  0.0114,  0.0071,\n",
       "                      -0.0080, -0.0137,  0.0221, -0.0190, -0.0484,  0.0133, -0.0343, -0.0302,\n",
       "                       0.0017,  0.0283, -0.0171, -0.0354,  0.0272, -0.0364,  0.0127,  0.0168,\n",
       "                      -0.0014, -0.0151, -0.0079, -0.0333,  0.0388, -0.0053, -0.0246, -0.0323])),\n",
       "             ('classifier.1.weight',\n",
       "              tensor([[ 7.8916e-03, -1.1020e-02,  7.3748e-03,  ...,  1.4182e-02,\n",
       "                        8.9265e-03, -1.1419e-02],\n",
       "                      [ 1.6325e-02,  6.1878e-03, -1.2969e-02,  ...,  1.3280e-02,\n",
       "                       -6.7570e-03, -1.4723e-03],\n",
       "                      [-1.1860e-02,  3.6772e-03,  9.7717e-03,  ..., -1.0864e-02,\n",
       "                       -1.8591e-03, -7.2361e-03],\n",
       "                      ...,\n",
       "                      [-1.7706e-02, -5.8919e-03,  8.8466e-03,  ...,  1.5431e-02,\n",
       "                       -9.6256e-03, -1.9972e-03],\n",
       "                      [ 1.4372e-02,  1.3393e-02, -9.2688e-03,  ..., -1.1475e-02,\n",
       "                       -3.3823e-03, -1.6996e-03],\n",
       "                      [ 4.5704e-05,  1.0476e-02,  3.9877e-03,  ..., -1.5827e-02,\n",
       "                       -2.8792e-04, -5.2259e-03]])),\n",
       "             ('classifier.1.bias',\n",
       "              tensor([ 2.7815e-04,  1.6592e-02, -1.7310e-02, -4.5013e-03,  2.4904e-03,\n",
       "                      -1.5355e-02, -8.0626e-03, -1.0418e-02, -9.8665e-03,  1.3210e-02,\n",
       "                       1.2223e-02, -1.5721e-02, -5.9591e-03,  2.6161e-03, -2.2136e-04,\n",
       "                      -6.5294e-03, -2.2521e-05, -6.3990e-03,  1.2354e-02,  1.7768e-02,\n",
       "                       1.3716e-02,  1.2656e-02,  1.3220e-02, -1.4575e-02,  5.6179e-03,\n",
       "                      -1.4978e-02, -1.0875e-02,  1.5892e-02, -8.0729e-03,  6.6245e-03,\n",
       "                       4.7454e-03,  5.4337e-03,  1.7800e-02,  1.6003e-02,  1.3164e-02,\n",
       "                       1.5484e-02,  7.5201e-03, -1.1751e-02,  9.2783e-03, -6.8380e-03,\n",
       "                       1.6165e-02, -7.3269e-05,  5.9391e-03, -1.5087e-02,  9.9977e-03,\n",
       "                       6.1509e-03,  4.5360e-04,  1.4042e-02, -1.2286e-02,  9.7833e-03,\n",
       "                      -1.0627e-02, -1.0142e-02,  1.2376e-02,  1.4029e-02, -3.4464e-03,\n",
       "                      -1.0344e-02,  1.0455e-02, -8.0019e-04, -1.6862e-02,  1.0766e-02,\n",
       "                       4.1769e-04,  1.1118e-02,  1.6667e-02,  9.2562e-03,  2.9839e-03,\n",
       "                       1.7534e-03,  6.5621e-03,  1.7443e-02, -8.4776e-03, -2.4486e-03,\n",
       "                       1.5334e-02,  8.6546e-04, -3.6119e-03, -1.7775e-02, -2.1907e-03,\n",
       "                      -1.2679e-02,  5.1672e-03,  3.4347e-03, -5.8559e-03,  5.0594e-04,\n",
       "                       9.3105e-03,  6.9289e-04, -5.8215e-03,  9.5684e-03,  1.0192e-02,\n",
       "                      -1.0614e-02, -9.4842e-03,  1.4950e-02,  9.0771e-03,  7.5966e-03,\n",
       "                      -1.4499e-02, -1.7675e-02, -5.3437e-03,  1.2298e-02, -5.3759e-03,\n",
       "                      -1.7115e-02, -1.6198e-02, -3.3491e-04,  1.7629e-02, -8.8580e-03,\n",
       "                      -4.3293e-05, -3.1548e-03, -1.6555e-02,  3.1675e-03,  1.4472e-02,\n",
       "                      -1.4546e-02,  7.7180e-03,  3.2179e-03, -1.2761e-02, -2.1794e-03,\n",
       "                      -8.9203e-03, -8.9951e-03, -6.5075e-03, -7.3755e-03, -1.8073e-03,\n",
       "                       1.1602e-02,  1.3985e-02,  3.5258e-03,  5.1699e-03, -5.3112e-04,\n",
       "                      -5.4853e-03, -2.2402e-03, -7.3937e-03,  3.9516e-04, -1.6450e-02,\n",
       "                       2.3181e-03,  1.5794e-02, -1.6780e-02])),\n",
       "             ('classifier.4.weight',\n",
       "              tensor([[ 0.0416, -0.0289,  0.0459,  ...,  0.0717,  0.0355,  0.0420],\n",
       "                      [-0.0834,  0.0632, -0.0028,  ...,  0.0449, -0.0514,  0.0267],\n",
       "                      [ 0.0074, -0.0314,  0.0065,  ..., -0.0353, -0.0779, -0.0830],\n",
       "                      ...,\n",
       "                      [ 0.0326, -0.0023,  0.0181,  ...,  0.0802, -0.0313,  0.0316],\n",
       "                      [ 0.0008, -0.0163, -0.0286,  ..., -0.0044, -0.0535, -0.0753],\n",
       "                      [-0.0249, -0.0282, -0.0756,  ..., -0.0819, -0.0760,  0.0665]])),\n",
       "             ('classifier.4.bias',\n",
       "              tensor([-0.0423,  0.0883, -0.0756, -0.0144,  0.0749,  0.0603, -0.0270, -0.0293,\n",
       "                      -0.0772, -0.0256,  0.0787,  0.0828, -0.0535,  0.0679,  0.0432, -0.0773,\n",
       "                      -0.0683,  0.0498,  0.0339,  0.0710, -0.0259,  0.0819,  0.0536,  0.0161,\n",
       "                       0.0857, -0.0805,  0.0637, -0.0646, -0.0771, -0.0762, -0.0843,  0.0259,\n",
       "                      -0.0833, -0.0842, -0.0588,  0.0577,  0.0469,  0.0733, -0.0466, -0.0587,\n",
       "                       0.0142,  0.0270, -0.0531,  0.0041, -0.0536, -0.0597,  0.0646]))])"
      ]
     },
     "execution_count": 163,
     "metadata": {},
     "output_type": "execute_result"
    }
   ],
   "source": [
    "model.state_dict()"
   ]
  },
  {
   "cell_type": "markdown",
   "id": "fa7c4d57-a7b4-47ae-b469-e3db2bcda5bf",
   "metadata": {},
   "source": [
    "### Establece las funciones de pérdida, optimización y las métricas que consideres necesarias para evaluar"
   ]
  },
  {
   "cell_type": "code",
   "execution_count": 165,
   "id": "6c803568-4105-4ed6-8b06-09493d64b1d7",
   "metadata": {},
   "outputs": [
    {
     "name": "stdout",
     "output_type": "stream",
     "text": [
      "helper_functions.py already exists, skipping download...\n"
     ]
    }
   ],
   "source": [
    "import requests\n",
    "from pathlib import Path\n",
    "\n",
    "# Descarga de las funciones\n",
    "if Path(\"helper_functions.py\").is_file():\n",
    "  print(\"helper_functions.py already exists, skipping download...\")\n",
    "else:\n",
    "  print(\"Downloading helper_functions.py\")\n",
    "  request = requests.get(\"https://raw.githubusercontent.com/mrdbourke/pytorch-deep-learning/main/helper_functions.py\")\n",
    "  with open(\"helper_functions.py\", \"wb\") as f:\n",
    "    f.write(request.content)"
   ]
  },
  {
   "cell_type": "code",
   "execution_count": 166,
   "id": "2345803a-3250-48bc-a12d-047536454443",
   "metadata": {},
   "outputs": [],
   "source": [
    "from helper_functions import accuracy_fn\n",
    "\n",
    "# Setup de las funciones de perdida y optimización\n",
    "loss_fn = nn.CrossEntropyLoss()\n",
    "optimizer = torch.optim.SGD(params=model.parameters(),\n",
    "                            lr=0.1)"
   ]
  },
  {
   "cell_type": "markdown",
   "id": "2b06d2c1-d4e3-4cd9-b966-6b5b08196c79",
   "metadata": {},
   "source": [
    "### Crea funciones para el bucle de entrenamiento y test"
   ]
  },
  {
   "cell_type": "code",
   "execution_count": 168,
   "id": "19c3228b-5946-426f-babd-db36a9786a69",
   "metadata": {},
   "outputs": [],
   "source": [
    "from timeit import default_timer as timer\n",
    "def print_train_time(start: float,\n",
    "                     end: float,\n",
    "                     device: torch.device = None):\n",
    " \n",
    "  total_time = end-start\n",
    "  print(f\"Tiempo de entrenamiento en {device}: {total_time:.3f} seconds\")\n",
    "  return total_time"
   ]
  },
  {
   "cell_type": "code",
   "execution_count": 169,
   "id": "e4cd8c3b-0e47-4698-9525-a5fc82ad06c7",
   "metadata": {},
   "outputs": [
    {
     "name": "stdout",
     "output_type": "stream",
     "text": [
      "Tiempo de entrenamiento en cpu: 0.000 seconds\n"
     ]
    },
    {
     "data": {
      "text/plain": [
       "2.0900000890833326e-05"
      ]
     },
     "execution_count": 169,
     "metadata": {},
     "output_type": "execute_result"
    }
   ],
   "source": [
    "start_time = timer()\n",
    "\n",
    "end_time = timer()\n",
    "print_train_time(start=start_time,\n",
    "                 end=end_time,\n",
    "                 device=\"cpu\")"
   ]
  },
  {
   "cell_type": "markdown",
   "id": "70915e57-bf08-4026-80a4-e9804c5df1f3",
   "metadata": {},
   "source": [
    "### Medir tiempos"
   ]
  },
  {
   "cell_type": "code",
   "execution_count": 171,
   "id": "f5dc2690-6251-4034-abd2-ef9e7ed3c71c",
   "metadata": {},
   "outputs": [
    {
     "data": {
      "application/vnd.jupyter.widget-view+json": {
       "model_id": "d8428a5d06d54d0dace28ef973b76061",
       "version_major": 2,
       "version_minor": 0
      },
      "text/plain": [
       "  0%|          | 0/3 [00:00<?, ?it/s]"
      ]
     },
     "metadata": {},
     "output_type": "display_data"
    },
    {
     "name": "stdout",
     "output_type": "stream",
     "text": [
      "Época: 0 \n",
      "-----\n",
      "Revisado 0/112800 muestras.\n",
      "Revisado 12800/112800 muestras.\n",
      "Revisado 25600/112800 muestras.\n",
      "Revisado 38400/112800 muestras.\n",
      "Revisado 51200/112800 muestras.\n",
      "Revisado 64000/112800 muestras.\n",
      "Revisado 76800/112800 muestras.\n",
      "Revisado 89600/112800 muestras.\n",
      "Revisado 102400/112800 muestras.\n",
      "Pérdida entrenamiento: 0.8955 | Pérdida test: 0.4692, Precisión test: 84.2847\n",
      "Época: 1 \n",
      "-----\n",
      "Revisado 0/112800 muestras.\n",
      "Revisado 12800/112800 muestras.\n",
      "Revisado 25600/112800 muestras.\n",
      "Revisado 38400/112800 muestras.\n",
      "Revisado 51200/112800 muestras.\n",
      "Revisado 64000/112800 muestras.\n",
      "Revisado 76800/112800 muestras.\n",
      "Revisado 89600/112800 muestras.\n",
      "Revisado 102400/112800 muestras.\n",
      "Pérdida entrenamiento: 0.4815 | Pérdida test: 0.4134, Precisión test: 85.6239\n",
      "Época: 2 \n",
      "-----\n",
      "Revisado 0/112800 muestras.\n",
      "Revisado 12800/112800 muestras.\n",
      "Revisado 25600/112800 muestras.\n",
      "Revisado 38400/112800 muestras.\n",
      "Revisado 51200/112800 muestras.\n",
      "Revisado 64000/112800 muestras.\n",
      "Revisado 76800/112800 muestras.\n",
      "Revisado 89600/112800 muestras.\n",
      "Revisado 102400/112800 muestras.\n",
      "Pérdida entrenamiento: 0.4099 | Pérdida test: 0.3906, Precisión test: 86.3680\n",
      "Tiempo de entrenamiento en cpu: 100.877 seconds\n"
     ]
    }
   ],
   "source": [
    "from tqdm.auto import tqdm\n",
    "\n",
    "torch.manual_seed(42)\n",
    "train_trime_start_on_cpu = timer()\n",
    "epochs = 3\n",
    "\n",
    "# Crear el bucle de entrenamiento y prueba\n",
    "for epoch in tqdm(range(epochs)):\n",
    "  print(f\"Época: {epoch} \\n-----\")\n",
    "\n",
    "  train_loss = 0\n",
    "\n",
    "  for batch, (X, y) in enumerate(train_dataloader):\n",
    "    model.train()\n",
    "    # 1. Propagación hacia adelante (Forward pass)\n",
    "    y_pred = model(X)\n",
    "\n",
    "    # 2. Calcular la pérdida (por lote)\n",
    "    loss = loss_fn(y_pred, y)\n",
    "    train_loss += loss  # Acumular la pérdida de entrenamiento\n",
    "\n",
    "    # 3. Reiniciar gradientes del optimizador\n",
    "    optimizer.zero_grad()\n",
    "\n",
    "    # 4. Propagación hacia atrás (Backward)\n",
    "    loss.backward()\n",
    "\n",
    "    # 5. Paso del optimizador (actualizar pesos)\n",
    "    optimizer.step()\n",
    "\n",
    "    # Mostrar el progreso\n",
    "    if batch % 400 == 0:\n",
    "      print(f\"Revisado {batch * len(X)}/{len(train_dataloader.dataset)} muestras.\")\n",
    "\n",
    "  # Dividir la pérdida total entre la longitud del dataloader de entrenamiento\n",
    "  train_loss /= len(train_dataloader)\n",
    "\n",
    "  ### Evaluación/Test\n",
    "  test_loss, test_acc = 0, 0\n",
    "  model.eval()\n",
    "  with torch.inference_mode():\n",
    "    for X_test, y_test in test_dataloader:\n",
    "      # 1. Propagación hacia adelante\n",
    "      test_pred = model(X_test)\n",
    "\n",
    "      # 2. Calcular la pérdida (acumulativamente)\n",
    "      test_loss += loss_fn(test_pred, y_test)\n",
    "\n",
    "      # 3. Calcular precisión\n",
    "      test_acc += accuracy_fn(y_true=y_test,\n",
    "                              y_pred=test_pred.argmax(dim=1))\n",
    "\n",
    "    # Calcular el promedio de pérdida de test por lote\n",
    "    test_loss /= len(test_dataloader)\n",
    "\n",
    "    # Calcular el promedio de precisión de test por lote\n",
    "    test_acc /= len(test_dataloader)\n",
    "\n",
    "  # Mostrar los resultados de esta época\n",
    "  print(f\"Pérdida entrenamiento: {train_loss:.4f} | Pérdida test: {test_loss:.4f}, Precisión test: {test_acc:.4f}\")\n",
    "\n",
    "# Calcular el tiempo total de entrenamiento\n",
    "train_time_end_on_cpu = timer()\n",
    "total_train_time_model = print_train_time(start=train_trime_start_on_cpu,\n",
    "                                          end=train_time_end_on_cpu,\n",
    "                                          device=str(next(model.parameters()).device))\n"
   ]
  },
  {
   "cell_type": "code",
   "execution_count": 172,
   "id": "4bdee0eb-6f05-4d0f-b630-782787c8deea",
   "metadata": {},
   "outputs": [
    {
     "data": {
      "text/plain": [
       "'cpu'"
      ]
     },
     "execution_count": 172,
     "metadata": {},
     "output_type": "execute_result"
    }
   ],
   "source": [
    "str(next(model.parameters()).device)"
   ]
  },
  {
   "cell_type": "markdown",
   "id": "0df7cebd-3179-40c3-ad99-dd875afd446b",
   "metadata": {},
   "source": [
    "### Realiza predicciones sobre tu modelo y almacena los resultados"
   ]
  },
  {
   "cell_type": "code",
   "execution_count": 174,
   "id": "8b69cb27-11e1-471b-8f54-d3e74d2c191e",
   "metadata": {},
   "outputs": [
    {
     "data": {
      "application/vnd.jupyter.widget-view+json": {
       "model_id": "fd4fa14712d145299f277aa9766b8a52",
       "version_major": 2,
       "version_minor": 0
      },
      "text/plain": [
       "  0%|          | 0/588 [00:00<?, ?it/s]"
      ]
     },
     "metadata": {},
     "output_type": "display_data"
    },
    {
     "data": {
      "text/plain": [
       "{'model_name': 'EMNISTModel',\n",
       " 'model_loss': 0.39061155915260315,\n",
       " 'model_acc': 86.36798469387755}"
      ]
     },
     "execution_count": 174,
     "metadata": {},
     "output_type": "execute_result"
    }
   ],
   "source": [
    "torch.manual_seed(42)\n",
    "\n",
    "def eval_model(model: torch.nn.Module,\n",
    "               data_loader: torch.utils.data.DataLoader,\n",
    "               loss_fn: torch.nn.Module,\n",
    "               accuracy_fn):\n",
    "  \"\"\"Devuelve un diccionario con los resultados de la predicción del modelo sobre data_loader.\"\"\"\n",
    "  loss, acc = 0, 0\n",
    "  model.eval()\n",
    "  with torch.inference_mode():\n",
    "    for X, y in tqdm(data_loader):\n",
    "      # Realizar predicciones\n",
    "      y_pred = model(X)\n",
    "\n",
    "      # Acumular los valores de pérdida y precisión por lote\n",
    "      loss += loss_fn(y_pred, y)\n",
    "      acc += accuracy_fn(y_true=y,\n",
    "                         y_pred=y_pred.argmax(dim=1))\n",
    "\n",
    "    # Escalar pérdida y precisión para obtener el promedio por lote\n",
    "    loss /= len(data_loader)\n",
    "    acc /= len(data_loader)\n",
    "\n",
    "  return {\n",
    "      \"model_name\": model.__class__.__name__,  # Solo funciona si el modelo fue creado con una clase\n",
    "      \"model_loss\": loss.item(),\n",
    "      \"model_acc\": acc\n",
    "  }\n",
    "\n",
    "# Evaluar el modelo y guardar los resultados\n",
    "model_results = eval_model(model=model,\n",
    "                           data_loader=test_dataloader,\n",
    "                           loss_fn=loss_fn,\n",
    "                           accuracy_fn=accuracy_fn)\n",
    "\n",
    "model_results"
   ]
  },
  {
   "cell_type": "markdown",
   "id": "89d7c61f-e1af-4cf3-bd6a-086afe95af56",
   "metadata": {},
   "source": [
    "### Si tu modelo no es adecuado, realiza las mejoras que estimes oportunas para alcanzar mejores valores y justifícalas"
   ]
  },
  {
   "cell_type": "markdown",
   "id": "3fb2be55-7e40-456f-863e-5b055cffaaf3",
   "metadata": {},
   "source": [
    "Considero que mi modelo devuelve unos resultados aceptables, por lo que no sería necesario mejorarlo. "
   ]
  },
  {
   "cell_type": "markdown",
   "id": "0d462ed1-8a55-4756-b0c9-c4ec42b8a281",
   "metadata": {},
   "source": [
    "### Crea una matriz de confusión para evaluar la predicción"
   ]
  },
  {
   "cell_type": "code",
   "execution_count": 178,
   "id": "6e16395d-887c-4b98-961c-b0e4b5aeb290",
   "metadata": {},
   "outputs": [
    {
     "data": {
      "application/vnd.jupyter.widget-view+json": {
       "model_id": "3541ea6f416b4909a4d68402aad30234",
       "version_major": 2,
       "version_minor": 0
      },
      "text/plain": [
       "Realizando predicciones...:   0%|          | 0/588 [00:00<?, ?it/s]"
      ]
     },
     "metadata": {},
     "output_type": "display_data"
    },
    {
     "name": "stdout",
     "output_type": "stream",
     "text": [
      "[tensor([41, 39,  9, 26, 44, 43, 14, 11,  3, 18, 16,  7,  2, 16,  0, 27,  6,  0,\n",
      "        28, 43, 29,  8,  4, 36, 24, 15, 39, 34, 37, 22, 12, 21]), tensor([28, 15, 43, 12, 20, 26, 12,  1, 42, 13,  8, 23,  3,  5,  7, 25, 18, 14,\n",
      "        16, 31, 41, 21, 36, 17,  9, 28, 34, 35,  0, 39, 33, 40]), tensor([20,  2, 41,  9, 18, 36, 38, 26, 14, 27, 14, 43, 15,  8,  3, 35, 45, 17,\n",
      "        28, 33, 12, 32, 31, 11, 13, 40, 29, 16, 30, 24, 25,  1]), tensor([12,  9,  5, 42, 23,  2,  4, 16, 19, 35, 24, 11, 22, 22, 45, 46,  4, 30,\n",
      "        27,  6, 29, 25,  8, 44, 32, 34,  3,  2, 17,  1, 26, 38]), tensor([45, 39, 45, 30, 29, 11, 38, 28, 26, 42, 40, 13, 10, 33, 12,  5, 25,  6,\n",
      "        36,  0, 12, 19,  9, 12, 17, 13,  7, 34, 14, 46, 23, 20]), tensor([15, 32,  7,  8,  5, 22,  4, 27, 30, 18, 28, 35,  6, 33, 46, 10, 28, 25,\n",
      "        38,  7,  0,  1, 14,  9, 42, 13, 26,  4,  3, 40, 20, 29]), tensor([39, 21, 24, 36,  1,  4, 22, 13,  3, 24,  8, 46, 37, 10, 16, 39, 11, 40,\n",
      "        10, 28, 28, 33, 18, 25, 32, 29, 20,  0,  6, 38, 14, 18]), tensor([38,  4, 43, 20, 14, 26,  5, 10, 42, 21,  6, 39, 10, 16,  0, 22, 24, 44,\n",
      "        18,  8, 28, 45, 34, 25,  3, 33, 29, 41, 13, 30,  9,  2]), tensor([23, 19, 42,  8, 42, 33, 35, 15,  9, 43, 28, 29, 31, 36,  3,  6, 12, 46,\n",
      "        10,  1, 39, 25, 30,  9, 38,  2, 38, 40, 14, 11, 17, 14]), tensor([24, 36, 25, 42, 32, 33, 14, 28, 11, 15, 30, 11, 38, 43,  7,  4, 18,  8,\n",
      "         1, 12, 35, 27, 19, 39,  1, 20, 20, 13, 29,  9, 22, 18]), tensor([40, 14, 43, 35, 32,  8, 20, 27, 41, 37, 23, 18,  1,  2,  9, 28, 33, 40,\n",
      "        12, 41,  1, 24, 15, 46, 30, 45, 26, 18, 35, 13, 29,  8]), tensor([21, 13, 31, 26, 37, 33, 11, 32, 36, 25,  1,  5, 43, 16, 35,  1, 24,  7,\n",
      "        34, 40, 28, 39, 31, 38, 29, 45,  4, 46,  6,  1, 41, 27]), tensor([28, 16, 33, 18,  1, 19, 45,  2, 41, 24,  0, 21,  5, 39, 12, 22, 38, 30,\n",
      "        16, 26, 36, 31, 20, 14, 23,  7, 15,  1, 43, 26,  6, 36]), tensor([14, 39, 35, 23, 42, 20, 36, 34,  4,  3, 33, 30, 43, 12,  0, 25, 44, 18,\n",
      "        33, 10, 41, 37,  1,  6,  5, 27, 29,  2, 13, 26,  7, 15]), tensor([27,  5, 35, 43,  0, 16, 29,  1, 25,  8, 26,  8, 34,  6, 18, 22, 21, 38,\n",
      "        39, 32,  3, 40,  1,  9,  5, 15, 36, 17, 13, 46, 40, 10]), tensor([35, 15, 42, 46, 46, 42, 44, 27, 29, 11, 10,  9,  4,  9, 12,  0,  0,  1,\n",
      "        16,  1, 13, 43, 23,  4, 23,  2,  8, 30, 21, 39, 22, 34]), tensor([ 3, 26, 42, 34, 16,  9, 36, 29, 43, 36, 17, 24, 26, 40, 12, 15, 27, 25,\n",
      "         7,  4, 31, 21, 41, 37, 11, 34,  8, 10,  1, 10, 19, 23]), tensor([43,  1,  5, 17, 41,  9, 14, 40, 29,  1, 28,  6, 35, 11, 26, 39,  4, 37,\n",
      "        44, 38, 32, 33, 46, 15, 27, 24, 34,  4, 19, 18,  8,  2]), tensor([32, 38, 40, 26, 11, 29,  9, 18,  2, 12,  6, 28, 25,  8,  0, 16, 38, 45,\n",
      "        23,  7,  1, 24, 44, 17,  8, 37, 25, 33, 34, 43, 10,  1]), tensor([ 8, 25,  7,  6, 42, 37, 11, 22, 10,  4, 26, 40, 18, 27, 30, 23, 28, 29,\n",
      "        16,  0, 44, 33, 21, 45, 31, 38, 12, 36,  2, 13, 10, 24]), tensor([ 7, 15, 19, 37, 24, 43, 17, 26,  8, 11, 28,  9, 14,  2, 12,  6, 25,  3,\n",
      "        36, 42, 41,  8, 26,  0, 10, 33,  5, 18, 30, 31,  4, 45]), tensor([21, 25,  7,  1,  8, 40, 41,  4,  7, 15, 18, 45, 13, 14, 29, 16,  2, 17,\n",
      "        38, 10, 22,  6, 46, 28, 34, 11,  3,  9, 30, 45, 33, 32]), tensor([13, 35, 24, 40, 36,  3, 28, 39, 19,  9, 32, 26,  0, 11, 31, 25, 45, 38,\n",
      "        15,  4, 16, 29, 43,  8, 42,  1, 20,  5, 10,  7,  2, 30]), tensor([ 1, 26, 25, 38, 45, 46, 13,  3, 38, 19,  4,  5, 43,  6, 45, 23, 31, 33,\n",
      "         4, 27, 16, 25, 40, 22, 41, 21,  7, 12, 32, 11,  9, 29]), tensor([20, 12, 21, 35, 10, 38, 22, 40, 38,  8, 16, 30,  8, 25,  3, 27,  9,  7,\n",
      "        10,  1,  5, 34, 14, 19, 44, 45, 11, 37, 23, 31, 39, 26]), tensor([45, 31, 37, 24,  1,  8,  4, 39, 12, 26, 12, 39, 25, 22, 13, 46,  4, 44,\n",
      "        34, 19, 32, 38, 42, 28, 27, 45, 15,  7, 14, 16, 36,  2]), tensor([ 2, 19, 36, 34, 39, 10,  8,  1,  8, 30, 38, 16, 29, 17,  7, 33,  3, 13,\n",
      "         8, 31, 15,  6, 27, 20, 23, 14,  0, 42, 46, 12,  1, 35]), tensor([ 0, 45, 33, 13, 32, 26, 25, 12, 35, 25,  9,  6, 38, 34,  0, 15, 22,  8,\n",
      "         2, 27, 41,  9, 19, 10, 20, 24, 10,  4, 42, 13, 17, 46]), tensor([34, 33, 31, 42, 29, 13, 39, 43,  6, 33, 44, 32, 11,  9,  0, 14, 12, 25,\n",
      "        17, 28,  4, 22, 24, 36,  1,  7, 18, 30, 16, 43, 19,  7]), tensor([43,  9,  4, 43, 13, 24, 13, 27, 26, 22,  3, 34, 19, 42, 20, 36, 23, 37,\n",
      "        31, 16, 18, 21, 39,  7, 12,  8, 26, 15, 29,  5,  1, 45]), tensor([17, 43, 30, 12, 23,  8,  4, 35, 26,  6,  0, 39, 12, 32,  8,  4, 34, 32,\n",
      "        42,  5, 23, 24, 34, 40,  3, 19, 45, 25, 31, 41, 20,  7]), tensor([ 6, 11, 35, 36, 15,  0,  7, 24, 27,  1, 20,  4,  5, 44, 12, 17, 41, 37,\n",
      "        42, 11, 30, 46, 21, 40, 16, 45, 13, 22, 28, 33,  8, 14]), tensor([14,  3,  4,  2, 18, 43, 30, 22,  9, 40, 19, 12, 37, 45, 36, 23,  2,  8,\n",
      "        20, 10,  7, 42, 24, 29, 27,  0, 15, 41, 21, 38,  1, 17]), tensor([ 8, 28, 46,  5, 30, 10, 12, 36, 26, 35,  8,  7, 44, 17,  4, 32, 21,  9,\n",
      "        11, 40,  7, 21, 42,  1, 14, 24, 19, 13, 27,  6, 33, 37]), tensor([39, 23, 23,  6, 26, 43, 40, 11,  0,  3, 12, 36, 33, 10, 10, 27,  5,  1,\n",
      "         2, 31, 13, 22, 38,  9, 28, 14, 33, 17, 37, 12,  8, 45]), tensor([18, 24,  5,  1, 14, 24,  1, 39, 25, 23,  2, 35, 41,  2, 42, 20, 10, 26,\n",
      "        30,  6, 46, 38,  9, 34, 17, 38, 21, 28,  3, 40, 27, 11]), tensor([36, 27, 34, 19, 24,  6,  1,  3, 11, 16, 18,  4, 33, 39, 34,  7, 29, 32,\n",
      "        26,  8, 20, 22, 13, 46, 30,  9,  0, 10, 28, 35,  4, 15]), tensor([18, 14, 23, 37, 10, 22,  2, 43, 46,  7, 30, 18, 27,  4,  0,  8, 39,  3,\n",
      "        43,  1,  4,  1, 34,  1, 19, 31, 36, 32, 16, 17, 21, 14]), tensor([31, 34, 39, 23, 36,  2, 19,  1, 11, 30,  0, 35, 22, 34,  1, 28, 18, 15,\n",
      "         5, 10, 13, 14, 20,  9, 18, 40, 38, 12,  4, 45, 28, 41]), tensor([27,  8, 11, 13, 38,  3, 30, 25, 12, 32, 10, 17, 38, 46, 35, 24, 39, 16,\n",
      "         7, 31, 22, 45, 10,  4,  6, 15, 38, 28,  9, 44, 19, 10]), tensor([ 1, 10, 41,  8, 26, 19, 28, 27, 10, 25, 34, 20, 26, 21,  9,  1, 15,  4,\n",
      "        43, 23, 37, 29, 38, 46, 33, 16, 13, 21, 39, 31, 18,  3]), tensor([35, 13, 33, 42,  1,  8, 23, 27,  9,  6, 38, 34, 10, 42, 29, 32, 17, 43,\n",
      "        46, 21, 11, 22, 45, 36, 26, 30, 15, 19,  2, 24, 37, 39]), tensor([10, 19, 11, 45,  6,  2, 38, 15, 10,  1, 14, 17, 42, 13,  1,  0, 44,  9,\n",
      "        39, 31, 16,  5, 27, 25, 24,  3, 37, 26, 24, 32, 35, 23]), tensor([10, 34, 28,  0,  2, 31, 10,  7, 39, 26,  5,  7, 16, 44, 39,  4, 22, 25,\n",
      "        40, 39, 29, 24, 17,  1,  8, 20, 45,  3, 46, 27, 38, 23]), tensor([16, 10, 23, 10, 29,  0, 14, 31,  1, 25, 44, 25, 20, 42, 46, 21,  6,  7,\n",
      "        11, 28, 34, 39, 45, 10, 35, 12, 40, 33,  5, 19,  4,  2]), tensor([44, 13, 35, 37,  9,  4, 19, 11, 31, 27, 42, 12, 20, 42, 23, 45, 18, 14,\n",
      "         3, 40, 21,  6, 43, 30,  7,  1, 29, 15, 33,  8, 18, 28]), tensor([ 1, 40, 44, 24, 12,  3, 39, 14, 26,  1, 46, 34, 31, 21, 38, 36, 25, 17,\n",
      "         2,  8, 22,  7,  6, 16, 11,  9, 25,  9, 20, 11, 19, 18]), tensor([34,  4, 20, 14, 43, 18, 33, 40, 24, 41, 42, 25, 35, 46, 32, 10,  1, 17,\n",
      "        19, 11, 45, 17, 23,  2, 35, 23, 26, 39,  6, 38, 45, 30]), tensor([25, 12, 39, 13, 42,  7, 18,  0,  2, 12, 43,  3, 16, 17,  9, 27, 38, 42,\n",
      "        26, 20, 30, 45,  6, 33, 34,  5, 29, 24, 15, 40, 36, 36]), tensor([19, 22, 10, 25,  8,  1, 27,  9, 38, 13, 16, 15, 13, 40, 32, 18, 43, 24,\n",
      "        28, 21, 41, 36, 12, 31, 17, 34,  3, 46, 21,  2,  7, 37]), tensor([ 6, 13, 12,  1,  4, 43, 25,  3, 46, 42,  8,  2, 14, 32, 17, 24, 39,  1,\n",
      "        23, 25, 29, 36, 23, 16, 27, 34, 30, 19, 37, 31,  9, 28]), tensor([32, 11, 10, 28, 33, 25, 34, 36,  2, 24, 44,  3, 14, 13,  1,  8, 16, 15,\n",
      "        42, 40, 19, 37, 31,  6, 23, 22, 30, 39,  7, 16,  4, 18]), tensor([40,  6,  3, 27, 13,  4, 37, 30,  0, 16, 38,  2, 19, 24, 44, 21, 28, 39,\n",
      "         6, 16, 26, 31, 14, 38, 17, 23,  8,  9,  7, 20, 42, 25]), tensor([46, 13, 32, 14, 27,  3, 26,  7, 40,  5, 28,  0, 21, 45, 17, 41, 25, 33,\n",
      "        10,  1, 36,  9, 22, 38, 30, 34, 44, 16, 19, 29, 31, 39]), tensor([37,  8, 42, 10, 24,  1, 26,  0, 19, 34, 39, 28, 40, 21, 22,  0, 30, 45,\n",
      "        13, 13,  2, 23, 41, 15, 18,  6, 14,  3,  4, 38,  5,  9]), tensor([38, 31, 13, 10,  1, 27,  7, 29,  4, 26, 33, 14, 25,  2, 34, 44,  8, 40,\n",
      "        35, 32, 18, 45, 24, 43,  9, 13,  6,  5, 30, 42,  4, 44]), tensor([19, 44,  3,  4,  0, 29, 15, 27, 38,  1,  9, 45, 32, 12,  6, 25, 35,  2,\n",
      "        18, 14, 40, 25, 20, 11, 41, 14, 26, 31, 36, 37, 10,  1]), tensor([33, 42,  3, 25, 16, 27, 25, 31, 22, 40, 33,  8, 29, 36, 18, 23, 10, 30,\n",
      "        12,  9,  1, 32, 21, 11, 12, 28, 38, 14, 42, 46, 45,  0]), tensor([ 6, 25, 37,  1, 12, 45, 18, 39, 19, 31, 12, 18,  0, 38, 11,  7, 13, 29,\n",
      "        40, 20,  3,  5, 30, 15, 22, 27, 44, 33, 46, 14, 32, 23]), tensor([38, 18, 34, 22, 17, 36, 10, 30, 29,  6, 37, 39, 27,  5, 19, 35, 14, 40,\n",
      "        42,  0, 12,  6,  2, 25, 16, 38, 33, 31, 42, 24, 23,  9]), tensor([24, 41, 27,  9, 15,  0, 28, 34,  5, 31, 40, 23, 29, 32, 45, 26, 13, 22,\n",
      "         6, 35, 10, 22, 11, 46,  2, 25,  1, 42,  7,  8, 20, 17]), tensor([22,  3, 10,  0,  9, 12, 45,  2, 25, 14, 16, 37, 15,  6, 32, 43, 15, 23,\n",
      "        26, 46, 42, 25, 17, 11, 27, 31, 18, 34, 20,  5, 35, 36]), tensor([ 2, 29, 11,  1, 26, 27, 24,  7, 33,  4, 20,  6, 25, 35, 40,  3, 22, 27,\n",
      "        10, 46, 34, 39, 14, 30,  4, 38, 31, 42,  4,  5, 44, 42]), tensor([25, 17, 22, 32, 44, 33, 30, 18, 35,  8,  2, 40, 26, 19, 15, 16, 24, 13,\n",
      "         0, 45, 14, 27, 39, 29, 10,  1, 42,  9, 11, 34, 23,  3]), tensor([27, 12, 16, 10,  6, 40, 28, 36, 23,  3, 39,  1,  5, 32,  4, 38, 29, 13,\n",
      "        24, 46, 19, 38, 35, 26, 12, 44, 44, 17,  9, 25,  8, 37]), tensor([ 1, 25, 42, 32, 34, 10, 21, 23,  8,  9, 21, 18,  4, 21, 35, 36, 13, 31,\n",
      "        45, 19, 14, 37, 22, 20, 41, 21, 21, 18, 38, 17, 29, 21]), tensor([37, 44, 18,  5, 24, 16, 12,  1, 36, 41, 27, 11,  9, 46,  6, 20, 31,  8,\n",
      "         3,  8, 14, 40, 17,  7, 33, 13, 24, 35,  0, 38, 32, 24]), tensor([17, 33, 23, 34, 22, 10, 22,  9, 42, 43,  7, 37, 45, 46,  5, 44, 36, 28,\n",
      "        39, 34, 26, 14, 32,  4, 13, 15, 18, 17, 21, 35, 38, 27]), tensor([24, 12,  5, 16, 25, 22, 43, 41, 33, 33, 16, 37, 45,  8, 14,  2, 11,  0,\n",
      "        36, 23, 27,  3, 13, 39, 12,  4,  1, 40, 28, 26, 19, 31]), tensor([24, 12,  9, 39,  2, 29,  5, 13,  6, 14, 11, 41,  7, 19, 38, 40, 38, 27,\n",
      "         0, 43, 20, 36, 19, 21, 17, 32,  1, 22, 16, 33, 35, 24]), tensor([15, 14, 29, 24, 32,  0, 29, 33, 43, 21,  3, 26, 36, 19,  8,  3,  2,  5,\n",
      "         7, 41,  9, 11, 16, 37,  1, 46, 30, 28,  0, 38,  6, 42]), tensor([17,  3, 33, 26, 12, 21, 18,  9, 42, 29, 40,  8,  1, 44, 11, 13, 27, 22,\n",
      "        23, 18, 32, 14, 35, 45, 30,  6, 20, 31,  8, 18,  7,  0]), tensor([37, 36, 10, 21, 41,  2,  7, 41, 30, 38, 16, 46, 40, 13,  9, 11, 42, 12,\n",
      "        33, 19, 39,  3, 42, 24, 46, 14,  0, 31, 32, 22, 28,  4]), tensor([40, 18, 22, 20, 38, 16, 26, 12, 35,  2, 19,  4, 33,  5, 20, 11, 24, 30,\n",
      "        13, 37,  8, 14, 25, 41, 12, 28,  0, 36, 31, 29, 39, 27]), tensor([35, 15, 19, 33, 24, 41, 26,  0, 42, 38, 37, 40, 39,  1, 22, 21, 32, 29,\n",
      "        31, 30,  9, 22, 34, 45, 17, 38, 13,  3,  6, 20, 23, 13]), tensor([13, 39, 27,  3,  7, 12, 24,  8, 37, 19, 13,  0, 36,  1, 11, 33,  2, 29,\n",
      "        31, 23,  4, 30, 34, 10, 25, 28, 18, 32,  9, 40, 38, 16]), tensor([10, 43,  6, 31,  5, 12,  1, 26, 18, 16, 28, 22, 18,  5, 13,  2, 44, 11,\n",
      "        27, 45, 23,  3,  7, 19, 32, 14, 25, 40, 37,  4, 30, 42]), tensor([15, 42,  9,  4, 28, 22, 30,  7, 39, 25, 46, 29, 46, 32,  2, 12, 18, 31,\n",
      "         0, 16,  3, 23, 37, 13,  8, 35, 34, 20, 10, 19, 24, 27]), tensor([37, 46, 45, 26,  7, 10, 33, 19, 21, 13, 18,  3, 38,  2, 13, 15, 25, 43,\n",
      "        32, 12, 45, 14, 31, 16,  0,  9,  1,  8,  4,  6, 39, 42]), tensor([43, 10, 22, 16, 11, 27, 22,  7, 19,  0, 41, 34,  2,  1, 33, 42, 29, 38,\n",
      "        32,  9, 44,  7, 42, 15, 26, 13, 25, 42,  8, 31, 44, 12]), tensor([43,  2, 21, 13, 41, 32, 35, 18, 19, 17, 10,  5, 26, 34, 20, 30, 43, 23,\n",
      "         0, 29, 38, 12, 15,  8, 16, 11, 45, 31,  6, 25,  1, 46]), tensor([35, 43, 14, 16, 20,  0, 40,  1,  7, 13, 19,  2, 46, 18, 41,  1, 44,  6,\n",
      "        25, 15, 30, 28, 32, 36,  4,  8, 34, 10, 17, 31, 42, 16]), tensor([39,  1,  1, 32,  0, 17, 36, 33,  2, 40, 33, 20, 36, 10, 35, 27, 46,  8,\n",
      "        31, 44,  4, 38,  6, 18,  7, 37, 19, 28,  2, 26,  3,  5]), tensor([38, 26,  1, 12, 41, 24,  4,  4, 15, 10,  0,  3, 13, 18, 20, 37, 34, 17,\n",
      "        33, 36, 11, 19, 42,  3, 14, 32, 23,  1, 29, 45, 28, 35]), tensor([ 1, 31, 15, 25,  7,  8, 35,  4, 21, 26, 38, 34, 29, 36, 22,  8, 14, 12,\n",
      "        21, 46, 20, 33, 37, 41,  0, 17, 39, 14, 10, 45, 37,  5]), tensor([ 6, 21,  4,  7, 32,  9, 13, 10, 10, 28, 10,  3, 29, 36, 16, 12,  8,  2,\n",
      "        24, 41, 35, 11, 17,  1,  0, 25, 40, 26, 31, 22, 29, 18]), tensor([44,  0, 23, 46,  9, 25, 21,  8, 26, 19,  0, 17, 13, 45, 10,  2, 18, 12,\n",
      "        36,  1,  1, 16, 16, 38, 41,  4,  6,  5, 20, 32,  3, 24]), tensor([ 8, 11,  5,  6, 25, 17, 43,  9,  7, 12, 22, 23, 34, 31, 27, 36, 16, 42,\n",
      "         3,  4, 41,  0,  1,  8, 38, 14, 41, 26, 10, 32, 37, 29]), tensor([15,  4, 29, 33, 46,  5,  1, 22, 38, 11, 18, 19, 23, 25,  6, 12, 27, 26,\n",
      "        45,  3,  9,  4, 30,  8, 24, 35, 16, 32, 42,  2, 34,  0]), tensor([36, 20,  6, 24, 30,  2, 34, 27, 45,  0, 29, 14, 26, 44, 22, 32, 31,  5,\n",
      "        10, 18, 36, 46, 23, 13,  3, 40, 17, 25, 38,  7,  8,  4]), tensor([38, 11, 17, 29,  7, 37, 19, 10, 39, 23, 32, 21, 40,  1, 35, 28, 12, 28,\n",
      "         3, 33, 26, 20,  6,  8, 27, 25,  4, 43, 13, 28, 14, 24]), tensor([26, 39, 28,  0, 31, 17, 12, 36, 39,  5, 42, 15, 10, 20, 46, 24,  4, 37,\n",
      "        44, 45, 27, 32, 13, 23,  7, 16, 14, 21, 30, 19, 43,  8]), tensor([25,  1, 32, 22,  3, 15, 30, 26, 28, 17, 45,  7,  6, 38,  4, 24, 25, 39,\n",
      "        34, 11, 35, 41, 18, 32,  9,  2,  8, 10, 19,  0, 13,  4]), tensor([18, 23, 36, 45,  8, 15, 13, 28, 32, 43, 33,  3, 45, 14, 35, 17, 31,  1,\n",
      "         2, 44,  7, 22, 23, 10, 42, 25, 19, 33, 41, 20, 24,  4]), tensor([18,  5, 16, 32, 29, 18,  8, 31, 40, 22, 25, 28, 42, 38,  6, 15, 35, 26,\n",
      "        33,  2, 34, 37, 45,  1, 10, 39, 27,  9, 19, 18, 24, 13]), tensor([34, 28, 46, 39, 44,  7, 13, 30,  9, 45, 18, 12, 38, 29, 37, 27, 22, 11,\n",
      "        31, 36, 33, 35, 17,  3,  1, 25,  4,  5, 21, 18,  8,  0]), tensor([23, 44, 29, 16, 40, 37,  2, 41, 33,  5, 39, 45,  9, 21, 12,  4,  7,  3,\n",
      "         5, 14, 10, 34, 42, 18,  0, 43, 11, 13, 28, 40, 30,  8]), tensor([17, 30, 16, 45,  8, 21, 34, 20, 32,  2, 22, 14, 25, 26, 42, 40, 37, 39,\n",
      "        10, 38, 28,  9,  1, 19,  0, 13,  3, 38,  7, 27, 12, 13]), tensor([ 0, 42, 28, 25,  2, 38, 21, 17, 46, 26,  3,  5, 18, 33, 13, 31, 13, 22,\n",
      "        34,  9, 20, 14, 27, 39, 37,  6, 29,  7, 42, 41, 40, 19]), tensor([ 0, 33,  1,  5,  8, 32, 16, 29, 46, 17, 26,  6, 11, 21, 27, 24, 18,  1,\n",
      "        28, 40,  0,  9, 14, 38,  8, 25, 35, 12, 10, 43,  0, 12]), tensor([34,  1, 24, 44, 36, 37, 16, 35, 18, 46, 38, 45, 31, 17, 11, 27, 29, 22,\n",
      "         9, 15, 20, 14, 28,  7,  2,  4,  3, 40, 39, 12, 32, 30]), tensor([ 8, 25, 25, 24, 18, 12, 20,  2, 21, 34, 22, 27, 31, 15, 38,  9, 11, 38,\n",
      "         6, 28, 36, 40,  8,  4, 23, 30, 46, 32, 42, 41,  7, 26]), tensor([14, 39, 25, 13, 29, 22, 23,  8, 42,  9, 35, 37, 41, 38, 21, 33,  5, 16,\n",
      "        44, 27, 12, 20, 10, 13,  7, 43,  1, 28, 40, 31, 24,  5]), tensor([26, 26,  7, 24, 32, 13, 25, 18, 21, 20,  5,  3, 43, 20, 36, 17, 37, 23,\n",
      "        31, 27, 10, 39, 33, 16, 22, 12, 38, 45, 19,  8, 12, 10]), tensor([ 2, 31, 18,  7, 21, 32, 41, 12, 39, 37, 27, 45, 26, 30, 16, 15,  1, 34,\n",
      "        11, 36, 42, 29,  8, 40,  5,  3, 25, 22, 38, 44, 17,  6]), tensor([12, 39, 21, 38, 11, 21,  8, 28, 10, 23, 14,  9, 40,  1, 13, 34, 33, 26,\n",
      "        12, 40,  2, 29,  3,  4, 36,  6, 30,  4, 35, 19,  5, 25]), tensor([36,  6, 10, 13,  8,  1, 15, 45,  3, 24, 18, 17, 19,  9, 38, 29, 33, 16,\n",
      "        14,  4, 22, 33, 39,  8, 31, 28,  7, 20, 12, 39, 40,  5]), tensor([39, 41,  7, 10, 12, 36,  6,  4, 32, 22, 25,  5, 23, 17, 28, 19, 18, 16,\n",
      "        40, 26, 42, 45, 37,  8,  1,  9, 46, 31, 22, 35,  1, 33]), tensor([12,  1,  2, 22, 13, 19, 32, 45, 40, 26, 42,  7, 31, 27, 45, 18, 25, 33,\n",
      "        24, 17, 36, 37,  0, 21,  6, 46, 14, 28,  1,  9, 11, 38]), tensor([25, 12, 14, 37, 41, 29, 11, 22, 36, 13,  7, 39, 40, 19, 33, 35, 30,  0,\n",
      "        23, 16, 25,  9,  8, 46, 10, 27,  2, 39, 24, 26,  3, 17]), tensor([12, 42, 35, 22, 43, 44,  9, 14,  8,  5,  6, 11,  3, 19, 21,  4, 37, 30,\n",
      "        19, 36,  7, 16,  1,  2, 18, 34, 28, 24, 27, 23, 45, 33]), tensor([43, 34, 24,  5,  3, 29, 26,  9, 40, 28,  2, 39,  7, 14, 38, 25, 32,  4,\n",
      "        21, 18, 45, 33,  0, 13, 12, 24, 13, 37, 16, 17, 42, 11]), tensor([ 4, 14, 30, 10, 11, 41, 43, 38, 20, 13,  8, 36,  2, 39, 16,  0, 34, 19,\n",
      "        29, 23, 25, 16, 32, 27, 12, 22, 45, 35,  3, 33,  1, 38]), tensor([ 7, 13, 32, 40, 33, 31,  3, 20, 28, 45, 10, 12, 25,  5, 35, 16,  9, 15,\n",
      "        45, 19, 14, 23, 26,  7,  2, 45,  1,  8, 22, 27, 36, 44]), tensor([26,  9, 31, 45, 23, 28,  5, 25,  4, 43, 36, 22, 24, 23, 37, 38, 35, 42,\n",
      "        10,  3, 11, 33, 18, 28, 29,  0, 27, 12, 39, 46, 13, 30]), tensor([40, 18,  8, 10, 32, 43, 18, 10, 11, 24, 31,  1, 17, 36, 45,  7,  6, 39,\n",
      "        27, 34,  2, 13, 46, 12, 14, 33, 28, 46, 42, 22, 30, 19]), tensor([24, 38, 33,  6, 21, 38, 38,  1, 12,  3, 30, 25, 21, 45, 38, 42,  2,  8,\n",
      "        28,  5, 35, 19, 44, 26, 37, 15, 46, 17,  0, 18, 13, 10]), tensor([ 1, 19, 38,  8, 35,  4, 12, 37, 28, 30, 22, 27, 34,  1, 36, 40, 17,  7,\n",
      "         3, 14,  5,  0, 25, 39, 44, 32, 10, 20, 10, 29, 42, 43]), tensor([ 4, 23, 39, 14,  5, 28, 46,  1, 43, 12, 29, 35, 38,  9, 42, 34, 26, 20,\n",
      "        27, 40,  3, 33, 24, 25, 41, 30, 17, 37, 19, 16, 21,  2]), tensor([32, 24,  0, 31, 23, 46,  8, 21, 41, 42, 29, 45, 45,  6,  9,  7, 36, 10,\n",
      "        20,  5, 10, 26,  2, 31,  8, 15,  4, 12,  3, 27, 42, 18]), tensor([38, 38, 21,  9, 30, 17, 19, 38, 27, 24,  7, 31, 45,  8,  1,  6, 14, 14,\n",
      "        34,  6, 29, 22, 41, 13, 15, 12, 40, 25, 26, 30, 11, 37]), tensor([34, 12, 25,  8, 31, 20, 10,  4,  5, 10, 42, 32, 23, 13, 15, 46, 35, 43,\n",
      "        38, 30,  9, 28, 26, 22,  6, 41,  1, 45, 25, 42, 19,  7]), tensor([37, 10,  4, 32, 35, 13, 13, 24, 23, 34, 12, 23,  8, 20, 17, 29, 27, 36,\n",
      "        40, 43, 41, 15, 38,  5, 25, 18, 30, 26, 42, 22, 45, 44]), tensor([46,  7, 14, 30,  9, 39, 24, 34, 27, 45, 22, 12, 45, 44, 13, 28, 29, 13,\n",
      "         2, 19,  1,  8,  1, 21, 31, 36, 38, 40, 35,  1, 16, 11]), tensor([22, 44, 15, 30,  1, 41,  9, 19, 16, 13, 33, 35, 38,  7, 14, 24,  5, 31,\n",
      "        42, 45, 44, 10,  2, 11, 26, 23, 25, 36, 17, 34, 20, 18]), tensor([38,  6, 25, 20, 13, 44, 17, 23, 24, 11, 34, 13, 33,  0,  4, 12,  1, 45,\n",
      "        22, 16,  1, 46, 38, 18,  5, 39,  9, 26, 31,  7, 28, 36]), tensor([ 1, 29,  6, 13, 37, 34, 35,  7,  8, 38, 27,  7,  0, 42, 23, 12,  7, 12,\n",
      "        36, 32, 22, 19, 13, 13,  4, 41, 15, 11, 28, 39, 16, 46]), tensor([15,  3,  9, 32, 39, 31, 37, 28, 46, 11,  5, 21,  6, 35, 43, 24, 40, 25,\n",
      "        43, 39, 26, 20, 22, 34,  7, 19,  8, 23,  4, 10, 21, 13]), tensor([39, 45, 36,  7, 15, 44, 38, 19,  4, 33, 13, 22, 16, 42, 27, 23, 29, 22,\n",
      "        32, 30, 45, 14, 28, 11, 31, 17, 24, 43, 46,  6, 39, 12]), tensor([12, 24, 20, 25, 38,  2, 28, 15, 38,  3, 45, 23, 39, 39, 41, 46, 29, 17,\n",
      "        22,  1, 42, 26, 35,  1, 41,  8, 13, 34,  9, 11,  1, 16]), tensor([37, 27, 45, 24,  6, 33,  4, 18, 46, 12,  0, 42, 40, 21, 34,  7, 24, 14,\n",
      "        17, 29, 13,  1,  1,  8, 28,  6,  3, 10, 26, 40, 32, 36]), tensor([34, 39, 22, 30, 31, 14, 13, 29, 17, 42, 35, 40,  3, 44,  7,  1,  6, 38,\n",
      "        11, 25, 45, 28, 24,  1, 15, 41, 33, 41, 12, 41, 26, 31]), tensor([42, 18, 24,  2, 45, 46, 10, 27, 39, 20, 14, 23, 17,  1, 44,  5, 29, 30,\n",
      "        40, 31, 36, 41, 24, 15, 25,  0,  7,  8, 33,  7, 10,  6]), tensor([34,  6, 27,  8, 13, 25, 35, 44,  2,  3,  1,  9, 35, 17, 46, 15, 40,  0,\n",
      "        19, 39,  4, 16, 14, 37, 30,  8, 43,  0, 22,  7, 32, 24]), tensor([ 6, 29,  0,  7, 46, 40, 22,  9, 11,  5, 17,  3, 26, 23, 43, 13, 35, 45,\n",
      "        10, 39, 30, 27,  2,  1, 16, 42, 44, 31, 28, 12, 31, 25]), tensor([16, 21,  5, 41,  8, 12, 14,  0, 17, 30, 29, 11,  7, 39, 35, 10,  5, 12,\n",
      "        44, 24, 43, 33, 25, 35, 26, 13,  1, 23, 12, 32,  2, 22]), tensor([31, 21, 13, 12,  0, 34,  1, 26, 24, 39,  8, 31, 32,  7, 17, 36, 14, 46,\n",
      "        25, 19, 16, 33, 30, 28,  9,  0, 38, 23, 27, 37, 22,  2]), tensor([38,  2, 33, 35, 35, 32, 34,  1, 46,  6, 42, 13, 15, 15, 19,  3,  0, 11,\n",
      "        44, 30, 28,  3, 26, 14, 40,  7, 45,  8, 39, 43, 18,  9]), tensor([22, 32, 19, 24, 10, 20, 36, 43,  4, 20, 46, 33, 18,  1, 27, 23,  9, 34,\n",
      "        29, 30, 13, 21, 39, 17, 26,  1, 14,  4,  3, 37, 16,  2]), tensor([31, 10, 26, 40,  3,  9, 46, 39, 17,  6, 12, 11, 20, 42, 40, 13,  0, 23,\n",
      "        15, 25, 22, 34,  0, 29, 30,  8,  5, 11, 40,  1, 24, 36]), tensor([32, 18,  3, 11, 29, 11, 12,  1, 13, 33,  9, 19, 38,  7, 41, 45, 10, 30,\n",
      "         8, 22, 46, 35, 28,  6, 25, 15, 31, 25,  4, 24,  2, 27]), tensor([ 1, 31,  2, 14, 18, 21,  6,  9,  5, 32,  7, 12,  9, 17, 18, 26,  1, 35,\n",
      "         8, 25,  0, 10,  4, 38, 17, 20, 24, 22, 36, 19,  3, 42]), tensor([18, 22, 34, 46, 39,  3, 15,  7, 28, 14, 16, 20, 10,  8, 40, 43, 13, 15,\n",
      "        45, 17, 44, 12, 21, 25,  0, 37, 18, 32, 41, 36, 38, 19]), tensor([ 7, 26, 12, 11, 35,  1,  4, 10, 25, 16, 20,  2, 30, 17, 27, 43, 22, 43,\n",
      "        32, 45,  6,  9, 43, 34,  5, 39, 14, 13, 24, 31, 38, 28]), tensor([16, 24, 15, 42, 36, 32, 22, 18, 34, 37, 45, 26,  5, 33, 40, 45, 26,  6,\n",
      "         1,  2, 41, 24, 43, 12, 25, 35, 28, 29,  9, 17, 13,  8]), tensor([34, 35, 12, 36, 18,  3, 19, 40,  7, 31, 36, 10,  8, 33,  5, 24, 39, 17,\n",
      "        46, 27, 29, 26, 25, 28,  0, 13,  2, 42, 30, 45, 37, 22]), tensor([17, 34, 23,  0, 37, 40, 31,  1, 26, 29, 18,  6, 19, 22, 36, 13, 38, 16,\n",
      "         6,  8, 20, 26, 12, 27, 46, 30, 11, 19, 28, 42,  2, 18]), tensor([ 9, 43,  1, 24, 12, 14, 13, 28, 31,  4, 33,  1, 41, 36,  0, 26,  2, 25,\n",
      "        38, 40, 16, 10, 32, 35, 23, 39,  8, 17, 45, 22, 37, 19]), tensor([ 1, 38,  5, 20, 30, 32, 28, 33, 39,  1, 19, 15, 24,  6, 38, 13, 33, 26,\n",
      "        45, 45, 21, 31, 10,  6,  2, 35, 46, 37,  8, 16, 44,  0]), tensor([ 4, 34, 35,  5, 29, 13, 30, 25,  8, 14, 45, 34, 42, 10,  6, 36, 12,  9,\n",
      "         1,  0,  2, 43, 40, 38, 26, 39, 21,  3, 37, 43, 28, 17]), tensor([27, 26,  1, 45, 17, 25, 24, 13, 35, 10,  4, 34, 43,  4, 20,  8, 36, 42,\n",
      "        22, 16, 33, 32, 12, 10, 28, 22,  9, 14,  7, 39,  0, 43]), tensor([21, 10, 40,  0, 18, 42, 32, 28, 44, 26, 11, 45, 40, 16, 38, 17, 14, 37,\n",
      "        20, 43, 39, 25,  8,  3, 22,  2, 29, 13,  9, 23, 12, 33]), tensor([20, 38, 25,  6, 43, 14,  7, 12, 32, 46,  7, 13,  1, 34, 24, 33, 31,  9,\n",
      "        45,  3,  4,  1, 35, 40, 37, 10, 23, 12, 29,  0, 28, 19]), tensor([ 3,  1, 33,  5, 22, 39, 12, 21, 14, 27, 30,  2, 45, 33, 36, 31,  7, 42,\n",
      "         8, 13, 20, 17,  6,  9, 37,  4, 14, 44,  0, 38, 32, 43]), tensor([36, 24, 34, 16, 42, 34, 32, 10, 25, 12, 28, 37, 16, 30, 44, 17, 23,  3,\n",
      "         6, 14, 40, 10,  1,  5, 18, 38, 19,  2, 43, 27, 13, 20]), tensor([12,  8, 38, 46, 45,  1, 17, 33, 16, 24, 11,  1,  1, 36, 29, 37, 43, 21,\n",
      "         6, 10,  0, 34, 31, 23, 35,  5, 18,  9, 14,  1, 31, 19]), tensor([12,  4, 37,  7, 23, 35, 29, 31,  0, 36,  2, 38,  4, 39, 33, 42,  5, 16,\n",
      "         8, 41, 27,  8, 19,  3, 13, 10, 14, 40, 24, 30,  1, 18]), tensor([ 7,  1, 23, 14, 39,  9, 19, 35, 24, 25, 13, 15, 12, 38, 33, 18, 44, 29,\n",
      "        40, 20, 37,  2, 10, 28, 22,  4, 41,  8, 31, 30, 13,  3]), tensor([25, 43, 41,  9, 35,  8, 14,  5, 34, 13, 16,  7, 27,  5, 26, 23, 25, 12,\n",
      "        36, 20, 31, 28, 10, 19,  0,  3,  4, 17, 46, 40,  6, 12]), tensor([46, 32, 11, 26, 13, 27,  5, 44, 40, 45, 40, 34,  2, 19, 30, 40, 33,  4,\n",
      "        42, 28, 37, 14, 10, 31, 16,  6, 12,  3, 21, 39, 24,  7]), tensor([ 9, 26, 30, 11, 29,  3, 20, 45, 25,  2, 22, 18, 14,  6,  0,  7, 13, 46,\n",
      "        13,  1, 32, 37, 12, 21, 34,  5, 38,  4, 40, 31, 10, 24]), tensor([35, 16, 20,  9,  1, 36, 32, 38, 34, 12, 15, 19, 42, 14,  0,  4, 41, 38,\n",
      "        31, 28, 10, 23, 37, 31,  3, 40, 27,  6, 39,  5, 11, 44]), tensor([38,  0,  1, 40,  3, 29, 17, 20, 11, 13,  7, 42, 25, 16, 46, 15, 10,  8,\n",
      "        34, 38, 27, 36, 22, 13, 25, 11, 37,  5, 14, 19, 18,  6]), tensor([39, 28, 31, 18, 45, 35, 37, 18, 19, 12, 42, 17,  1, 46, 16,  8,  2, 10,\n",
      "        24, 25, 22, 34, 20, 26, 13,  3,  4,  9,  7,  2, 32, 11]), tensor([ 6, 44, 46,  4,  1,  7,  0,  8, 26, 41,  5, 24, 19, 35, 39, 10, 33, 28,\n",
      "         3, 45, 38, 25, 18, 32, 30, 43, 10, 45, 37,  7, 11, 42]), tensor([36, 21, 33, 13, 45, 22,  1, 30,  1,  1, 31,  4, 14, 45, 44, 37,  8,  3,\n",
      "         2, 18, 23, 34, 19, 18, 25, 40, 22, 16,  7, 18, 10, 28]), tensor([24, 46, 37, 42, 32, 33, 45, 36, 31, 12, 13, 42, 19, 27,  6, 32,  4,  3,\n",
      "        15,  1, 26, 29, 17,  9,  7, 40, 17, 23,  5, 13, 11, 44]), tensor([13, 26, 22, 15,  0, 28, 11, 44, 41, 39, 33,  7, 10, 18,  5, 38,  1, 12,\n",
      "        29, 20, 26,  6,  4,  3, 25, 32, 19,  1,  9,  8, 30, 23]), tensor([46,  4, 10, 29, 22, 13, 23, 39, 42,  5, 28, 27, 21, 40, 46,  6, 40, 19,\n",
      "        21, 24, 45, 10, 30, 25, 43, 35, 12,  3, 42, 28, 26, 44]), tensor([27, 18, 14, 29,  4,  1, 17, 41, 16, 16, 12,  6, 44, 34, 24,  9, 13, 10,\n",
      "        40,  3, 39, 45, 10,  8, 38, 26,  9, 31, 25, 43, 28, 42]), tensor([39, 29,  0,  6, 34, 25, 35, 38, 13, 28,  9, 27, 42, 20, 32,  5, 45, 19,\n",
      "        17, 35, 15, 10,  1, 22, 11, 43, 26, 31, 36,  2,  8, 21]), tensor([23, 33, 36, 36, 24, 42, 29, 11, 31, 12, 16, 39, 43, 35, 35, 38, 37, 39,\n",
      "        34, 10, 32, 34, 27, 35, 17,  2, 13, 14,  8, 28,  1,  9]), tensor([45, 30, 40, 35, 42, 38, 13,  3, 12,  8, 31,  5, 37, 10, 46, 33, 43, 26,\n",
      "         1, 29, 39, 20, 14,  7, 16,  4, 24, 28, 46, 24, 38, 27]), tensor([36,  5, 45, 24, 21, 26, 11, 40, 39, 35,  9, 46, 31, 25, 43,  7,  8, 13,\n",
      "        14,  0, 41, 33, 28, 38, 29, 19,  8, 16, 27,  1, 18,  7]), tensor([24, 11, 27, 25, 46, 36, 12, 40, 42,  8, 26,  3,  1, 10,  5, 30, 38,  4,\n",
      "         2, 37, 31, 13, 45, 33, 19,  7, 16, 20, 29, 23, 32,  2]), tensor([33, 18, 39, 21, 22, 13, 16, 40,  9, 14, 44,  0, 39, 17, 19,  6, 26,  4,\n",
      "        10, 32,  8, 34, 20, 13, 46, 37, 25, 10, 38,  5, 42,  3]), tensor([42, 39,  1,  8, 23, 17, 35,  9, 36, 30, 29,  2, 37, 33, 27, 15, 18, 18,\n",
      "        19, 32,  0,  7, 14, 38,  1, 31,  5, 25, 40, 27, 34, 12]), tensor([10, 44, 22, 30, 39, 31, 28,  6, 14, 19,  0, 16, 38, 12, 36, 44, 39, 25,\n",
      "        35, 18,  9, 15, 46,  4,  5,  3, 11,  1, 13, 34, 37, 33]), tensor([10, 33, 26, 11, 46, 29,  0, 11, 43, 34, 45, 11, 31, 15,  5,  4, 19,  7,\n",
      "        27, 25,  6, 33, 22, 42, 12, 38, 39, 23, 32, 21, 30, 41]), tensor([45, 20,  1, 10, 19, 12, 27, 23, 25, 39,  7, 14, 35, 46, 36,  6, 34,  3,\n",
      "         9, 42, 18,  4, 24, 11,  0, 28,  8, 41, 37, 30, 33, 21]), tensor([16, 45, 36,  2, 11,  6, 17,  0, 24, 17, 10, 34, 32, 25, 21, 26, 12, 28,\n",
      "        33, 13, 26,  3, 19, 43,  6, 27, 38, 41,  4, 39, 46,  7]), tensor([40,  5, 19,  8, 14, 35, 45,  0, 19, 28, 25,  3, 18, 41, 42, 36, 46,  1,\n",
      "        12,  6, 43,  4, 13, 32, 44, 31,  2, 21, 18, 34,  1, 33]), tensor([ 9, 11, 28, 34, 43, 38, 39, 35, 22,  7, 19, 31,  6, 24,  1, 12, 30, 37,\n",
      "        21, 29, 26,  0,  6, 15, 42, 14,  8, 32,  4, 16,  3,  0]), tensor([ 9,  1, 18,  1, 12, 34, 35, 16, 24, 11, 26, 43, 31, 13, 25, 39, 28, 17,\n",
      "        15, 40, 20, 13,  6,  2, 44, 45,  7, 21, 32, 31, 23, 13]), tensor([12, 38, 25, 33,  1, 17,  8, 27, 28, 30, 22,  3, 29, 35,  8, 14, 37,  8,\n",
      "        44, 19, 11, 32, 26,  1, 46,  5, 29, 26, 24, 41,  6,  9]), tensor([10, 11, 12, 16, 33, 12, 13, 19,  1, 46, 42, 33,  9, 46, 27, 37, 11, 26,\n",
      "        36, 20, 44, 40, 21, 22, 32, 34, 24,  4,  8,  7,  2, 39]), tensor([ 1, 17, 21, 31,  1,  1, 36, 44, 23,  0,  7, 41,  5, 46, 45, 18, 34,  4,\n",
      "         8, 27, 11, 39, 29, 20, 19, 30,  1, 34, 25,  6, 14, 16]), tensor([ 4, 18, 31, 35, 13, 30, 45, 45, 22, 29, 17, 20,  0, 32, 36,  5, 39,  6,\n",
      "         7, 44, 16,  6, 46,  3, 33, 42, 31, 10, 40, 27, 37, 24]), tensor([35, 45, 29, 43, 37, 32, 11, 19, 26, 22,  6, 42,  9, 40, 14, 46, 21, 36,\n",
      "        10, 13,  8, 43,  1, 11, 27, 15,  4, 25, 12,  0, 41,  9]), tensor([18,  9, 38,  0, 14, 13,  9, 33,  3, 38, 37, 41, 22, 40, 24, 11, 14, 45,\n",
      "        26, 39, 46,  4, 31,  8, 34, 24, 29,  5, 35,  7,  6, 42]), tensor([ 6, 31,  8, 26, 35, 33,  0, 22, 24, 46, 20, 30,  3,  1, 19, 27, 43,  1,\n",
      "         7,  9, 37, 40, 34, 23, 25, 45,  4, 21, 38,  5, 22, 29]), tensor([ 6, 19, 37, 26, 43,  8, 18, 22, 17, 45, 10, 14, 46, 35,  2, 11, 20, 42,\n",
      "        12, 38,  4, 23, 13, 40,  0, 21, 11,  9, 31, 42,  7, 43]), tensor([11, 26,  9, 10, 46, 19,  8, 25, 28, 26, 24,  2, 14, 22,  3,  6, 36, 28,\n",
      "         7, 39, 13, 38, 45, 28,  1, 15, 34, 43, 33, 14, 35,  5]), tensor([15, 45, 41, 24, 32, 20, 22, 30, 38, 39, 25, 21,  1, 36,  9, 23,  3, 10,\n",
      "        33, 14, 29, 11, 27, 42, 18, 26,  6, 17,  5,  4,  1, 35]), tensor([33, 14, 37,  9, 19,  3,  3, 16, 22, 31,  0, 15, 42, 11, 43, 39, 23, 18,\n",
      "         5, 43, 26, 30, 28, 21, 12,  1, 12, 35,  7, 17, 29,  4]), tensor([33, 18, 16, 20,  5, 32, 14, 12,  8, 27, 37, 42, 22, 43, 18,  4,  6, 39,\n",
      "         3, 36,  0,  4, 18, 15, 25, 39,  2, 38, 41,  7, 21, 26]), tensor([ 6, 46, 36, 34, 21, 17, 44, 22, 45, 43, 39, 26,  4, 20, 19, 31, 12, 41,\n",
      "        42, 32, 28, 14,  9, 11,  1, 25,  8, 10, 23, 24, 29,  3]), tensor([27, 28, 43,  3,  8, 13, 14, 11, 41, 33, 37,  6, 22, 21, 34, 38, 18, 39,\n",
      "        29, 24, 20, 45, 40, 36,  1, 16, 12,  7, 23,  1, 25, 28]), tensor([38, 26, 16, 11, 17, 41, 43, 43, 35, 20, 37, 28, 18, 26,  2, 34, 22,  5,\n",
      "        23, 10,  8,  4,  6, 46, 45,  1, 34, 31, 25, 39, 30,  1]), tensor([26, 17,  2,  3, 12, 21, 18, 24, 32,  7, 10, 17, 46, 33, 35, 39,  9, 13,\n",
      "        19, 34,  9, 30, 22, 15, 36, 23, 43, 42, 38,  6,  5, 11]), tensor([ 8, 30, 31,  1, 20, 10,  6,  7, 34, 39,  4,  8,  6,  2, 45, 19, 29, 25,\n",
      "        14, 38, 12,  8, 35, 40, 26, 13, 24,  3, 42, 21, 16, 40]), tensor([15, 39,  9,  7, 18, 24,  8, 34, 46, 16, 20, 32, 40, 43, 45, 43, 46, 27,\n",
      "        14, 33, 38, 25, 37, 43,  6, 36, 28,  0, 21, 30, 11, 26]), tensor([20,  0,  9,  8,  2, 13, 32, 12,  7, 16, 26, 38, 34,  1, 42, 11,  4, 34,\n",
      "        33, 19, 14, 35, 22, 39, 15,  4, 29, 44, 11, 25, 11, 46]), tensor([ 3, 15,  8, 19, 24, 11, 29,  1, 46, 38,  7,  4, 30, 17, 14, 12, 35, 43,\n",
      "         1, 12, 26, 20, 45, 18, 33,  9, 32, 31, 21, 37, 14,  5]), tensor([43, 10, 42,  4, 40, 27, 35, 41, 29, 46, 13, 19, 28, 46, 32,  2, 14,  0,\n",
      "        27, 24,  1, 20,  1, 46, 37, 16,  3, 11, 34, 12, 39,  7]), tensor([23, 40, 33,  2, 17, 44, 12, 37, 15, 34, 11, 45, 46,  9, 19,  7,  1, 10,\n",
      "        25, 28, 16, 27, 42, 24,  4, 20,  1, 32,  0,  8, 35,  7]), tensor([42, 44, 44, 11, 23,  7, 31,  4, 34, 19, 43, 10, 25, 32,  1, 27, 45, 15,\n",
      "        14,  6,  9, 10, 13,  1, 16,  3, 21, 26,  8, 35,  2,  5]), tensor([15, 45, 31, 12, 22,  9,  8,  1, 25,  4, 43, 26,  6, 10, 39,  4, 17, 13,\n",
      "        36, 23,  7,  5, 19, 46, 38, 34,  2, 45, 18, 30, 24, 11]), tensor([ 0,  4,  8, 21, 22, 46, 10, 38,  9, 26, 12, 14,  7,  1, 44,  2, 15, 29,\n",
      "        27, 40, 17, 33, 45,  1,  1, 39, 28,  6, 32, 25, 11, 43]), tensor([26, 31, 40, 28, 45, 10, 13, 14, 11,  1, 30, 18, 27,  0, 43, 45, 42, 16,\n",
      "        13, 39,  1, 22, 29, 24, 35, 12, 44, 21, 24, 38, 12,  2]), tensor([ 7, 30, 39, 25, 10,  5,  1,  9, 28, 33, 23, 33,  9, 12, 40,  6,  8, 13,\n",
      "        28, 31,  3,  0, 43, 15, 38, 16, 11, 35, 26, 24,  2, 46]), tensor([13, 44, 27,  6,  0, 13,  4, 11, 32, 24,  2,  1,  8, 38,  1, 31, 28, 45,\n",
      "         3, 18, 36, 43, 26, 17,  5, 16, 39, 19,  7, 28, 46, 35]), tensor([ 8, 33, 43,  9,  6, 12, 19, 38, 31, 13,  0,  2, 35, 11, 26, 37, 44, 20,\n",
      "        27, 40, 43, 17, 24, 42, 10,  5, 18, 39, 23, 14, 22, 45]), tensor([29, 30,  2, 14, 24, 38, 31, 42,  9, 32, 24, 35,  1, 13, 26, 46, 10,  4,\n",
      "        39, 18,  3, 34, 22, 28, 12,  0, 23, 27, 38, 20, 33, 17]), tensor([ 9, 20, 28,  5, 29, 21, 44, 16, 40,  8,  8, 17, 31, 28,  4, 37, 32,  6,\n",
      "        36, 23, 33, 21, 46, 25, 13, 43, 10, 45,  7,  3, 22, 14]), tensor([25, 23,  7, 28, 34,  1, 20, 10, 10,  3, 35,  9,  8, 16, 25, 46, 24, 30,\n",
      "        26,  4, 15,  0, 38, 29, 37, 36, 19, 21, 27, 13, 22, 12]), tensor([40, 34, 19,  7, 27, 12, 33, 42,  9, 35, 32, 21, 30, 13, 26,  6, 19,  5,\n",
      "         4, 15, 11, 22, 31,  2, 14,  1, 46, 42, 20, 11, 39,  8]), tensor([18,  1, 23, 24, 30, 36, 46,  8, 42, 37, 36,  5, 11, 37, 18, 29,  1, 13,\n",
      "        15, 16,  4,  3, 27, 32, 17, 45, 26, 21, 20, 10, 39, 45]), tensor([16, 38, 19,  3,  1,  1, 23,  1,  6, 33, 29, 39, 41, 27,  4, 21, 18, 38,\n",
      "        45, 11, 36, 35, 46, 30, 13, 43,  7, 14, 26, 10, 40, 37]), tensor([43, 46,  8, 16, 36, 16, 21, 14,  4, 29, 17, 45, 11, 24, 24, 20, 15, 39,\n",
      "        34, 40, 28, 13,  0, 19,  5,  2, 32,  1,  7, 28, 26, 26]), tensor([23, 29, 31,  4, 38, 17, 13, 15, 16, 31,  6, 36, 40,  1,  3, 34, 42,  7,\n",
      "        25, 24,  1,  9,  2, 28, 41,  8, 19, 10, 18, 12, 45, 30]), tensor([ 7, 41, 37,  8, 35, 18, 32, 35, 14, 45, 30, 40, 22, 38, 25, 21,  4, 39,\n",
      "        33,  1, 16, 11, 46, 24,  9,  3, 19, 26, 12, 18, 21, 28]), tensor([24, 21, 34, 30, 42, 35, 16, 37, 18, 20, 41, 28, 34,  7, 23,  4,  1,  5,\n",
      "        13, 46, 36,  0, 38, 39, 13, 10,  9, 27, 26, 17,  8,  2]), tensor([19,  9, 24, 45, 29, 38, 33, 42, 36, 23, 18,  8, 10,  1, 22, 11, 40, 32,\n",
      "        16, 17, 26, 10, 25,  7, 27,  6, 23, 14, 37,  5, 13, 13]), tensor([38, 27, 33, 42, 32, 42,  4,  8,  5, 10, 43,  9,  7, 40, 37,  6, 17,  2,\n",
      "        43, 12,  0, 16, 14, 38, 30,  4, 13, 19, 11, 23, 45, 29]), tensor([30, 24, 11, 13, 31, 35,  1,  8,  6, 35,  3,  9, 11, 25, 38, 21, 29, 36,\n",
      "        10, 40,  5, 41, 23, 39, 26,  1, 15, 23, 43,  1, 12, 33]), tensor([12, 29,  7, 38, 26, 19, 16, 32, 42, 15,  6, 27, 45, 11, 39, 13, 10, 42,\n",
      "        46, 17,  9, 31,  5, 33, 14, 22,  8, 45, 39,  4,  3, 24]), tensor([42, 33, 32, 17, 13, 21,  3, 23, 30,  9, 45,  6, 24, 33, 40, 16, 12, 42,\n",
      "         1, 31,  1, 35,  0, 11, 38, 28, 20, 14,  8, 36, 22,  2]), tensor([10, 29, 22, 14, 35, 11, 28, 12, 26, 27, 18, 42, 38, 40, 24, 33, 36,  6,\n",
      "         4, 37, 46, 34, 25, 13, 33, 12, 20, 32, 43, 23, 40, 14]), tensor([14, 10, 36,  7, 21,  8, 22, 37, 26, 11, 30, 32, 23, 33, 45, 13, 18, 42,\n",
      "        46, 34, 31, 19, 16, 38,  6, 25, 15, 12,  9, 17, 24, 36]), tensor([30, 44, 33, 10, 27, 39, 27, 21, 26, 25, 41, 18, 28, 29, 24,  1, 35, 13,\n",
      "         2, 31, 38, 23,  4,  6, 42, 40, 34, 36, 11, 14, 19, 15]), tensor([13,  6, 36, 20, 21, 39, 29, 40, 18,  1, 16,  8,  2, 37,  8, 28,  4, 11,\n",
      "        23, 25,  3, 18, 33, 27, 42, 14, 45,  9, 26,  5, 19, 21]), tensor([45, 39, 44, 14, 40,  3, 18, 13, 36, 43, 21, 26, 34,  8, 10, 11, 16, 20,\n",
      "        12,  4, 34, 30,  3,  6, 35, 22, 42, 29,  5, 38, 31,  0]), tensor([32,  5, 26, 27, 16, 30, 22,  8, 39,  4, 31,  9, 14, 38, 33, 28, 19, 35,\n",
      "        45, 30, 18, 25,  1, 11, 44,  9, 18, 24, 42, 41, 34, 13]), tensor([14, 44, 26, 45, 11, 19, 39, 34, 22, 17, 12,  8,  6, 16, 13, 30,  3, 29,\n",
      "        14, 37, 23, 31, 28, 45, 36, 32, 24, 25, 46, 36, 21, 20]), tensor([20, 13, 30, 33, 21, 25, 26, 32, 16,  7,  2, 15, 20, 19, 12,  3, 37, 45,\n",
      "        27, 46, 42, 10, 28,  4, 14,  1, 38, 33, 35, 23, 44, 36]), tensor([ 1, 39, 24, 41, 11, 29, 31, 28, 44,  8, 25, 32, 40, 22,  4, 19,  2,  7,\n",
      "        35, 37, 20, 42, 23,  5, 25, 13, 34, 37, 12, 17, 10, 15]), tensor([ 5,  0, 10,  3, 22, 25,  4, 14, 38, 16, 39, 13, 27, 37, 34,  7,  8, 17,\n",
      "         1, 26, 23, 45, 21, 39, 19, 21, 42,  2, 44, 12,  3, 40]), tensor([27,  1,  9, 36,  1, 14, 25, 26, 10, 24, 23, 42, 37, 38, 18, 35, 13,  8,\n",
      "        14, 39, 21, 25, 20,  5, 29,  6, 19, 34, 33, 12, 22, 40]), tensor([ 2, 42, 33, 19, 43, 20, 27, 37,  9, 24, 13, 40,  8, 11, 10, 12,  6,  1,\n",
      "        30, 46, 26, 17, 22, 34, 31, 39, 18,  0, 38,  3, 32,  4]), tensor([43, 39, 46, 19, 12,  3, 42, 14,  4,  1, 17,  2, 27,  7,  9, 37, 36,  4,\n",
      "        31, 24, 33, 24, 32, 34, 40,  6,  8, 44, 28,  8, 28, 35]), tensor([27, 16, 34, 24, 37, 33,  8, 18, 40,  3, 18,  9,  2, 19,  0, 38, 30,  4,\n",
      "        31, 19, 25,  1, 36,  7, 26, 41, 13, 23, 17, 39, 10, 17]), tensor([41, 40,  4, 31, 42, 27, 19,  7, 21, 45, 38, 34, 24,  8, 22, 12, 30,  5,\n",
      "        37, 16, 15,  1,  9,  3, 13, 12, 28, 14, 26,  1, 33, 35]), tensor([20, 10, 16, 35, 41, 21, 43, 31,  3, 29, 15, 40, 14, 13,  3, 37,  4,  6,\n",
      "         8, 12, 26, 24, 33, 28,  9,  7, 19, 27, 42, 44, 32, 40]), tensor([37,  2,  8, 39, 19, 27, 12,  9, 30,  4, 23, 31, 16, 13, 30, 29,  7, 22,\n",
      "        45, 10, 12, 40, 33, 11, 14, 30, 24, 46, 38, 46, 35,  7]), tensor([43,  8, 24, 20, 13, 32, 28,  9, 18,  7, 36, 42, 34,  1, 38, 45, 22, 11,\n",
      "         5,  3, 44, 24, 39, 26,  8,  6, 25, 17, 46, 12, 19, 16]), tensor([14, 35, 18,  4, 40, 16, 34,  9, 36, 33, 29, 17, 46, 14, 37, 27, 23, 25,\n",
      "        13,  5, 38, 45,  7, 12,  0,  1,  2, 10,  8, 21, 28, 30]), tensor([ 0,  1, 25,  6, 44, 27, 32, 29, 10,  4, 14, 40, 45, 19, 26, 30,  9, 31,\n",
      "         5, 15,  6, 20, 22, 42, 29, 46, 38, 39, 37,  3, 18,  7]), tensor([24,  3,  3, 26,  1, 40, 46, 30, 11,  8, 10, 36, 35, 45, 31, 16,  1, 19,\n",
      "         4, 17,  7, 14, 12, 18, 39,  2,  6, 34, 33,  9, 39, 28]), tensor([ 5,  7, 23, 31, 24, 37, 10,  1,  6,  8, 11, 38, 32, 26,  0, 27, 13, 22,\n",
      "         9, 17, 12, 28,  3, 35, 24,  0,  0, 45, 46,  2, 30, 14]), tensor([20, 18, 16, 30, 22, 12, 42,  1,  0, 37, 17,  9, 33, 16, 29, 34, 41,  1,\n",
      "        37, 35, 31, 45, 15,  3, 27,  1, 34,  2, 28, 24,  6, 19]), tensor([20, 19, 22, 42, 23,  4, 12, 46, 18,  0,  1, 27, 14, 31, 25,  6, 21, 24,\n",
      "        45,  1, 16, 40, 13, 44,  7, 32,  9, 38, 26, 42, 30, 41]), tensor([39, 20, 36, 28, 14, 34, 46,  3, 45, 15, 40, 16, 22, 13,  6,  2, 23, 11,\n",
      "         8,  8, 12,  0, 17,  9, 33, 32, 25, 10, 21, 27, 16,  4]), tensor([ 1, 29,  6, 42, 35, 14, 39, 28, 43, 21, 22,  9, 11,  0, 16, 46, 26,  7,\n",
      "        19,  5, 30, 40, 45,  4,  6, 25,  0, 17, 24, 46, 33, 10]), tensor([34,  1, 14, 40, 31, 28, 20, 32, 22,  6, 35, 32, 23, 18, 19,  9, 21, 17,\n",
      "         5, 13, 46, 43, 24,  7, 37, 26, 38, 12, 21, 25,  3, 42]), tensor([36,  4, 25, 22, 41, 26, 24, 14, 23, 45, 21,  3,  2, 42, 29, 17,  8,  9,\n",
      "         5, 10, 13, 25,  7,  9, 26, 38, 33, 43, 28, 19,  0, 32]), tensor([ 0, 40, 33, 46, 11, 41, 45, 10, 14,  1,  9, 36, 32, 22, 12, 19, 28, 35,\n",
      "         4, 31, 24,  4,  5, 40, 42, 29,  3, 17, 12, 34,  7, 40]), tensor([ 3, 44, 28,  9, 15, 29,  5, 34, 39, 25, 26, 11, 45, 24,  1, 40, 23, 16,\n",
      "        41, 12, 37,  7, 44, 10, 20, 32, 20, 22, 13,  4,  6, 19]), tensor([23, 34, 45, 36, 46, 13,  7, 20,  7, 16, 17, 11, 19,  3, 12, 43, 25, 27,\n",
      "        39, 23, 24, 26, 32,  1, 22,  9, 28, 37, 15, 24, 13,  4]), tensor([19, 36, 30, 26, 33, 46, 39,  7, 31, 31,  6, 18,  4, 13, 23, 16,  6, 19,\n",
      "        42,  1,  1, 11,  5,  2, 41, 38, 44, 45, 24, 25, 15, 21]), tensor([25,  7, 34, 35, 26,  4, 24, 39, 43, 38, 21, 45,  8, 11, 10, 13,  5, 40,\n",
      "         0,  1, 18,  8, 46, 42, 42, 16, 45, 12,  1, 41,  0,  3]), tensor([14, 11, 16, 23, 32, 43, 15, 38,  5, 46, 12,  8,  5, 20, 30, 26,  9, 17,\n",
      "        39, 25,  6,  2, 19, 33, 40, 34, 45, 24, 36, 42,  7, 37]), tensor([36, 26, 31, 10,  5, 36, 40, 30, 35, 27, 17,  8, 22,  4, 12, 17,  0, 41,\n",
      "        46, 19,  6,  2, 24, 11,  7, 44, 45, 45, 15, 13,  9, 28]), tensor([37, 12,  0, 34, 32, 25, 11, 14, 14, 34, 33, 36,  4,  2, 20, 19, 45,  7,\n",
      "        35, 46, 28, 25,  6, 10,  8, 23, 38, 26, 35,  5, 22, 15]), tensor([31, 46,  9, 18, 37, 36, 17, 24, 23,  6, 26, 38, 42, 16, 40,  3, 33, 39,\n",
      "         7,  5, 41, 11, 28, 27, 44, 32, 29,  4,  1, 13,  1,  2]), tensor([30, 30, 28,  8, 41,  1, 38, 24, 45,  6, 40, 17, 25, 35, 26, 39,  3,  7,\n",
      "        27, 29, 30, 24, 11, 13, 43, 15, 44, 46, 42, 12, 37,  9]), tensor([32,  5,  4, 29, 18, 42, 28, 35, 41, 13, 20,  1, 43,  7, 25, 10,  3, 16,\n",
      "        22, 43,  0, 39, 38, 12,  9, 37,  1, 33, 46, 34, 40, 17]), tensor([45, 40, 20,  7, 28, 35, 24, 15, 39, 35,  9, 42, 17, 46, 35, 37, 27, 43,\n",
      "        21, 34, 10, 10, 11, 26, 44,  6, 42, 19, 32, 22, 10, 16]), tensor([39,  5,  7, 17, 38, 25,  9, 45, 32, 14, 41, 10,  3, 44, 20, 23, 19, 21,\n",
      "        34,  1, 46, 13, 22,  6, 15, 18, 29,  8, 40, 27, 33, 36]), tensor([33, 14, 29, 26,  3, 17, 34, 16, 40,  7, 24,  5, 11, 14, 41, 35, 28, 23,\n",
      "        38,  3, 10, 14, 22,  1, 46,  6, 13, 27, 40, 16,  7, 32]), tensor([26, 13, 10,  1, 29, 40, 15, 46,  1, 42, 38, 26, 28,  6, 46, 24, 25,  4,\n",
      "        35, 34, 22, 20, 42, 36, 33, 12, 25, 31, 27, 10,  3,  9]), tensor([18, 13, 11, 35, 28, 14, 44, 19, 39,  1, 24, 43, 17, 24, 19, 34,  2, 42,\n",
      "         0, 12,  8, 32, 10, 25,  7, 39, 22, 38, 23, 21, 46, 37]), tensor([10, 11, 24, 27, 14, 36,  4, 29, 32, 36, 13, 23,  0, 13,  8, 15,  6, 28,\n",
      "        17, 26, 22, 44,  1, 40,  9,  7, 18, 12, 33, 38, 34,  3]), tensor([38, 26, 17,  5, 27, 10, 24, 40, 13, 19, 22, 33,  8, 34, 39,  6, 28,  2,\n",
      "        16, 11, 42, 23, 25,  9, 18,  8,  3, 46, 43,  0, 41, 33]), tensor([34, 37, 43, 28,  8, 13, 36, 39, 32, 13, 17, 36, 18, 45, 27, 19, 39,  2,\n",
      "         4, 25,  4, 40, 15, 25,  0, 46,  5,  7,  9, 12,  1, 35]), tensor([43, 19, 46, 39, 26, 20, 18, 44, 11, 36, 38, 42, 13, 45,  9,  5, 10,  1,\n",
      "         7,  9, 40,  6, 24, 27, 28, 34, 32,  4,  8, 16, 35, 22]), tensor([10, 39,  5, 36,  8, 21, 46, 17, 42,  0, 22,  6,  7, 23,  4, 31, 15, 13,\n",
      "         3, 25,  5,  1, 39, 12, 36, 16, 27, 28,  2,  9, 38, 11]), tensor([ 2, 34,  1, 46, 14,  5, 33, 13,  6, 27, 36, 23, 38, 32, 24, 29, 31, 25,\n",
      "        10,  0, 35, 11,  3, 19, 40, 30, 35, 20, 16, 18, 19, 39]), tensor([ 5,  8,  3, 42,  6, 39, 46, 41, 33, 18,  7, 25, 26, 23, 30, 22, 35,  5,\n",
      "        16, 14, 37, 32, 29, 19, 26, 10, 36, 22, 31, 36, 24,  4]), tensor([26, 45, 40, 19, 32, 33, 39, 22, 38,  0, 12,  5, 28, 34,  8,  1,  8,  5,\n",
      "        29, 36, 25,  6,  3, 16, 18,  4, 45,  9, 15, 16, 35,  1]), tensor([12, 20, 28, 37, 15,  9,  6, 10, 22, 25, 29, 16, 39, 31, 46,  4, 19, 21,\n",
      "        11,  5, 46,  8, 41,  2, 35,  0, 13, 45, 18, 38,  6,  3]), tensor([37, 20,  1,  0, 43, 16, 15,  4, 30, 12, 38, 25, 36,  2,  3, 31, 33, 31,\n",
      "        46,  1, 35,  6,  8, 41, 26, 19, 27, 23, 24, 44, 20,  5]), tensor([40, 33, 20, 41,  8, 18, 38, 35,  6, 14,  0, 22,  8, 25,  4,  1, 12, 13,\n",
      "         9,  0, 29, 27, 42, 31,  3, 11, 19, 18, 26, 30, 34, 24]), tensor([ 2, 18, 45, 35, 45, 29, 44, 32,  9,  1, 40, 20, 11, 14,  5,  7,  7, 10,\n",
      "        34,  0, 12, 43, 26,  3,  4, 13, 40, 25,  2, 23, 42, 30]), tensor([42, 41, 13, 30, 39,  8, 27,  1, 28,  7, 37, 45, 23, 33, 16, 46, 19, 17,\n",
      "        34, 40, 12, 42, 31, 17, 18, 25,  9, 36,  0, 32, 37, 11]), tensor([40, 24,  4, 44, 14, 46,  9, 37, 21, 27, 41, 45, 26, 24, 25, 11,  1, 16,\n",
      "        29,  7, 20, 17, 39, 38, 14, 30, 25, 28,  8, 39, 22,  3]), tensor([12, 36, 10,  8,  6, 40, 25, 10, 31, 19,  4,  3,  0, 12, 21, 42, 16,  7,\n",
      "        45, 37,  2, 38, 23, 39, 13, 33,  1,  9,  5, 20, 28, 35]), tensor([ 1, 46, 37,  5, 15, 38, 31, 38,  4, 26,  0, 27,  4, 36, 24, 29, 39, 12,\n",
      "        35,  7,  8, 17, 32, 13,  7, 13, 28, 20, 25, 44, 30, 10]), tensor([10, 28, 21,  6, 42, 34, 32, 38, 33, 30,  4, 26, 43, 15, 20, 45,  1, 23,\n",
      "         2, 31, 33, 13,  7, 39, 34, 46, 42, 16, 37, 18,  1,  9]), tensor([38, 10, 46,  5, 37, 36, 40, 24, 10,  3, 34, 31,  4, 25,  8, 12, 35, 13,\n",
      "        45, 17, 43,  9, 15,  1, 27, 18, 36, 28, 32, 39, 26, 14]), tensor([10, 37, 27,  0, 29, 36,  1, 40, 42, 43,  9,  1, 28, 18, 32, 38, 24, 16,\n",
      "        35,  8, 41, 23, 15, 11,  3,  8, 40, 25, 34, 20, 30, 39]), tensor([40, 20, 39, 31,  5,  7,  6, 37,  1, 31, 41, 43, 36, 12, 23, 25, 11, 30,\n",
      "        13, 43,  3,  8, 17, 29, 46, 35, 24, 22,  0,  9, 28, 19]), tensor([31,  4,  1, 42, 28,  6, 22, 11, 26, 10, 43, 44,  7, 34, 25, 32, 40,  8,\n",
      "        38,  9,  2,  0, 33, 37, 27,  3, 29, 30, 41, 17, 24, 46]), tensor([ 1, 19,  1, 10, 46, 23, 35, 41, 30, 39, 12, 19,  8, 39, 26, 34, 36,  3,\n",
      "         6, 25, 28, 13,  9, 17, 43, 14, 38, 15,  0, 27, 22,  7]), tensor([15, 36,  2,  0, 17, 34, 25, 19, 12, 42, 21,  8, 31, 10,  3, 43, 21,  0,\n",
      "         4, 38, 16,  9, 44,  7, 39, 30,  6,  5, 13, 45, 45, 28]), tensor([46, 32,  8, 14, 29, 10, 20, 16, 13,  3, 45, 33, 40, 18, 24, 25,  9, 34,\n",
      "        12, 28, 19, 21, 38, 11, 37, 31, 24, 46, 37,  4,  2, 39]), tensor([36, 35, 17, 27, 43, 20,  6,  9, 13, 32,  9, 45, 25, 21, 29,  2,  4, 20,\n",
      "        26, 28, 37, 38, 19, 14,  1, 18, 42,  0, 10, 40, 11, 16]), tensor([15, 19,  9, 42, 42, 36,  5, 18, 32, 38, 20, 43, 29, 19, 13, 25, 11, 12,\n",
      "         0, 24, 27, 37, 41, 45, 46, 13, 35, 21,  1,  2, 26, 39]), tensor([15, 35, 12, 41,  3, 21,  9, 11, 10, 37, 12,  4,  7, 45,  2, 24, 37,  1,\n",
      "        32,  1, 36, 18, 13, 19, 25, 38,  5, 30, 26, 10, 33, 41]), tensor([35, 27,  9, 37, 16, 24, 10, 40, 22, 32, 20, 15, 11, 12, 38, 21, 44,  1,\n",
      "        34,  4,  0, 34, 23,  2, 33, 33, 39, 13, 30, 29, 42,  8]), tensor([36,  3,  1, 19, 20, 45,  0, 32, 43, 13, 17, 31, 10, 16, 29, 42,  9, 33,\n",
      "        37, 44, 15,  2, 40, 34, 18,  1, 46, 23, 40, 29, 22,  4]), tensor([ 9, 27, 13, 18,  6, 14, 27, 34, 30, 34, 11, 40, 16,  4, 35,  3,  1, 24,\n",
      "        36, 20, 45, 42,  2, 39,  0, 26, 23,  7,  8, 25, 40, 10]), tensor([33, 29, 18, 28,  3, 17, 20, 10,  3,  7, 40,  2, 31, 34,  5, 43, 42, 13,\n",
      "        30, 32,  8, 34, 37, 12,  8,  9, 24,  6, 34,  4, 23,  1]), tensor([27, 30, 12,  4,  7, 20, 18, 14, 42, 32, 11, 12, 34, 29, 15, 35, 31, 16,\n",
      "        24, 22, 44, 46,  1, 39, 40, 19, 23, 25, 33, 28, 37, 12]), tensor([15, 30, 43, 20,  0, 25, 37, 23, 44,  6, 17,  2,  7, 32, 11, 39, 40, 15,\n",
      "        34, 21, 29, 43, 27, 10, 35, 23, 33,  4, 28, 12, 38,  9]), tensor([13, 21,  6,  9,  0, 40, 42, 30,  1, 23, 28,  5, 31, 27, 29, 19, 32, 34,\n",
      "        26, 20, 43,  2, 18, 10,  4, 45, 22, 13, 36, 11, 35, 45]), tensor([45, 13, 27, 36, 39, 40,  3, 45, 18, 42, 14, 10, 24, 22, 19,  0,  1, 15,\n",
      "        25,  2, 46, 12,  0, 31, 25, 23, 41, 26, 36,  7, 30,  6]), tensor([12, 35,  4,  0,  2, 20, 37, 10,  8, 22, 44, 43, 28, 34, 11,  7, 36, 41,\n",
      "        19, 25, 31, 33,  1, 29, 44, 18, 40, 45, 41, 14, 15, 15]), tensor([ 0, 12, 30, 31, 40,  3,  6, 43, 38,  9, 46, 10,  8,  4, 34,  5, 42,  1,\n",
      "        11, 44, 35, 45, 17, 13, 36,  9, 18,  8, 26, 15, 14, 29]), tensor([ 6, 44, 45, 29, 12, 46, 23, 18, 12,  2, 17, 15, 43, 13, 35, 24, 29,  3,\n",
      "        30, 25, 12, 16, 22, 26,  4,  0, 38, 34,  5,  7, 19, 42]), tensor([39, 22, 13, 36, 25, 33,  0, 38, 45,  6, 46,  1, 29, 11, 20, 30, 42, 43,\n",
      "        15,  1, 27,  7, 36, 35,  9, 28, 23, 26, 19, 31, 34, 27]), tensor([ 0, 34,  1, 10,  9, 25, 46, 45, 23, 36, 22, 26, 28, 35,  5, 27, 14, 15,\n",
      "         7, 19, 20, 17, 24, 46, 18, 31, 44, 43, 27,  6, 39, 11]), tensor([31, 34, 17, 25,  6, 20,  1,  0, 42, 46, 29, 19, 12,  1, 26, 13,  1,  3,\n",
      "        18, 43, 39, 27, 41, 11, 21, 40, 22, 38,  2,  5,  7, 16]), tensor([16, 40, 17, 44, 21, 17, 35, 19, 15, 22, 33, 37, 31, 18,  1,  7, 23, 45,\n",
      "        11,  8,  6,  9, 35, 26,  5,  0, 17, 32, 39,  4, 36, 45]), tensor([ 8, 17, 28, 18,  0, 23, 31, 31, 15, 37, 27, 22,  1, 43, 39, 30, 25, 26,\n",
      "        32, 10,  5, 29, 38, 42, 36, 12,  2, 20,  9, 44, 42, 33]), tensor([46, 33,  0, 40,  5,  6, 11, 45,  7, 25, 10, 14,  4, 12, 38, 23, 44, 16,\n",
      "        34, 43, 42, 10, 32, 17,  2, 35,  1, 28, 15,  4, 42, 33]), tensor([36,  5, 18, 10,  1, 29, 34,  6, 20, 38,  1,  9,  0, 26, 14, 25, 33, 38,\n",
      "        12, 13,  4, 17, 12, 25,  3, 27,  7, 11,  9, 31, 13, 40]), tensor([23, 42, 31,  2, 15, 25, 28,  6, 43, 35,  7, 27, 22, 13, 12, 29, 38, 35,\n",
      "        21,  1,  4, 37, 34, 24, 11, 38, 45,  5, 32, 46, 30, 39]), tensor([41, 38, 17, 44,  3, 20,  8, 46, 28, 39,  1, 26, 19, 25, 41,  4, 32, 13,\n",
      "        37, 35,  1, 24, 36,  8, 14, 16, 10, 38, 34, 31, 15, 39]), tensor([10,  5, 23,  1, 28, 31, 34, 20, 44, 19, 42, 22,  8,  9, 16, 33, 40, 35,\n",
      "         7, 14, 41, 33, 38, 11, 32, 29, 24, 36, 45, 27, 39,  2]), tensor([ 2, 25, 12, 39, 14, 17, 31, 28, 14,  7, 43, 13, 33, 32, 46,  8, 16, 29,\n",
      "        39, 36,  3, 24, 45, 41, 33,  9,  1,  4, 40, 26, 37, 42]), tensor([ 8,  2, 19,  3, 37,  5, 38, 24,  0, 25,  9, 13, 35, 16, 13, 39, 20,  9,\n",
      "        40, 15, 46, 42, 30, 33, 31, 46,  4, 29, 10, 36,  1, 17]), tensor([10, 15,  3,  1, 45,  9, 16, 29,  3, 19, 20, 38, 25, 39,  7, 37, 40, 12,\n",
      "         8,  6, 18, 35,  4, 36, 28, 24, 43, 14, 26, 31, 13, 33]), tensor([ 8, 21, 42, 19, 36, 17, 27, 46, 12, 11, 23,  1, 33, 13, 26, 22, 34,  2,\n",
      "        20,  4, 21, 14, 25, 13, 38, 10, 28, 18, 11, 39,  0,  6]), tensor([26, 16, 41, 24, 30,  2, 27, 39,  3, 44, 45, 17,  6, 46, 19,  9, 31, 12,\n",
      "         1, 35, 38, 22, 11, 37, 23, 46, 32, 14, 41, 33,  7, 14]), tensor([16,  1,  4, 32, 20, 29, 17,  9, 25, 14, 18,  2, 11, 40,  1, 33, 36, 39,\n",
      "        42, 31, 36, 38, 25, 45, 30, 46, 10,  7,  0, 22, 27,  3]), tensor([24,  9, 31,  2,  1, 21, 23, 11, 13,  6,  3, 15, 43,  5, 27, 32, 37, 14,\n",
      "        29, 19, 36, 18, 45, 10, 26,  1, 28, 22, 30, 20, 17, 25]), tensor([16, 39, 23, 38, 11, 31, 45, 36, 34, 13, 35, 33, 26,  3, 10,  8,  7, 25,\n",
      "        29, 21, 14, 24, 28,  4,  1, 40, 43, 31,  5, 41,  7, 37]), tensor([43, 33, 42, 20, 39, 10, 37, 40,  5, 34, 30, 31, 13, 38, 16, 39, 27, 35,\n",
      "        11, 17, 29, 42, 19,  0, 22, 14,  2, 24,  8,  9,  1, 43]), tensor([41, 23, 36,  4, 11, 38, 27, 36, 43,  2, 25, 10, 46,  9,  7, 24, 31, 32,\n",
      "         5,  5, 14, 12, 16, 26, 35, 22, 19, 39, 29, 13, 15, 18]), tensor([26,  5,  1, 18, 11, 24,  4, 31, 25,  1, 37,  8, 14, 28, 12, 45, 29, 46,\n",
      "        32, 35, 45, 33,  4, 22,  7, 42, 19, 19, 38,  3, 44, 36]), tensor([42,  4, 20, 30, 22, 44, 36,  7, 31,  6, 12, 45, 24,  4, 14, 19,  8, 11,\n",
      "        45, 39, 25, 25, 10, 34, 28,  2,  1,  5,  1, 33, 13, 17]), tensor([11,  8, 40,  4, 24,  3, 19, 25,  7, 39, 44,  1,  2, 34, 22, 24, 16, 12,\n",
      "        13, 35,  6, 32, 29,  9, 18, 38, 42, 46, 38, 10, 27, 30]), tensor([15, 30,  8, 10,  3, 40, 45, 16, 34, 39,  2, 21, 41, 27, 13, 18, 22, 33,\n",
      "         9, 24, 17,  4,  7, 25, 43, 46, 26, 38, 14, 31, 29, 23]), tensor([ 0,  1, 37, 29, 22, 15,  2, 43, 16, 36,  1, 11, 28,  8,  6, 21, 31,  5,\n",
      "        23, 20, 13, 17,  9, 18, 26,  7, 30,  4,  1, 19, 12, 46]), tensor([18, 37, 46, 12, 42, 10, 39, 28, 41, 24, 21, 22, 30, 14, 38,  4,  3,  6,\n",
      "        29, 40, 25, 21, 26, 43, 31, 13, 23,  5, 19,  2, 19,  9]), tensor([ 1, 22, 37, 43,  1,  3, 30, 35, 18,  0, 20, 46,  9, 38, 44, 36, 18, 21,\n",
      "        12, 17,  2,  7,  5, 24, 10, 42, 39, 31, 14, 13, 41, 40]), tensor([ 3,  8, 11, 46,  8, 29, 30, 22, 21,  2, 31, 26, 10, 45, 40, 34, 33, 15,\n",
      "        28,  9,  7, 44, 13, 38, 27, 25, 12, 39, 43,  7, 19, 20]), tensor([ 0, 34, 29, 17, 28,  1, 37,  5, 39, 40, 16, 19, 28, 15, 35, 36,  6, 43,\n",
      "        38, 30,  9, 11,  8, 27, 14, 33, 26, 32, 46, 30, 16, 24]), tensor([ 5, 35, 37,  0, 20, 16, 12, 38,  4, 39, 28,  3, 45, 15, 37, 46,  6, 26,\n",
      "        10, 14, 46, 31,  1, 16, 19,  7, 42, 24,  8, 27, 43, 30]), tensor([ 0,  7,  8, 17,  3, 14, 45, 16,  2, 22, 25, 46, 11,  5, 40, 33, 18,  3,\n",
      "        37, 12,  6,  1,  1, 19, 35, 34, 21, 43, 10, 46, 42, 26]), tensor([15, 22, 33,  8, 13, 23,  7,  8, 24, 19, 28, 18, 43, 12, 27,  6, 43, 38,\n",
      "        40, 42,  9,  3,  4, 37, 32, 16, 30, 20, 39, 13, 17, 34]), tensor([ 5,  1, 40, 13, 31, 14, 34,  3,  2, 25, 39, 21, 17, 46, 20,  9, 26,  7,\n",
      "         5, 29, 37,  0,  8, 12, 19, 27, 41, 12, 28, 16, 42, 33]), tensor([27, 42, 14, 20, 43, 24, 10, 40, 22, 17, 46,  8, 11, 30, 13, 32,  7, 25,\n",
      "        17, 31,  3,  2, 26, 19, 38, 34, 15, 35,  1, 45, 16,  9]), tensor([20,  9, 38, 35, 12, 29, 14, 45, 37,  7, 13, 36,  7, 25, 16, 39,  8,  2,\n",
      "        19, 28, 17, 26, 27, 40, 22,  4, 30, 36, 32, 24,  6, 34]), tensor([21, 17, 43, 27, 26, 33,  2, 35,  1, 28, 16, 25,  4, 20,  1, 23,  6, 29,\n",
      "        31,  3, 36, 13, 19, 39,  0,  8, 12, 40, 46, 33, 26,  9]), tensor([10, 22, 14, 23, 43,  6,  4, 29, 38, 12,  0, 26,  2, 41, 19, 31, 11, 16,\n",
      "         4, 44,  1, 45, 18, 17,  5, 15, 40, 46, 45, 25, 30, 36]), tensor([15, 32,  1, 35, 31,  5,  2, 12, 14, 35,  3, 10, 39, 46, 26, 16, 37, 15,\n",
      "         8, 34, 27, 20, 21,  9, 11, 24, 40, 38, 29, 25, 38,  6]), tensor([ 2, 33, 40, 45,  6,  7, 43,  8, 25, 21, 23, 18, 33, 39, 27,  9, 11, 10,\n",
      "         1,  0, 19, 46, 37, 13, 30, 24, 20, 28, 12,  4, 15, 42]), tensor([12, 11, 17, 33, 16, 20, 24, 24, 34,  3, 21, 14,  6, 29, 32,  9, 45, 25,\n",
      "        46, 40,  4, 38, 36, 22, 24, 28, 41, 42, 35, 26,  8,  6]), tensor([ 6, 42, 27, 43,  1,  8, 11, 37, 28, 14, 46, 35, 31, 13,  1, 34, 41,  0,\n",
      "        20, 36, 38, 22, 44, 18, 19, 24,  2, 37, 17, 40, 29, 32]), tensor([36, 16, 11, 12, 13, 19,  0, 40,  6,  7, 45,  9, 28,  4, 25, 32,  9,  7,\n",
      "        26, 46, 30, 10, 33, 38, 34,  1, 10,  9,  8,  5, 34, 24]), tensor([37, 22, 29, 14, 10, 12,  7, 19,  1, 22,  5, 35, 44, 28,  8, 36, 33,  7,\n",
      "        18, 41, 15, 43, 16, 34,  9, 23, 25, 26, 17, 44, 27, 31]), tensor([19, 28, 14, 42, 44, 27, 16, 21, 26, 46, 38, 39, 25, 35, 17, 10,  4,  1,\n",
      "         3, 10, 40, 24, 43, 12, 20,  7, 13,  9, 29, 12,  8, 37]), tensor([19, 11, 28, 46, 40, 24, 10,  8, 39, 24,  4, 42, 20, 16, 34, 12, 14, 27,\n",
      "        10, 33, 34, 13, 37, 23,  2, 35, 29, 26, 43,  3,  1, 30]), tensor([ 4, 12, 17, 45, 40, 35, 14, 20, 15, 46, 43,  6, 18, 22, 29, 34, 15, 39,\n",
      "        33, 41, 19, 44, 10, 31, 13,  5, 30, 25,  8, 36, 25, 24]), tensor([43, 23, 34, 30, 13,  1, 17, 15, 22, 39,  8,  7, 10, 32, 29, 33, 25,  3,\n",
      "        36, 35, 14, 44, 30,  6, 31, 18, 41, 44, 24, 40, 31, 21]), tensor([22, 39, 27, 23, 19,  3, 35, 16, 31,  8,  5,  6, 10,  7, 14, 38, 37, 10,\n",
      "        21, 46, 26, 45,  1, 34, 36,  2, 29, 30, 32, 40,  8,  9]), tensor([36, 10,  9, 26, 34,  3, 24,  7, 29, 11, 39,  8,  5, 22, 45,  6, 19, 34,\n",
      "        37, 13, 19, 16, 43, 15, 33, 36,  4, 31, 30, 17,  2, 23]), tensor([ 3, 11, 28, 26, 40, 13, 31, 35,  4, 30, 10, 36, 41,  6, 25, 13, 12,  9,\n",
      "        24, 45, 27, 29, 39,  2, 18, 34, 33, 23, 22, 21,  7, 38]), tensor([16, 24, 21,  6, 22, 31, 37, 12, 39, 18, 14,  8, 10,  7, 28, 23, 13, 20,\n",
      "        35, 25, 37, 24, 46, 17,  5, 31, 30,  9, 38,  1,  3, 29]), tensor([ 9,  1,  7, 39, 44, 22,  8,  5, 34, 24, 14, 28, 12, 38, 37, 26, 36, 31,\n",
      "         3, 28, 46, 32, 40,  4, 42, 10, 27, 19,  6, 35, 13, 38]), tensor([11,  5, 32,  2, 43, 28, 16, 14, 38, 34, 17,  5, 27, 19, 39,  1, 10, 37,\n",
      "         3, 26, 22, 29, 16, 21, 42, 13, 19, 38, 12, 36, 20, 15]), tensor([ 5, 11, 44, 20,  1, 27, 25, 16, 35, 18,  0,  2, 24,  7, 36, 34, 46, 41,\n",
      "        38, 19,  8, 35, 26, 39, 22, 41, 17, 40, 31, 42, 39,  0]), tensor([16, 28, 10, 33,  9, 36, 19,  5, 10, 45, 35, 39, 13, 25, 26, 11, 43,  2,\n",
      "        18, 12,  1, 40, 18,  4, 37, 46, 27, 32,  3, 30, 14, 24]), tensor([ 7, 33, 23,  8, 19, 43, 44, 13, 31,  3, 28, 40, 42, 24, 39, 32, 35, 36,\n",
      "        34, 40,  1, 18, 14, 38, 26, 21, 37, 17, 46, 15, 41,  8]), tensor([28, 45, 27, 25, 10, 12, 17, 16, 32, 43,  9, 12, 11, 24,  1, 18, 14, 41,\n",
      "        10, 29,  7, 20, 12, 40, 37, 38, 31, 34, 46,  2,  0, 15]), tensor([18, 46,  9, 30, 37,  0, 39, 12,  5,  8, 42, 28,  4,  3, 45, 15,  6,  0,\n",
      "         3, 32, 30, 35, 11, 13, 20, 25, 24, 33, 38, 17, 26, 43]), tensor([45, 28, 46, 17, 21, 11, 10, 40, 39, 43,  3,  0, 45, 29, 30, 16,  4, 36,\n",
      "         2, 36, 38, 33,  6, 14, 29, 22, 18, 31, 35,  9, 40, 16]), tensor([ 9, 33, 29, 38, 36,  7, 18, 11, 16, 20, 12,  2,  8, 43, 26, 46,  1, 13,\n",
      "        37, 23, 40, 28, 35,  3, 32, 34, 17,  0, 24, 19, 10,  4]), tensor([34,  5, 14, 14, 39, 17, 11, 28, 26, 35, 33,  1, 19, 31, 44, 22, 38, 11,\n",
      "        30, 27,  9,  4,  3,  5, 21, 10, 42,  8, 29, 40, 13, 24]), tensor([34,  0,  9, 35, 36, 15, 43, 14, 22,  4, 17,  8, 28,  2,  6, 30, 42, 45,\n",
      "         4, 26, 11, 13,  1, 33, 42, 32, 44, 12, 30, 36, 39, 46]), tensor([27, 28, 26,  5, 17, 46, 36, 41, 18, 11, 39,  1, 25, 20, 34, 37, 29, 12,\n",
      "        44,  1, 10,  8, 10, 31, 45, 38, 40,  2, 23,  4,  3, 45]), tensor([37,  8, 18, 39, 21, 38, 20,  6, 33, 40, 30, 22, 24, 10,  3,  1,  9, 15,\n",
      "        19, 25, 13, 32, 34, 45, 28, 44, 46, 38, 29,  4, 17, 43]), tensor([36,  8,  6, 31, 15, 33, 32, 23, 22,  4,  0,  7, 37, 40,  0, 28, 26,  9,\n",
      "        12, 13,  3, 16, 17, 25, 46,  1, 10, 30, 41, 34, 18, 24]), tensor([16, 13, 15, 46,  0,  1, 19, 13, 26, 34, 24, 12, 21, 45, 41,  3,  3,  5,\n",
      "        27, 30, 32, 40, 36, 42,  2, 29, 25,  8,  3, 28, 33,  7]), tensor([ 7, 39,  2, 26, 12,  1,  8, 34,  4, 15, 44, 14, 38,  6, 24, 29, 16, 38,\n",
      "        11, 36, 30, 27,  0, 46, 40, 28, 17, 45, 25, 38, 22, 23]), tensor([45,  9, 39, 26, 30, 10,  5, 42, 30, 30, 10, 27, 34, 23, 40, 32,  3, 31,\n",
      "        43, 22,  1, 45, 38, 14,  0, 33,  7,  4, 17, 23, 37,  1]), tensor([24, 38, 42, 30,  8, 28, 46, 44,  3, 21,  8, 27, 20, 25, 23, 46,  4, 29,\n",
      "         2, 42,  5, 36, 45, 40, 14, 16, 22, 26,  7, 34, 18, 17]), tensor([13, 12, 41, 39,  6, 22, 39, 26, 24, 27,  9,  2,  0, 23, 34, 38, 17, 42,\n",
      "        36,  1,  3, 14, 13,  8, 14,  5, 12, 29, 20, 32, 44, 43]), tensor([11, 20, 25, 18, 33,  4, 42, 35, 23, 46, 26,  6, 25,  3, 16,  5, 22,  8,\n",
      "        39, 24, 27, 16, 30,  9, 13, 25, 19, 41,  1, 21, 14, 17]), tensor([35,  5,  8,  2, 39, 32, 34,  9,  1, 45, 21, 36,  6, 24, 15, 42, 33,  4,\n",
      "        26, 38, 29, 13, 10,  9, 27, 18, 31, 16, 46, 15, 11,  0]), tensor([39, 36, 17, 11, 18, 14, 24,  8,  3, 46,  2, 26, 37,  7, 12, 43, 16, 40,\n",
      "         9,  1, 22, 32, 38, 10, 35, 45, 21,  6, 41, 13, 23, 29]), tensor([44, 27, 18, 45, 33, 30,  0,  4, 15,  5, 41, 33, 29, 13, 23,  7,  3, 10,\n",
      "        18, 32, 45, 11, 46,  2, 22, 26, 24, 25, 31,  8, 20, 39]), tensor([32, 29,  6,  7, 40, 31, 46, 21,  5, 34, 16, 33, 14, 39, 44, 13, 45,  1,\n",
      "        24, 27,  3,  1, 41,  4, 38, 22, 19, 18, 17,  1, 15, 42]), tensor([26, 14, 31, 17, 40,  4, 12, 39, 27, 36, 38, 19, 35,  9, 23, 20,  0, 21,\n",
      "        19,  1, 37,  6, 29, 46,  2, 15, 13,  5, 34, 11,  1,  3]), tensor([21, 30,  2, 29, 39, 12, 20, 16, 14, 28,  0, 42, 40, 34,  8, 10, 24,  6,\n",
      "         4, 44, 25, 26,  9, 11, 25, 43,  5, 27, 38,  1,  3, 27]), tensor([38, 30, 29,  1,  3, 12, 22, 18, 11, 19, 45, 28, 15, 39, 36,  6, 25, 27,\n",
      "        40, 24, 16, 46, 12, 32, 13,  2, 17,  1, 21, 44,  0, 35]), tensor([45, 25, 31, 27, 21, 24, 44, 40,  7, 34, 45,  3, 19,  9, 22, 46, 30, 28,\n",
      "        26,  5, 42,  2, 35, 10, 14, 41, 11, 12, 27, 38,  1, 19]), tensor([39, 19,  3, 42, 32,  9,  0, 24, 35, 20, 12, 16,  8,  1, 43, 17, 45, 28,\n",
      "        25, 34, 13, 18,  6, 22,  5, 26, 13, 15, 10, 46, 31, 29]), tensor([39,  9, 29, 46,  2, 12, 26, 40, 21, 37,  8, 22, 16,  4, 20,  0, 33, 34,\n",
      "        19, 14, 36, 36, 23, 11, 38, 25, 27, 24, 30, 10,  3, 28]), tensor([13, 12, 38,  8, 20,  3, 37, 19, 10, 24, 38, 31, 13, 46, 41, 36, 25,  1,\n",
      "         1, 28, 22, 26, 33, 15, 39, 21,  2, 32,  8,  4,  8, 35]), tensor([11, 10, 35, 16,  5, 34, 20, 32, 18, 45, 25,  0, 17, 23,  3, 18, 45, 12,\n",
      "        21, 31, 46, 24,  8, 39, 38,  6,  6, 25, 44, 23, 13, 22]), tensor([33, 17, 36, 12, 18, 41, 15, 39, 31, 31, 20, 10,  1, 38, 21, 32, 27, 30,\n",
      "        37,  7, 46, 25, 34, 13,  8, 45, 42, 29, 46, 30,  1, 40]), tensor([27, 39, 24,  0,  1,  4,  2,  1, 23, 14, 37,  3, 33, 40, 24,  1, 26, 11,\n",
      "        10, 12, 36, 20, 30, 22, 42, 34,  2, 45, 32, 38, 35,  7]), tensor([46, 28, 24, 17, 16,  1, 43, 42,  6, 25, 20,  5, 46,  2, 10,  8, 38, 21,\n",
      "        41, 27, 21,  7, 32, 26, 29, 33,  9,  4, 22, 14, 15, 31]), tensor([ 2, 21,  1, 30,  3, 39, 27, 35, 42,  9,  7,  5, 32, 19, 17, 46,  4,  0,\n",
      "        31, 22, 28,  1, 11, 13, 25, 29, 42, 37, 15, 12, 26, 38]), tensor([17, 34,  2, 20, 32, 42, 30, 25, 36, 43, 22, 40, 12, 44, 29, 10, 13,  1,\n",
      "        46,  9, 19,  7,  8,  3, 16,  6, 14,  0, 38, 40, 28, 23]), tensor([ 3, 35, 13, 17, 45, 30, 29, 34, 40, 42,  1,  1, 21, 22, 15, 25, 37,  2,\n",
      "        10, 26, 28, 20,  9, 41,  1,  4, 12, 46, 25,  4, 46, 33]), tensor([45, 23, 26, 39, 31,  3, 25,  4, 43,  5, 22, 10,  8,  1,  6, 32,  3, 14,\n",
      "        10, 38,  2, 20, 40, 29,  9, 15, 46, 42, 16, 13, 18, 34]), tensor([46,  6, 33, 12, 10, 22, 20, 20,  9,  1,  2, 31, 26,  8,  7, 39, 14, 32,\n",
      "        21, 27, 16, 37, 24, 18, 23, 43, 45, 16, 19, 13, 10, 12]), tensor([ 4, 14, 13,  8, 12,  9, 27,  1,  0, 26, 29,  5, 15, 25, 36, 45, 43, 10,\n",
      "        13, 22, 24, 42, 19, 23, 18, 11, 43, 41, 20,  9,  6, 32]), tensor([33,  7, 13, 46, 25,  8, 34, 18, 12,  4,  3, 27, 21, 25, 41,  1, 14, 28,\n",
      "         9, 16, 15, 26, 37, 32, 41, 30, 44, 35, 20,  8,  0, 31]), tensor([ 1, 10,  5, 13, 37,  6,  7, 33, 39, 34, 22, 32, 18, 27, 23, 36,  0, 46,\n",
      "        41,  2, 11, 16, 38,  8, 10, 12, 14, 30, 13, 25, 35,  3]), tensor([16, 36, 13, 35, 33, 25,  1, 13,  9, 41, 18, 34,  6, 27, 12, 10,  8,  3,\n",
      "        37,  0, 39, 30, 17,  1, 45,  7, 30, 38, 22, 24, 11, 26]), tensor([27, 28, 30, 26, 13, 35, 12, 39, 29, 33, 19,  6, 18, 10, 46, 26, 40, 36,\n",
      "         0,  1, 10,  4, 11,  8, 22, 31,  7,  3, 37, 17, 42, 25]), tensor([17, 24, 30,  9,  7, 22, 26, 33,  1, 38, 10, 46,  8, 11, 46, 42, 35, 31,\n",
      "        12, 18, 15, 25,  4,  2, 40, 20, 42,  1, 32, 13, 14, 28]), tensor([39, 16,  8, 25, 22,  8, 46, 16,  5, 14, 37, 24, 20, 43, 45, 32, 29, 40,\n",
      "        40, 39, 46, 10, 34, 26,  4,  3,  2, 28, 11, 33,  6, 27]), tensor([39,  8, 36, 25, 15,  9, 12, 35, 45, 18, 11, 16,  5,  7, 13, 36, 46,  6,\n",
      "         1, 37,  3, 17, 28, 31,  0, 43, 24,  4, 26, 42, 14, 33]), tensor([38, 14, 17,  5, 25, 16, 15, 35, 37,  1, 20, 26, 12, 13, 45, 30,  1, 36,\n",
      "        10, 41, 33,  2, 42,  1, 19, 44, 11, 35, 40, 46, 10, 42]), tensor([36, 40, 11, 18,  5,  2, 27, 10, 21, 46, 17, 15, 23,  0, 21, 38,  8, 24,\n",
      "        45, 38, 43,  1, 32,  9, 28, 33, 19, 39,  6, 10, 29,  4]), tensor([38, 41, 27, 42, 45, 45,  8, 20, 36, 31, 14,  7, 16, 26, 15, 21, 24, 11,\n",
      "         3,  4,  1, 33, 30, 11,  9, 44, 28,  6, 13,  0, 22, 19]), tensor([46, 36,  1, 28, 37, 44, 10,  3, 19, 18, 14,  5, 12, 45,  7, 38,  9, 44,\n",
      "        26,  7, 13, 22,  1, 35, 20, 18,  2, 46,  1, 30, 11, 31]), tensor([46, 39,  1, 19, 27, 12, 13, 17, 14,  1, 25,  4, 38, 13, 26,  6, 27, 43,\n",
      "         4, 10, 32,  9, 33, 40, 21, 22, 35,  1, 36,  8,  0, 18]), tensor([19, 24, 32,  2, 20, 24, 42, 22,  7, 21, 35, 15, 10,  1, 25, 11,  8,  5,\n",
      "        39, 24,  4, 46, 18,  6, 28, 26, 10,  7, 33, 36, 16, 38]), tensor([ 8, 21, 33, 28,  1, 35, 12, 18, 10, 45,  1, 29, 14, 31, 26,  6, 19,  2,\n",
      "        42,  9, 22, 16,  4, 12,  4, 24, 37, 38, 27, 28, 34, 13]), tensor([14, 41, 28,  6, 31,  5, 12, 19,  8, 38, 42, 15,  4, 24, 34,  2, 29, 32,\n",
      "        46, 28, 17,  1, 16,  3, 40,  8, 27,  0, 30, 10,  1, 36]), tensor([12, 18, 21,  2,  4, 23, 10, 42,  1, 19, 37,  7,  1, 25, 27, 43,  3,  4,\n",
      "         5, 29, 28, 25, 20, 15, 26, 13, 31,  8, 34, 45, 24,  3]), tensor([43, 23, 19, 36,  6, 14, 25, 11, 33,  5, 15, 18,  9, 39, 22, 10, 46, 10,\n",
      "         7,  4, 24, 35, 41, 45, 28, 23, 23, 21, 26, 31, 30,  1]), tensor([19, 24,  5, 43, 27, 11, 13, 35, 25, 34,  1, 19,  1, 14,  9, 24,  3,  8,\n",
      "        46,  7, 32, 31, 17, 46, 13, 16, 18,  1, 40, 39,  0, 38]), tensor([18, 18,  4,  6, 44,  5, 38,  2, 43, 29, 42, 20, 25, 38, 14, 11, 36,  5,\n",
      "        39, 22, 13,  7,  1, 21,  8, 45, 41, 12, 26,  3, 33, 46]), tensor([27, 10, 25, 32, 37,  9, 43, 42, 40, 18, 17, 41,  0, 23, 35, 29, 14, 36,\n",
      "         1, 36, 20, 31, 19, 12, 15,  3, 10, 22, 34,  6, 38,  0]), tensor([35, 31, 28, 19, 31, 39, 22, 36,  7, 34, 26,  2, 15, 16, 46, 13, 25, 17,\n",
      "        32, 21,  5,  8, 40,  9,  4, 24, 20, 45, 14, 43,  3, 45]), tensor([10,  9, 15, 24, 16, 27, 20, 46,  8,  4, 28, 19,  6,  5,  2,  1, 30, 43,\n",
      "        35, 25, 29, 34, 19, 11, 21, 36,  7, 31, 18, 36,  8, 45]), tensor([39, 21,  1,  0, 40,  1, 20,  3, 24, 26, 17, 38, 13, 11,  6,  7, 22, 10,\n",
      "         8, 29, 12,  5, 19, 30, 32, 46, 28,  4, 38, 31, 13, 29]), tensor([43, 25, 11,  7,  1, 21, 10, 38, 14, 39, 45, 21, 39,  3, 18, 23,  6, 17,\n",
      "         2,  9, 36, 13, 24, 20, 22, 29, 10, 28,  8, 11,  1, 31]), tensor([ 1,  6, 45, 31, 27,  5,  2,  0,  4, 11, 30, 39, 16, 40, 37, 33, 17, 22,\n",
      "        14,  9,  8, 41, 25, 46, 14, 33, 19, 43, 24, 21, 42, 29]), tensor([40,  4,  8,  4, 33, 10, 20, 31, 39,  6, 46, 22, 26,  1, 34,  7,  1,  9,\n",
      "        17,  1, 33, 28, 25,  0,  9,  2, 27, 42, 41, 38,  5, 35]), tensor([ 1, 29,  6, 35,  0, 20, 15, 17, 39, 10,  3, 45,  7, 11, 45, 19, 12, 25,\n",
      "        38,  5, 32, 28,  9, 34, 28,  3, 18,  6, 24, 25, 26, 43]), tensor([39, 18, 29,  1,  3,  6,  2,  4, 25, 16, 20, 30, 32, 28, 42, 15, 46,  8,\n",
      "        18, 33,  9, 27, 17, 26,  5, 22, 24, 31,  9, 35, 46,  7]), tensor([32, 38, 11, 21, 19, 12, 31, 22, 20, 40, 24,  9, 34, 12, 29,  3, 27, 46,\n",
      "        28, 14,  7, 36, 13, 38, 13,  2, 30, 39, 43, 33, 46, 16]), tensor([16, 11,  2, 25,  8, 25,  9, 20, 29, 30, 39, 23, 46,  3, 44, 33,  5, 18,\n",
      "        15, 28, 42, 12, 36,  5, 24, 25, 17, 45, 22, 34, 26,  1]), tensor([11,  7, 10, 14, 13, 13, 30,  5,  1, 28, 35, 36, 40, 23, 44,  9, 41, 33,\n",
      "         4, 18, 17,  8, 45, 15, 38,  6, 26, 37, 17, 29, 24, 27]), tensor([34, 25, 35, 25, 10, 30,  0, 43, 18, 12, 13, 21, 37, 44, 27, 28, 29, 46,\n",
      "        25, 46, 26,  1,  2,  4,  4, 42, 17, 33,  9, 40, 23, 21]), tensor([13, 18, 36, 37,  4, 41, 29, 24, 11, 33, 32, 22,  9, 34,  2, 18,  6, 39,\n",
      "        30,  0, 21, 44, 40, 25, 38, 17, 10, 31,  1, 42,  3, 20]), tensor([17, 36, 32, 13,  3, 27, 39, 29,  9, 40, 12, 41, 16, 45,  1, 20, 35, 30,\n",
      "        24, 39, 38, 19,  7, 24, 26, 10,  2,  8, 34,  5,  6, 25]), tensor([44, 28, 34, 18, 21, 28,  2, 11, 38,  6, 24, 16,  1, 22, 32, 40, 33, 46,\n",
      "         9, 38, 45, 37, 30, 26, 36, 14, 42, 19, 15,  5, 25, 31]), tensor([45, 18, 19, 24,  1, 14, 26, 32, 39, 34, 21, 33, 42, 12, 43,  9, 25, 21,\n",
      "         0, 28,  1, 20, 11, 16,  2, 29, 27, 46,  1, 40, 37,  5]), tensor([ 6, 38, 30,  8,  1, 28, 40, 10, 36,  1, 22, 26, 39, 35,  2,  1, 16, 21,\n",
      "         9, 25, 24, 27, 11, 31, 30,  1, 33, 23, 18, 12,  0, 13]), tensor([25, 10, 16, 27, 44, 24, 39, 13, 21, 34, 14,  1, 25, 11,  7, 26,  8, 31,\n",
      "        18, 36, 23, 37, 42, 17, 40, 12, 29,  6, 15,  2, 38, 43]), tensor([36, 14, 32,  4, 26,  7, 13, 25, 28, 12, 24, 22, 22, 38, 19, 46, 40, 27,\n",
      "        33,  8, 31,  7,  2, 10, 42,  3,  9, 34, 35,  1, 23, 29]), tensor([39, 31,  0, 44, 31, 18, 43,  7, 12, 18, 20, 32, 29,  3,  8, 22,  1, 44,\n",
      "        28, 35, 25, 40,  6, 34, 21, 12, 39, 36,  4, 45, 11, 19]), tensor([39, 24, 14, 29,  8, 30,  8,  1, 18, 42, 40,  4, 10, 35, 20,  9, 34, 46,\n",
      "         7,  2, 25, 35,  5, 12, 27, 38, 33, 13, 31, 17, 11, 11]), tensor([33,  7, 25, 28, 43, 31, 22,  0, 22, 30, 14,  3, 10, 27, 18, 37, 15,  7,\n",
      "        41, 20, 46, 39,  8, 26, 22, 24, 42, 13, 21, 35, 38, 14]), tensor([ 7, 19,  1, 33, 40,  5, 28, 37, 38, 33, 34, 21, 39,  4, 32, 20, 12, 17,\n",
      "        42,  2, 10, 35, 36,  0, 28, 45, 26,  0, 23,  8, 30, 36]), tensor([22, 34, 33, 35,  9, 40, 23,  5, 36, 28, 42,  0,  6, 10, 15, 39, 28, 21,\n",
      "         0, 17, 30,  4, 45, 46, 14,  7,  1, 25, 19,  3, 12, 24]), tensor([ 4, 33, 46, 26, 24,  1, 46, 14, 30,  7, 10, 13, 18, 41, 39, 12,  1, 27,\n",
      "        23,  1, 42, 29, 28, 40, 11, 25,  6,  3, 21, 19,  9, 17]), tensor([23, 17,  4, 12, 13, 42, 22, 41, 13, 18, 35, 35, 27,  0, 23, 37,  5, 14,\n",
      "        26, 21, 40, 25, 30, 45, 34, 10,  2, 17, 39,  8,  3, 19]), tensor([ 5,  1, 32, 22, 40, 25, 46, 12, 42, 29, 33, 26, 36, 34, 38, 23, 44, 45,\n",
      "        30, 20, 15,  2, 37,  3, 35, 22, 39, 43, 42,  0, 41,  7]), tensor([39, 44, 19,  6, 25, 35, 12,  7,  1,  5, 27,  8, 15, 38, 17, 45,  2, 42,\n",
      "        11, 42, 26,  4, 23, 12,  3, 10, 43, 13, 24, 24,  1, 31]), tensor([46, 20, 13,  9, 26, 40, 23,  8,  6, 10, 32,  4, 42, 45,  0, 12, 15,  2,\n",
      "        43, 30, 21, 16, 14, 28,  1, 24,  3,  3, 31, 34,  9, 44]), tensor([ 2, 45, 37, 35, 21, 11, 25, 44, 38, 46, 36,  8, 39,  1, 21, 19, 12, 26,\n",
      "        29, 34, 42,  9, 14, 10, 27, 24,  5, 33, 32, 28, 45, 22]), tensor([44, 28, 39, 10, 19, 40,  7, 46, 33,  2,  8, 29, 30,  5, 28, 13, 25, 42,\n",
      "        24, 20, 41, 32,  0, 11, 22, 31, 10,  1, 21,  3,  9, 26]), tensor([44, 18,  7, 10, 21, 40,  0, 20, 45,  5,  1,  3, 16, 34, 22, 24,  2, 28,\n",
      "        42, 27, 13, 39, 19, 36, 20,  8, 35, 39, 12, 32, 41, 15]), tensor([23, 17, 11,  9, 23, 31,  2, 42, 43, 34, 24, 28, 27, 10, 14, 26,  1, 32,\n",
      "        12, 22, 44, 20, 19,  6, 25, 33, 30, 38, 13,  4, 15,  0]), tensor([39, 42, 43,  5, 24, 13, 40, 27, 28, 23, 11, 34,  4,  7, 35, 17,  9, 36,\n",
      "        16, 31,  1, 14, 22,  2,  8, 19, 37, 27,  3, 45,  0, 32]), tensor([45, 22, 34, 11, 26, 23, 17, 24, 42, 13, 33,  9,  1, 36, 18, 29, 40, 15,\n",
      "         6, 13, 43, 12,  3, 32, 10, 45, 39,  6, 25,  1, 28,  9]), tensor([19,  5,  7,  8, 41, 46, 23, 27, 31,  9, 20, 36, 44, 30,  0, 35, 37, 16,\n",
      "        11, 43, 34,  1,  2, 42,  1,  3, 35, 13, 21, 12, 40, 26]), tensor([46, 16, 43, 23, 30,  0, 27,  8, 17, 22, 45, 12, 39,  3, 24, 21, 13, 25,\n",
      "        15,  5, 19, 18, 18, 37,  4, 36,  9, 31, 10, 10, 40, 20]), tensor([37, 27,  4,  6, 26, 39, 39,  0, 24, 17, 41,  5, 36, 25, 22,  7,  1,  8,\n",
      "        13, 45, 11, 19, 13, 43, 31, 35, 32, 18, 14, 21,  0, 12]), tensor([ 6, 13, 37, 11, 31, 18, 25,  0, 43, 26, 40, 27,  5, 20, 34, 30, 10, 45,\n",
      "        29, 24,  9,  3, 16, 46,  1,  2, 14,  8, 12, 38, 22, 28]), tensor([ 3,  7, 41,  0,  4,  6, 35, 22, 27, 11, 41,  9, 33, 38, 24, 10, 42, 28,\n",
      "         7, 29, 39, 30, 26,  7, 31, 16,  8,  1, 19, 13, 32, 23]), tensor([38, 37,  3, 31,  0, 15, 22, 36,  9, 30, 45, 28, 36, 25, 20, 12, 26, 46,\n",
      "        41,  2, 10, 23, 13,  1, 40, 11, 40,  6,  8, 14, 17, 29]), tensor([36, 39, 36, 12, 39, 34, 42,  2, 32, 27, 20, 10, 44, 21, 25, 23, 16,  7,\n",
      "        43,  8, 46, 26, 40,  9, 37, 13, 30,  6, 26, 33, 14,  4]), tensor([23, 35, 30, 14, 25,  5, 27, 42, 23, 37, 31, 18, 13, 43,  6, 38, 28,  8,\n",
      "        38,  2,  9, 46, 24, 39, 20, 34, 19, 29, 33, 11, 36, 40]), tensor([10, 19, 18, 21, 24, 23,  1, 30, 26,  2,  0, 22, 33,  5,  7, 15, 28, 39,\n",
      "        29, 38, 27,  9, 11, 40, 41, 14,  4, 26, 45, 12,  6, 13]), tensor([ 9,  4, 32,  7, 42, 27, 25,  3, 10, 29, 37, 37, 13, 33, 23, 45, 31, 40,\n",
      "        44, 28, 26, 24,  1, 36, 14, 35, 34,  1, 38, 11, 25, 21]), tensor([26, 35, 27, 43, 26, 28, 19,  9, 41, 27,  4,  2, 16, 29, 18,  7, 18,  9,\n",
      "        38, 21,  1, 30, 10, 12,  8, 13, 40, 32, 33, 36, 24, 17]), tensor([41,  4, 38, 40, 37, 33,  9, 12,  2, 45, 11, 21,  1, 13, 28, 12,  7, 35,\n",
      "        14, 26, 39, 46, 18, 27, 10, 17,  1, 31, 44, 18, 41,  6]), tensor([38,  5, 37, 35, 44,  4, 33, 25, 36, 40, 13, 38,  9, 17,  0, 10,  1, 10,\n",
      "         6, 26, 27, 34, 29, 18, 30, 21, 42, 22, 32, 24,  3, 12]), tensor([44,  2, 28, 43, 27, 45,  4, 42, 35, 19, 25, 37, 39,  5,  3,  6, 29, 31,\n",
      "        15, 33, 46,  8, 12, 10, 32, 34, 30, 36, 12, 35,  9, 20]), tensor([ 2, 30,  9,  4, 12, 14, 15, 29,  1,  3, 32, 16, 45,  7,  6,  8, 24, 39,\n",
      "        25, 17, 10, 46, 14, 22, 26, 38, 14, 13, 19, 16, 21, 18]), tensor([12, 34, 26, 14,  2,  4, 33, 19, 32,  9, 40, 43, 30,  3,  0, 17, 42,  7,\n",
      "        25,  1,  3,  6, 11, 28, 27, 10, 36, 45,  8,  5, 20, 39]), tensor([14, 20,  1, 37,  5,  3, 34, 21, 40,  3, 38, 10, 39,  8,  0,  4,  6,  7,\n",
      "        31, 26, 25, 13, 43, 33, 35, 12, 19,  9, 36,  6, 18,  1]), tensor([16, 30, 29, 18, 14, 44, 42, 24, 25,  2, 33, 15, 13, 11, 43,  3, 26,  1,\n",
      "         4,  1,  0, 35, 31, 39,  5, 17, 36,  6, 24, 20, 21, 38]), tensor([20, 27, 37, 13,  7,  1, 38,  1, 41, 34, 40, 14, 43, 24, 42, 13, 12, 30,\n",
      "        18, 11, 10, 45, 29, 26, 19,  9, 33,  1, 39, 35, 17, 21]), tensor([ 9, 19, 14, 44, 11, 16, 26,  3, 22, 33,  5, 28, 20, 34, 27, 28, 37, 32,\n",
      "         7, 25, 15,  3, 17, 41, 24, 21, 20,  4, 44, 13, 30,  2]), tensor([37, 24, 41, 36, 23, 25, 38, 39, 41,  6, 21, 43, 40, 19, 27, 33, 23,  8,\n",
      "        31, 42, 46,  7, 44, 23,  3, 20, 32, 10, 21, 16, 45,  4]), tensor([32,  0, 27, 18,  8, 21, 37, 39, 17,  6, 24, 17, 35, 17,  0, 43, 22, 43,\n",
      "        29, 11, 10, 16,  4, 20, 40, 19,  1, 42, 28,  2, 33, 40]), tensor([27, 44, 30,  7, 21,  6, 39, 26, 16, 10, 18, 42, 35, 18, 22,  0, 23,  7,\n",
      "        36, 28,  6,  3, 19, 25, 41, 31, 17,  8, 33, 20,  2, 32]), tensor([ 5, 12, 37, 40, 25, 46, 14,  7, 32, 21, 39, 19, 45, 33, 31, 42, 32, 10,\n",
      "        21, 29, 24, 26, 19,  9, 17,  7,  1, 41, 30, 22,  8, 35]), tensor([10, 43, 30,  2, 40,  7, 37, 28, 37,  0, 14, 35, 23, 32,  8, 38,  4, 31,\n",
      "        26, 32, 44, 36,  1,  4,  9, 46, 13, 29, 12,  1, 25, 34]), tensor([42, 37, 45,  5, 29,  1,  9,  2,  3, 10, 33, 15, 46, 14,  0, 31, 21, 11,\n",
      "        12, 27, 25, 16,  7, 37, 13,  6, 30, 38, 13, 39, 35, 23]), tensor([22, 17,  4,  2, 12, 32, 25, 21, 18, 40, 14, 10, 42,  0, 26,  1, 24,  8,\n",
      "        20,  6, 29, 37, 31, 27,  9, 31, 39, 19,  3, 23, 28, 23]), tensor([ 6,  1,  7, 12, 39, 18, 25, 10, 11, 23,  4,  3, 29, 40, 22, 35,  1, 21,\n",
      "        13, 16,  0,  9, 37, 34, 27, 26, 46, 45,  8, 42, 20,  5]), tensor([24,  0,  7, 10, 31,  9, 11, 25, 17, 19, 46,  8,  3, 37, 39, 15, 18, 34,\n",
      "        44, 33, 29, 27, 36,  2,  3,  5, 12, 14, 19,  4, 10, 28]), tensor([15, 34,  9, 23, 38,  1, 45, 39, 16, 29, 34,  2, 35, 42, 27,  6,  8, 37,\n",
      "        28, 10, 26, 11, 32, 36,  7, 30, 40, 24,  5, 20, 18, 25]), tensor([21, 28, 12, 28, 40, 31, 22,  8,  7, 16, 37,  9,  1, 45, 18,  8, 29, 43,\n",
      "        13,  5,  6, 25, 29, 38, 35, 39, 41, 14,  4, 23, 20,  4]), tensor([31, 32,  9, 35, 20, 38, 30, 37, 11,  1, 27,  2, 25, 22, 13, 33, 45, 26,\n",
      "         0, 45, 41, 29, 31, 15, 24, 12,  4, 19,  5, 46, 23, 14]), tensor([12, 33, 39, 29,  1, 32, 35, 13, 24, 45,  9,  4,  1,  2, 18, 42, 23,  0,\n",
      "        25, 19, 20, 26, 38, 37, 12, 15, 38, 46, 31, 12, 14, 22]), tensor([12, 29, 15,  8, 13,  5, 19, 45, 32, 16, 17, 45, 34, 39, 37,  2, 46, 35,\n",
      "        24, 14,  1, 28, 25, 24,  9, 26, 30, 23, 10, 36, 18, 27]), tensor([37, 12, 29,  8, 25, 24, 11, 18, 17, 16, 36, 43,  6, 39,  5,  1, 31, 14,\n",
      "        37,  7, 10,  2,  4, 18, 34, 28,  5, 22,  4, 32, 14, 20]), tensor([16, 23, 14, 26, 33, 39, 44,  4,  8, 35, 16, 37,  4,  3,  2, 13, 21, 40,\n",
      "        45, 13,  6, 11, 36, 42, 43, 17,  1,  7, 18, 46, 27, 15]), tensor([ 5, 22, 42, 36,  9, 10, 24,  6, 27, 16, 13, 30, 26,  2, 12, 33, 20, 32,\n",
      "         8, 25, 11,  4, 42,  1, 21, 40, 37, 35, 14, 27, 31, 38]), tensor([40,  9,  3, 29, 20, 39, 36,  0,  6, 38, 24, 35,  5, 18, 33, 46, 22, 14,\n",
      "        19,  1, 13, 30, 42, 42, 32, 43, 44,  4,  7, 26, 37, 31]), tensor([46, 22, 44, 32, 14, 43, 27, 31, 33, 43,  1, 18, 25, 29, 19, 18, 10,  4,\n",
      "        39, 26,  7, 13, 45, 45, 20,  6,  9, 17, 37, 28, 24, 36]), tensor([34, 13, 44, 34, 43, 29,  0,  9, 24, 35, 26, 37, 40, 44, 36, 39, 33,  8,\n",
      "         7, 19,  1, 10, 30,  6, 46, 31,  8, 17, 27, 28,  4, 38]), tensor([28, 27,  6,  9, 33, 32, 19, 13,  7, 36,  3, 39,  3,  8, 26,  2, 43,  5,\n",
      "        31,  3, 16,  0, 17, 46, 15, 37, 42, 40, 23, 30, 13, 22]), tensor([46, 22,  3, 40, 37, 27, 14,  5, 38, 21,  2, 10, 11,  1, 39, 13, 17, 19,\n",
      "        42, 29, 26, 43, 32, 36, 21, 20, 28, 45, 15,  9,  3, 41]), tensor([10, 46,  5, 33, 23, 13, 26,  0, 39, 21, 17, 24,  8,  9, 15,  2, 17,  9,\n",
      "        33, 37, 40, 43,  7, 45, 30, 42, 27,  1,  4, 40, 38, 28]), tensor([31, 28,  3,  9, 19, 33, 22,  1, 46,  0, 12, 11, 10, 25,  6, 25, 35, 28,\n",
      "        13, 32,  5, 26,  8, 30, 16, 42, 15, 21, 44, 38, 23, 45]), tensor([31, 32, 10,  4, 13, 26, 25, 28, 19,  4, 27, 16, 17, 11,  7,  5, 19,  3,\n",
      "        36, 34, 39, 14,  8, 33, 38,  1, 22, 35, 46, 12, 15, 42]), tensor([ 1, 12, 31, 24, 31, 40, 26, 14, 18, 19,  9, 43, 35, 28, 43, 29, 44, 10,\n",
      "        42,  0, 25, 41, 24, 30, 22,  8,  4,  2,  6, 11, 39, 18]), tensor([ 4,  6,  8,  0,  1, 15, 36,  9, 10, 45,  1,  9, 37, 18, 12, 13, 39, 26,\n",
      "        29, 28, 33, 22, 25, 30, 16, 14, 23, 18, 34, 10, 20, 31]), tensor([ 8, 26, 42, 44, 30, 18, 15, 35, 46, 14, 21, 10, 45,  9,  7,  3, 39, 40,\n",
      "        33, 13, 17, 38, 25,  6, 37, 32,  0, 24, 17, 22, 36, 13]), tensor([ 4, 15,  2, 32,  7,  5, 23,  5,  1, 20, 12,  9, 35, 18, 17,  6, 43, 22,\n",
      "        10, 41, 29, 37, 33, 27, 11, 14, 26, 13, 14, 38, 21,  3]), tensor([ 3, 27,  1, 42, 29, 36,  0, 13, 23, 35, 17, 44, 10,  3, 18, 33, 38,  1,\n",
      "        35, 39,  6, 40, 31, 32,  0, 21,  4, 24, 16,  5, 18,  8]), tensor([36, 14, 42, 21, 27, 28,  9,  4, 26, 41, 40, 45, 24, 34, 21, 29,  3,  6,\n",
      "        10, 12, 38, 10, 45, 31, 32, 17, 18, 10, 43, 14, 19, 16]), tensor([33,  9,  7, 15,  6, 32, 34,  5, 28, 30, 21,  3, 44, 18, 25, 12, 38, 13,\n",
      "        22, 46, 14, 27, 20, 13,  0, 40, 36, 39, 35, 26, 16, 17]), tensor([ 7,  1, 31,  6, 21,  1, 13,  0, 32,  4, 16, 38, 25, 24, 42, 10, 43, 37,\n",
      "         2, 28, 12, 27,  6, 39, 20, 17, 12, 35, 39, 36,  8, 19]), tensor([28, 31, 34, 22,  6, 14, 32,  8, 10, 29,  7, 43,  5, 20, 12, 42,  1, 13,\n",
      "        25, 35, 27,  0, 17, 40, 15,  4, 38, 23, 33, 19, 37, 44]), tensor([13,  4,  4, 43, 26, 14, 37, 12, 18, 11,  6,  3,  2, 35, 16, 38, 45, 33,\n",
      "         1, 37, 30,  7, 10, 25, 46, 25, 35, 29, 42,  8, 23, 44]), tensor([26, 20, 21, 17, 46,  7, 34,  3,  8, 10,  9, 30, 29, 11, 45, 45, 43,  6,\n",
      "        40, 38,  5, 16,  1,  4, 34, 35, 14, 29, 23,  2, 22, 39]), tensor([40, 29,  7,  4, 17,  9, 46, 30, 11, 28, 27, 38, 31, 18,  8, 19, 22, 39,\n",
      "        35, 43, 12, 35, 42,  5, 23, 41, 14, 18,  2,  3, 36, 26]), tensor([20,  5, 27, 42, 30,  1,  7, 24, 38, 37, 13,  2, 25,  8, 17,  0, 29,  4,\n",
      "         7, 26,  9, 40, 10, 36, 43, 16,  3, 31, 35, 12, 33, 22]), tensor([17, 13,  8, 28, 45, 12, 26, 35, 25,  7, 32, 13, 14, 18, 31, 12,  1,  6,\n",
      "        23, 22, 44, 34,  5, 46, 19, 42,  3, 16, 36, 40, 24,  9]), tensor([27, 45,  8, 20, 28, 21, 38,  6,  2, 40,  9, 14,  3,  6, 12, 43, 10, 33,\n",
      "         7, 26,  1, 35, 19, 26,  4, 24, 11, 15, 29, 31, 22,  8]), tensor([13, 45, 40, 23, 26, 24, 32, 46,  7, 35, 14,  8, 36, 21, 18, 31, 33, 11,\n",
      "        37, 10, 27,  0, 42, 25, 37, 13,  3, 17,  6, 12, 30, 43]), tensor([ 9, 13,  7, 27, 30, 23,  4,  2, 29, 15,  8, 28, 26, 33, 36, 35, 18, 16,\n",
      "        34,  1,  3, 10, 24, 21, 19, 42, 38,  0, 39,  6,  0, 13]), tensor([19, 23, 28, 41, 12, 22, 34,  9, 21,  0, 29, 27, 42, 31, 39,  7, 15, 43,\n",
      "         8, 36, 35, 41, 16, 37,  3, 10, 46,  4, 32, 26, 19, 38]), tensor([29, 43, 37,  8, 11,  0, 22, 42, 44, 40, 45, 32, 20, 21,  7, 25,  3, 39,\n",
      "         2, 10, 14, 24, 11,  5, 23, 34, 38,  4, 27, 10, 25, 40]), tensor([36, 17, 32, 16,  5, 42,  6,  2, 31, 12, 20, 30, 10,  8,  1,  3, 11,  0,\n",
      "        38, 12, 46, 34, 27,  9,  7,  4, 22, 25, 26, 40, 14, 28]), tensor([16, 31, 18,  1,  1, 36, 20,  8, 39, 30, 42,  9, 45, 13, 23,  4, 40, 28,\n",
      "         7,  3, 45, 26, 10,  0, 34, 44, 46, 14, 19, 42,  9, 25]), tensor([42, 19, 25, 29, 27,  1,  8,  5, 23, 35,  1,  4, 18,  6, 36,  3, 17, 33,\n",
      "        45, 29,  0, 37, 26, 10, 40, 13, 41, 41, 46, 30, 16, 34]), tensor([37, 15,  1, 19,  9, 32, 20, 42, 30, 20, 26, 28, 10, 25,  9, 46, 44, 31,\n",
      "        23,  9,  1, 36, 30, 24, 40, 35, 29,  6, 11, 17, 27, 42]), tensor([12, 19, 38, 34,  3,  7, 39,  4, 13, 46, 16, 10, 35, 11, 14, 32, 20, 22,\n",
      "         8,  4, 17,  6, 45,  8, 27,  2, 26, 41, 24, 28, 35,  5]), tensor([43, 18, 24, 39, 38,  8,  2, 36, 31, 10, 22,  5, 29, 42, 28, 13, 40, 26,\n",
      "        43, 27,  9,  1, 15, 28, 32, 33, 25,  6, 12,  4, 16, 14]), tensor([ 8, 11, 34,  7, 29,  9, 25, 44, 21, 17, 28, 24, 40,  1,  6, 35, 14, 24,\n",
      "        41, 33, 16, 46, 17, 20, 13, 41,  7,  4, 36,  3, 39, 32]), tensor([17, 21, 46, 26, 12, 23, 36, 46, 32, 39, 29,  3, 16, 25,  8, 35, 44, 30,\n",
      "        41, 34, 28, 24, 38,  1, 37,  9, 18, 43, 14, 19, 46, 20]), tensor([ 6, 11, 29, 17, 36,  3, 26, 16, 15, 31, 17, 39, 26,  7, 14, 45, 32,  2,\n",
      "        27,  1, 34,  5, 35, 13,  4, 42,  8, 28, 28,  0,  9, 24]), tensor([ 4,  9, 32,  0, 28,  5, 20, 15, 25, 18, 29, 42, 45, 21, 34, 37, 12,  2,\n",
      "        13,  6,  1, 24, 33, 10, 46,  8, 18, 23, 43, 14, 19, 31]), tensor([37,  0,  2,  1, 12, 21, 46, 11, 16, 14, 24, 20, 10,  3, 31, 44, 24, 34,\n",
      "        37, 18, 38,  1,  9, 15, 33, 41,  7, 22,  1, 36,  2,  5]), tensor([26, 11, 34, 28, 12,  4, 36, 43,  4, 32, 12, 31,  8, 13, 29, 40, 21, 28,\n",
      "        30, 12, 45, 34, 27, 33, 17, 46, 45,  3, 38,  6, 20, 14]), tensor([43, 10, 38, 20, 23, 29, 15, 32, 13, 36, 18,  5, 13,  6, 11,  1, 35, 42,\n",
      "        26, 30, 40,  7,  2, 16, 24, 17, 34, 39,  9, 18, 10, 12]), tensor([33, 38,  2,  7, 14,  6, 25, 43, 36, 19, 24, 44, 32, 12, 25, 42, 10, 41,\n",
      "        29, 35,  1, 28,  3, 23, 37,  0, 17,  8, 13,  9, 45, 27]), tensor([43, 39, 29, 18, 15,  1, 25, 38, 32, 37, 13, 16, 19, 41, 12, 46, 12, 11,\n",
      "         6,  8,  9, 22, 35, 27, 17, 36, 14,  7, 28, 34, 37, 45]), tensor([ 3,  1, 19, 20,  1,  4, 25, 34, 41,  8, 32, 27, 28,  0, 45, 10, 14,  2,\n",
      "        11, 40, 35, 12, 18,  7, 33,  0, 43, 27, 22, 29, 17,  0]), tensor([17,  8, 29, 24, 32, 20, 38,  1, 44, 12, 27, 10, 45, 19,  3, 16, 26, 42,\n",
      "        39, 46, 35, 28, 14, 10, 40,  0, 22, 37, 30,  9, 11, 45]), tensor([ 0, 39, 12, 37, 38, 37, 21, 35, 17,  3,  5,  6, 28, 23, 18, 29, 27,  8,\n",
      "        45, 19, 31, 30, 14, 38,  9, 24, 26,  2,  1, 22, 40, 45]), tensor([ 2,  3,  4,  9, 12, 23, 20, 35, 42,  1, 15, 45, 13,  8, 32, 19, 24, 27,\n",
      "        45, 31, 41, 25, 22, 41,  0, 18, 33, 26, 16, 28, 17, 10]), tensor([33, 32, 16, 12, 28, 45, 26, 13, 14, 40,  2, 27,  8,  3, 15, 36,  9, 29,\n",
      "        46,  1, 36, 22, 34, 33, 35, 30, 24, 17, 11, 10,  4, 43]), tensor([12, 45, 24, 17, 34, 29,  8, 41, 11,  9, 32, 33,  2, 42, 26, 36,  1, 35,\n",
      "        39,  7, 46, 40, 16, 22,  5, 10,  0, 25,  6, 38, 23, 18]), tensor([32, 25, 12,  4, 33, 19, 43,  7,  3, 13,  2, 39, 45, 38,  8, 35,  5, 29,\n",
      "        14, 10, 21,  6, 34, 37,  9, 40, 39, 40, 34, 43, 31,  1]), tensor([13, 45, 22, 20,  3, 25, 28, 17, 24, 40, 26, 13, 15, 19, 30,  5,  4, 38,\n",
      "         6, 14, 45, 33, 39, 29, 20, 31, 36, 11, 12,  1, 21, 42]), tensor([38, 10, 45, 16, 17,  3,  6, 10, 31,  4, 13, 28, 15,  2, 39, 42,  0, 44,\n",
      "        25, 22, 46, 40, 34,  7, 18, 23, 21, 35, 17, 36,  8, 32]), tensor([27, 33,  6, 15, 25, 28, 34, 37, 14, 18,  8, 24, 46, 22, 45, 30, 23, 10,\n",
      "        21,  9, 16, 12, 19, 38, 13,  7,  0, 16, 36, 45, 44,  2]), tensor([24, 46, 25,  7, 30, 45,  6,  2, 26, 13,  9,  3,  4, 43, 14,  0, 40, 18,\n",
      "        32, 22, 37, 34, 46, 19, 12, 20, 31, 35, 43, 10, 33, 42]), tensor([11, 28,  0, 12, 37, 19,  5, 45, 40, 14, 27, 38,  6, 16, 39, 45, 23,  1,\n",
      "        36, 31, 46, 45, 43, 17,  9, 46, 42, 38, 18, 15,  7, 13]), tensor([43, 12, 42,  7,  9, 45, 28, 19, 20, 44, 45, 24, 11, 40, 27, 14, 22, 41,\n",
      "         3, 37,  1, 35,  4, 36,  6, 17, 39, 26, 33,  1, 30, 24]), tensor([34, 30, 17,  7,  0, 33, 13, 29, 25, 35, 16, 18, 37,  2, 14,  8, 15, 26,\n",
      "        22, 41, 45, 32, 38, 32, 30,  7,  5, 31,  4, 12, 40, 41]), tensor([ 3, 29, 33, 13, 34, 32, 27, 17,  6, 19, 31, 26,  8, 24, 37, 16, 42, 14,\n",
      "         5, 11, 23,  9, 11, 41, 19, 42,  7, 12, 25, 18, 38, 30]), tensor([18, 46,  9, 43, 23, 25,  8, 18, 10, 11, 42, 39, 34, 12, 17, 29, 13, 12,\n",
      "         2, 20, 14, 37, 12,  1, 24, 38, 33,  5, 31,  1, 15, 28]), tensor([40,  9, 43,  7, 33, 32, 29, 27,  1, 35, 26,  1,  5, 25, 13, 34, 30,  6,\n",
      "        18, 24, 39, 12, 38, 41, 17, 15,  2, 20, 36, 23,  8, 41]), tensor([39, 29,  0,  6, 30, 44,  8,  0, 25,  7, 26, 42, 21, 13, 10, 23, 35, 24,\n",
      "         5, 34,  1, 31, 15,  1, 28, 30, 17, 13, 37, 45, 11, 21]), tensor([14, 29, 20, 16,  6, 32, 31, 16,  0, 36, 18, 26,  9, 39,  1, 34, 28, 45,\n",
      "        13, 25,  4, 40,  3,  5,  8, 15, 42, 46, 22, 12, 35, 36]), tensor([15, 13, 27, 26, 35, 43, 37, 20, 33,  3, 14, 25, 17, 28, 30, 38,  9, 45,\n",
      "         8, 32, 43, 22, 43, 11, 41, 39,  7,  2,  1, 41, 34, 29]), tensor([ 6, 10, 29, 14, 32, 12,  1,  9, 19,  4, 28, 24,  2,  4, 26, 45, 33, 37,\n",
      "         8, 38, 41, 25, 31, 40, 23, 34, 25, 16, 20, 38, 30, 22]), tensor([40, 11, 18, 16,  1, 30, 21, 18, 32,  9, 42, 19, 24, 34, 36,  1, 39, 27,\n",
      "        35, 33, 45, 46,  7, 31, 15, 37,  1,  1, 28,  8,  6,  6]), tensor([40, 24, 12, 32,  5,  0,  7, 10, 46, 25, 42, 33, 30, 17, 30, 10, 23, 21,\n",
      "        11, 44,  8, 14, 43,  4, 26, 37, 10, 23, 19, 34, 38, 16]), tensor([27, 28, 23, 37,  9, 14, 17, 16,  0, 34,  2, 42, 33, 13,  0, 40, 39, 30,\n",
      "        24, 36,  7, 38, 16, 41,  2, 26,  1,  8, 12, 46, 10, 19]), tensor([20, 24, 12, 14, 46,  4, 29,  2, 45, 25, 16,  2, 28, 36, 24, 15, 18, 31,\n",
      "        42, 30, 44, 13, 40, 22, 19, 17, 10, 41, 32, 32,  8, 37]), tensor([ 5, 14,  9, 42, 42, 45, 31, 40, 34, 11,  9, 35,  2, 25, 19, 44, 36, 36,\n",
      "        29, 38,  0, 22, 30, 12, 23, 33,  1, 39, 19, 16, 37, 46]), tensor([36,  7,  5, 43,  1, 42, 33, 45,  2, 46, 26, 40, 38, 38, 37, 12, 25, 30,\n",
      "         4, 10, 39, 13, 12,  9, 11, 31, 45, 19, 34, 35,  8,  6]), tensor([34, 35,  7, 23, 11,  2, 17, 10, 45, 20, 10, 13,  0, 46, 24,  4, 19, 43,\n",
      "        31, 25, 40, 13, 30, 37, 39, 33, 16, 12, 33, 32, 13,  1]), tensor([40, 12, 22, 26, 36,  5, 46,  2,  4,  8, 46, 19, 21, 10,  0, 38, 39, 42,\n",
      "        46,  7, 34, 12, 45, 25, 35, 20, 32,  1, 31, 13,  4, 16]), tensor([ 3, 38,  6,  1, 14, 39,  8, 12, 13,  5, 18, 23,  1, 19, 25, 46, 31, 17,\n",
      "        32, 33,  0,  7, 11, 26, 43, 27, 38,  9, 35,  2, 24, 45]), tensor([24, 15, 11, 41,  1,  8, 11, 43,  0, 35, 34,  5,  6, 45, 10, 23, 20, 40,\n",
      "        38, 46,  4,  7,  2, 16, 32, 39, 37, 21, 39, 19, 26, 12]), tensor([35, 18, 32, 41, 34, 46, 10, 17, 12, 34, 20,  1, 13, 21, 11, 37,  0, 43,\n",
      "        26, 40, 42, 27, 26, 19, 26,  1, 19,  2, 14, 46, 15,  7]), tensor([45, 17, 12, 13, 10,  4, 30, 35, 37, 45, 40,  3, 26,  0, 14, 26, 25, 33,\n",
      "        23, 18, 42, 44, 29, 16, 43,  5,  1, 28, 31, 35, 38, 27]), tensor([14, 27,  8, 13, 33, 39, 21, 17, 45, 12,  1,  9, 26, 11, 22,  0, 20, 40,\n",
      "        10, 37,  6, 14, 30, 29, 24, 37,  1,  1, 28,  5, 46,  2]), tensor([43, 34, 31, 21, 21, 20, 25, 28, 11, 40, 19, 26, 19, 29, 17, 46, 32, 42,\n",
      "        39, 32, 10, 44, 35, 23, 12,  5,  3, 30, 41, 28, 18,  1]), tensor([27,  7, 28, 35, 15, 11, 38, 33, 19, 14,  9, 24,  4, 16, 20,  1, 30,  0,\n",
      "        12, 13, 17, 46,  6, 32, 22, 41, 42,  5, 29,  3, 36, 17]), tensor([36, 46, 13, 27, 23, 33, 34, 45, 14,  0, 29,  7,  3, 19, 24, 16, 31, 28,\n",
      "        16, 35, 43, 38, 26,  1, 10, 37, 12,  8, 39, 46,  9,  1]), tensor([ 1, 34, 12, 29, 46, 36, 37,  5, 10, 24, 33,  9, 44, 26, 40,  6, 11,  2,\n",
      "         3,  8, 31, 18, 30, 32, 27, 38, 25, 15, 15,  1, 39, 28]), tensor([35,  3,  9, 39,  7,  5, 34, 31,  6, 43, 12, 25,  1, 41, 20,  2,  0, 40,\n",
      "        29,  8, 23, 36, 17, 30, 42, 33,  4, 45, 37, 46, 23, 41]), tensor([ 4, 36, 28, 27, 35,  5, 39, 11, 16, 24,  1, 26,  0, 34,  6, 30, 37, 17,\n",
      "        16,  2, 18, 14,  9, 22, 32, 29, 45, 31, 40,  7, 12, 25]), tensor([12, 22, 20, 45, 31, 30, 45, 16, 38, 24, 16, 42, 34, 25,  1, 40, 37,  7,\n",
      "        11, 28, 40, 46,  0, 26, 18, 23, 31,  4,  9, 43, 33,  6]), tensor([44, 16, 29,  0, 33, 12, 28, 13, 10, 21, 21, 36, 15, 32, 14, 45,  1, 37,\n",
      "         4, 35, 45, 39, 13, 14, 43, 34,  7, 19, 46, 26, 11,  8]), tensor([ 1, 30, 38, 30, 17,  6,  1, 28,  3, 26, 13, 14,  6, 33, 43, 39, 19,  9,\n",
      "        23, 27, 23,  2, 22, 37, 31, 24,  7,  5, 29, 40, 24, 35]), tensor([19, 42, 46, 34,  1,  3, 37,  6, 29, 33, 16, 10, 45,  1, 45, 22, 38, 11,\n",
      "         8, 35, 40,  4, 32, 12, 28, 14, 23, 25,  5, 24, 38, 21]), tensor([15,  2, 11,  9, 40, 19, 34, 24, 20,  1, 10, 25, 30, 28,  8, 22, 36, 10,\n",
      "        44, 32, 21, 33, 26, 29, 16, 39, 12, 23, 35, 31, 42, 42]), tensor([18, 38, 46,  8, 44, 27, 26, 42, 39, 32,  9, 16, 13, 28, 33, 21, 29,  8,\n",
      "         5, 26, 34, 43, 35,  0, 14, 12, 10,  6, 40,  7, 18, 24]), tensor([ 3, 36,  6, 30, 29, 17, 18,  2, 32,  1, 33, 42, 22, 13, 31, 40, 27, 10,\n",
      "         9,  1, 43, 17, 26, 46, 14, 39, 25, 31, 20,  4, 19, 45]), tensor([14,  3, 12,  7,  1, 27, 28, 31, 22, 33,  2, 30, 40, 26, 19, 39, 35,  6,\n",
      "        20, 10, 46, 43, 24, 41, 32, 33, 16,  9,  4, 33,  8, 46]), tensor([28, 36,  9, 18, 30, 13, 16,  6, 40, 42, 10, 25, 32, 30, 34, 18, 45, 14,\n",
      "         0, 18, 31, 12, 33, 35, 13,  5, 19, 38, 11, 26,  4, 24]), tensor([13, 34, 39, 22, 14, 31,  5, 36, 42,  9, 42, 17, 32, 16, 41, 10,  1,  3,\n",
      "        38,  0, 42, 12, 11, 17, 26, 12, 21,  7, 20,  4, 15, 39]), tensor([16, 30, 11, 42,  8, 32, 39, 17,  1, 27, 37, 13,  5, 36, 13, 37, 15,  7,\n",
      "        18,  6, 12, 45, 28,  0, 46, 24, 23, 43, 31, 34, 20, 11]), tensor([12, 27, 30, 40, 38, 13, 33, 23, 29, 37, 24, 45, 14,  1, 26, 20])]\n"
     ]
    }
   ],
   "source": [
    "from tqdm.auto import tqdm\n",
    "\n",
    "# 1. Hacer predicciones con el modelo entrenado\n",
    "y_preds = []\n",
    "model.eval()\n",
    "with torch.inference_mode():\n",
    "  for X, y in tqdm(test_dataloader, desc=\"Realizando predicciones...\"):\n",
    "    # Enviar los datos y etiquetas al dispositivo de destino\n",
    "    X, y = X.to(device), y.to(device)\n",
    "    # Realizar la pasada hacia adelante\n",
    "    y_logit = model(X)\n",
    "    # Convertir las predicciones de logits -> probabilidades -> etiquetas\n",
    "    y_pred = torch.softmax(y_logit.squeeze(), dim=0).argmax(dim=1)\n",
    "    # Mover la predicción a CPU para la evaluación\n",
    "    y_preds.append(y_pred.cpu())\n",
    "\n",
    "  # Concatenar la lista de predicciones en un solo tensor\n",
    "  print(y_preds)\n",
    "  y_pred_tensor = torch.cat(y_preds)\n",
    "  y_pred_tensor[:10]\n"
   ]
  },
  {
   "cell_type": "code",
   "execution_count": 179,
   "id": "5e6c60a0-8089-4247-a198-4b4ed3097cf1",
   "metadata": {},
   "outputs": [
    {
     "data": {
      "text/plain": [
       "18800"
      ]
     },
     "execution_count": 179,
     "metadata": {},
     "output_type": "execute_result"
    }
   ],
   "source": [
    "len(y_pred_tensor)"
   ]
  },
  {
   "cell_type": "code",
   "execution_count": 180,
   "id": "0396f951-6ffd-462c-9fdb-52051521f73a",
   "metadata": {},
   "outputs": [
    {
     "name": "stdout",
     "output_type": "stream",
     "text": [
      "mlxtend version: 0.23.4\n"
     ]
    }
   ],
   "source": [
    "# Comprobar si los paquetes necesarios están instalados\n",
    "try:\n",
    "  import torchmetrics, mlxtend\n",
    "  print(f\"mlxtend version: {mlxtend.__version__}\")\n",
    "  assert int(mlxtend.__version__.split(\".\")[1]) >= 19, \"mlxtend version should be 0.19.0 or higher\"\n",
    "\n",
    "except:\n",
    "  !pip install torchmetrics mlxtend --quiet\n",
    "  import torchmetrics, mlxtend\n",
    "  print(f\"mlxtend version: {mlxtend.__version__}\")"
   ]
  },
  {
   "cell_type": "code",
   "execution_count": 181,
   "id": "21e61463-8f3a-4ad5-aadb-537f8e998730",
   "metadata": {},
   "outputs": [
    {
     "name": "stdout",
     "output_type": "stream",
     "text": [
      "0.23.4\n"
     ]
    }
   ],
   "source": [
    "import mlxtend\n",
    "print(mlxtend.__version__)"
   ]
  },
  {
   "cell_type": "code",
   "execution_count": 182,
   "id": "0d4d74dd-2625-48f5-8ac6-623ca7eed0c3",
   "metadata": {},
   "outputs": [
    {
     "data": {
      "text/plain": [
       "['0',\n",
       " '1',\n",
       " '2',\n",
       " '3',\n",
       " '4',\n",
       " '5',\n",
       " '6',\n",
       " '7',\n",
       " '8',\n",
       " '9',\n",
       " 'A',\n",
       " 'B',\n",
       " 'C',\n",
       " 'D',\n",
       " 'E',\n",
       " 'F',\n",
       " 'G',\n",
       " 'H',\n",
       " 'I',\n",
       " 'J',\n",
       " 'K',\n",
       " 'L',\n",
       " 'M',\n",
       " 'N',\n",
       " 'O',\n",
       " 'P',\n",
       " 'Q',\n",
       " 'R',\n",
       " 'S',\n",
       " 'T',\n",
       " 'U',\n",
       " 'V',\n",
       " 'W',\n",
       " 'X',\n",
       " 'Y',\n",
       " 'Z',\n",
       " 'a',\n",
       " 'b',\n",
       " 'd',\n",
       " 'e',\n",
       " 'f',\n",
       " 'g',\n",
       " 'h',\n",
       " 'n',\n",
       " 'q',\n",
       " 'r',\n",
       " 't']"
      ]
     },
     "execution_count": 182,
     "metadata": {},
     "output_type": "execute_result"
    }
   ],
   "source": [
    "class_names"
   ]
  },
  {
   "cell_type": "code",
   "execution_count": 183,
   "id": "2ef8b03b-8e43-402b-8c7d-dc01da22963e",
   "metadata": {},
   "outputs": [
    {
     "data": {
      "text/plain": [
       "tensor([41, 39,  9, 26, 44, 43, 14, 11,  3, 18])"
      ]
     },
     "execution_count": 183,
     "metadata": {},
     "output_type": "execute_result"
    }
   ],
   "source": [
    "y_pred_tensor[:10]"
   ]
  },
  {
   "cell_type": "code",
   "execution_count": 184,
   "id": "fc17b254-cda7-43db-a258-a45928d53d80",
   "metadata": {},
   "outputs": [
    {
     "data": {
      "text/plain": [
       "tensor([41, 39,  9,  ...,  1, 26, 33])"
      ]
     },
     "execution_count": 184,
     "metadata": {},
     "output_type": "execute_result"
    }
   ],
   "source": [
    "test_data.targets"
   ]
  },
  {
   "cell_type": "code",
   "execution_count": 185,
   "id": "5506205d-7108-4430-87cc-360884e30b70",
   "metadata": {},
   "outputs": [
    {
     "data": {
      "image/png": "[encoded data removed]",
      "text/plain": [
       "<Figure size 1000x700 with 1 Axes>"
      ]
     },
     "metadata": {},
     "output_type": "display_data"
    }
   ],
   "source": [
    "from torchmetrics import ConfusionMatrix\n",
    "from mlxtend.plotting import plot_confusion_matrix\n",
    "\n",
    "# Crear instancia y calcular matriz\n",
    "confmat = ConfusionMatrix(task=\"multiclass\", num_classes=len(class_names))\n",
    "confmat_tensor = confmat(preds=y_pred_tensor, target=test_data.targets)\n",
    "\n",
    "# Visualizar\n",
    "fig, ax = plot_confusion_matrix(\n",
    "    conf_mat=confmat_tensor.numpy(),\n",
    "    class_names=class_names,\n",
    "    figsize=(10, 7)\n",
    ")\n"
   ]
  },
  {
   "cell_type": "markdown",
   "id": "0d342307-1c15-4794-824e-0178724ccf86",
   "metadata": {},
   "source": [
    "### Guarda el modelo y cárgalo comprobando que se ha cargado correctamente"
   ]
  },
  {
   "cell_type": "code",
   "execution_count": 187,
   "id": "c7b2fcff-276a-487b-b07d-e207ddcddf86",
   "metadata": {},
   "outputs": [
    {
     "name": "stdout",
     "output_type": "stream",
     "text": [
      "Modelo guardado en models\\03_exercise_model.pth\n"
     ]
    }
   ],
   "source": [
    "from pathlib import Path\n",
    "import torch\n",
    "\n",
    "# Crear carpeta y ruta de guardado\n",
    "MODEL_PATH = Path(\"./models\")\n",
    "MODEL_PATH.mkdir(parents=True, exist_ok=True)\n",
    "MODEL_NAME = \"03_exercise_model.pth\"\n",
    "MODEL_SAVE_PATH = MODEL_PATH / MODEL_NAME\n",
    "\n",
    "# Guardar estado del modelo\n",
    "torch.save(obj=model.state_dict(), f=MODEL_SAVE_PATH)\n",
    "print(f\"Modelo guardado en {MODEL_SAVE_PATH}\")\n"
   ]
  },
  {
   "cell_type": "code",
   "execution_count": 191,
   "id": "277649f5-8a58-4159-8694-9a8965e93d0b",
   "metadata": {},
   "outputs": [
    {
     "data": {
      "text/plain": [
       "EMNISTModel(\n",
       "  (conv_block1): Sequential(\n",
       "    (0): Conv2d(1, 32, kernel_size=(3, 3), stride=(1, 1), padding=(1, 1))\n",
       "    (1): ReLU()\n",
       "    (2): MaxPool2d(kernel_size=2, stride=2, padding=0, dilation=1, ceil_mode=False)\n",
       "  )\n",
       "  (conv_block2): Sequential(\n",
       "    (0): Conv2d(32, 64, kernel_size=(3, 3), stride=(1, 1), padding=(1, 1))\n",
       "    (1): ReLU()\n",
       "    (2): MaxPool2d(kernel_size=2, stride=2, padding=0, dilation=1, ceil_mode=False)\n",
       "  )\n",
       "  (classifier): Sequential(\n",
       "    (0): Flatten(start_dim=1, end_dim=-1)\n",
       "    (1): Linear(in_features=3136, out_features=128, bias=True)\n",
       "    (2): ReLU()\n",
       "    (3): Dropout(p=0.2, inplace=False)\n",
       "    (4): Linear(in_features=128, out_features=47, bias=True)\n",
       "  )\n",
       ")"
      ]
     },
     "execution_count": 191,
     "metadata": {},
     "output_type": "execute_result"
    }
   ],
   "source": [
    "# Instanciar y cargar el modelo previamente definido\n",
    "loaded_model = EMNISTModel(input_shape=1, num_classes=len(class_names))  \n",
    "loaded_model.load_state_dict(torch.load(f=MODEL_SAVE_PATH, weights_only=True))\n",
    "loaded_model.to(device)\n"
   ]
  },
  {
   "cell_type": "code",
   "execution_count": 189,
   "id": "d19d09cf-e88f-4c0a-961b-2e0e95c323ca",
   "metadata": {},
   "outputs": [
    {
     "data": {
      "text/plain": [
       "{'model_name': 'EMNISTModel',\n",
       " 'model_loss': 0.39061155915260315,\n",
       " 'model_acc': 86.36798469387755}"
      ]
     },
     "execution_count": 189,
     "metadata": {},
     "output_type": "execute_result"
    }
   ],
   "source": [
    "model_results"
   ]
  },
  {
   "cell_type": "code",
   "execution_count": 193,
   "id": "540ca109-e635-456f-8920-e4e77017656a",
   "metadata": {},
   "outputs": [
    {
     "data": {
      "application/vnd.jupyter.widget-view+json": {
       "model_id": "15df5328aeee4c5fa1c41bc166a5e0c2",
       "version_major": 2,
       "version_minor": 0
      },
      "text/plain": [
       "  0%|          | 0/588 [00:00<?, ?it/s]"
      ]
     },
     "metadata": {},
     "output_type": "display_data"
    },
    {
     "name": "stdout",
     "output_type": "stream",
     "text": [
      "{'model_name': 'EMNISTModel', 'model_loss': 0.39061155915260315, 'model_acc': 86.36798469387755}\n"
     ]
    }
   ],
   "source": [
    "# Evaluar modelo cargado \n",
    "loaded_model_results = eval_model(\n",
    "    model=loaded_model,\n",
    "    data_loader=test_dataloader,\n",
    "    loss_fn=loss_fn,\n",
    "    accuracy_fn=accuracy_fn\n",
    ")\n",
    "print(loaded_model_results)\n"
   ]
  }
 ],
 "metadata": {
  "kernelspec": {
   "display_name": "Python [conda env:base] *",
   "language": "python",
   "name": "conda-base-py"
  },
  "language_info": {
   "codemirror_mode": {
    "name": "ipython",
    "version": 3
   },
   "file_extension": ".py",
   "mimetype": "text/x-python",
   "name": "python",
   "nbconvert_exporter": "python",
   "pygments_lexer": "ipython3",
   "version": "3.12.7"
  }
 },
 "nbformat": 4,
 "nbformat_minor": 5
}
